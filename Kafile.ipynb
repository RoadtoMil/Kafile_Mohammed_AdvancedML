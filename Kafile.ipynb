{
 "cells": [
  {
   "cell_type": "code",
   "execution_count": 187,
   "id": "8af8c9eb",
   "metadata": {},
   "outputs": [],
   "source": [
    "# Importing packages and functions\n",
    "import numpy as np\n",
    "import pandas as pd\n",
    "import matplotlib.pyplot as plt\n",
    "from sklearn.preprocessing import OneHotEncoder\n",
    "import tensorflow as tf\n",
    "from tensorflow.keras.datasets import mnist\n",
    "from scipy.special import softmax\n",
    "from sklearn.metrics import accuracy_score\n",
    "from sklearn.model_selection import KFold"
   ]
  },
  {
   "cell_type": "markdown",
   "id": "102d9843",
   "metadata": {},
   "source": [
    "# Non-Sparse Case"
   ]
  },
  {
   "cell_type": "markdown",
   "id": "d9d29093",
   "metadata": {},
   "source": [
    "# Utils functions"
   ]
  },
  {
   "cell_type": "code",
   "execution_count": 188,
   "id": "ff3e2462",
   "metadata": {},
   "outputs": [],
   "source": [
    "# Multiclass cross entropy loss function\n",
    "def loss(X, y, params):\n",
    "    N,P=X.shape\n",
    "    K=params.size//(1+P)\n",
    "    b=params[:K]\n",
    "    W=params[K:].reshape(P,K)\n",
    "    loss=0\n",
    "    for i in range(N):\n",
    "        y_i=y[i,:]\n",
    "        index=np.argmax(y_i)\n",
    "        w_i=W[:,index]\n",
    "        b_i=b[index]\n",
    "        loss += -1/N * np.log(np.exp(w_i.T @ X[i,:]+ b_i) / sum(np.exp(W[:,k].T @ X[i,:]+b[k]) for k in range(K)))\n",
    "    return loss"
   ]
  },
  {
   "cell_type": "code",
   "execution_count": 189,
   "id": "c7ea63d7",
   "metadata": {},
   "outputs": [],
   "source": [
    "# Another way of computing loss using the softmax function\n",
    "def compute_loss(X, Y, params):\n",
    "    _, P = X.shape\n",
    "    K = params.size // (1 + P)\n",
    "    b = params[:K]\n",
    "    W = params[K:].reshape(P, K)\n",
    "    Y_proba = softmax(X @ W + b, axis=1)\n",
    "    loss = -np.log(Y_proba[Y == 1]).mean()\n",
    "    return loss"
   ]
  },
  {
   "cell_type": "code",
   "execution_count": 190,
   "id": "d002fa31",
   "metadata": {},
   "outputs": [],
   "source": [
    "# Gradient of the multi class entropy loss\n",
    "def gradient(X, y, params):\n",
    "    K = y.shape[1]\n",
    "    P = (params.size // K) - 1\n",
    "    b = params[:K]\n",
    "    W = params[K:].reshape(P, K)\n",
    "    N=X.shape[0]\n",
    "    grad_W=np.zeros(W.shape)\n",
    "    grad_b=np.zeros(b.shape)\n",
    "    for i in range(N):\n",
    "        y_hat_i = np.array([np.exp(W[:,l].T @ X[i,:]+ b[l])/sum(np.exp(W[:,k].T @ X[i,:]+b[k]) for k in range(K)) for l in range(K)])\n",
    "        grad_W += (1/N) * (X[i,:].reshape(P,1)) @ ((y_hat_i-y[i,:]).reshape(1,K))\n",
    "        grad_b += (1/N) * (y_hat_i-y[i,:])\n",
    "    grad=np.vstack((grad_b, grad_W)).ravel()\n",
    "    return grad"
   ]
  },
  {
   "cell_type": "code",
   "execution_count": 191,
   "id": "5af4da5b",
   "metadata": {},
   "outputs": [],
   "source": [
    "# A vectorized version\n",
    "def gradient_vectorized(X, y, params):\n",
    "    K = y.shape[1]\n",
    "    P = (params.size // K) - 1\n",
    "    b = params[:K]\n",
    "    W = params[K:].reshape(P, K)\n",
    "    N = X.shape[0]\n",
    "    y_hat = np.exp(np.dot(X, W) + b) / np.sum(np.exp(np.dot(X, W) + b), axis=1, keepdims=True)\n",
    "    grad_W = (1/N) * np.dot(X.T, (y_hat - y))\n",
    "    grad_b = (1/N) * np.sum(y_hat - y, axis=0)\n",
    "    grad = np.concatenate([grad_b, grad_W.ravel()])\n",
    "    return grad"
   ]
  },
  {
   "cell_type": "code",
   "execution_count": 192,
   "id": "a39da7c5",
   "metadata": {},
   "outputs": [],
   "source": [
    "# Function that predicts a class for each sample\n",
    "def predict_class(params,X):\n",
    "    _, P = X.shape\n",
    "    K = params.size // (1 + P)\n",
    "    b = params[:K]\n",
    "    W = params[K:].reshape(P, K)\n",
    "    proba_predictions = softmax(X @ W + b, axis=1)\n",
    "    class_predictions = np.argmax(proba_predictions, axis=1)\n",
    "    return class_predictions"
   ]
  },
  {
   "cell_type": "markdown",
   "id": "ac1b710b",
   "metadata": {},
   "source": [
    "# Optimizers"
   ]
  },
  {
   "cell_type": "code",
   "execution_count": 193,
   "id": "62c62788",
   "metadata": {},
   "outputs": [],
   "source": [
    "def adam_optimizer(X, y, theta, l2_penalty=0.1, learning_rate=0.1, beta_1=0.9, beta_2=0.999, epsilon=1e-8, epochs=100):\n",
    "    N,P=X.shape\n",
    "    K=y.shape[1]\n",
    "    m_t=np.zeros(K+K*P)\n",
    "    v_t=np.zeros(K+K*P)\n",
    "    loss=[]\n",
    "    t=0\n",
    "    for i in range(epochs):\n",
    "        t+=1\n",
    "        grad=gradient_vectorized(X,y,theta)+l2_penalty*theta\n",
    "        m_t=beta_1*m_t+(1-beta_1)*grad\n",
    "        v_t=beta_2*v_t+(1-beta_2)*(grad**2)\n",
    "        m_t_hat=m_t/(1-beta_1**t)\n",
    "        v_t_hat=v_t/(1-beta_2**t)\n",
    "        theta=theta-learning_rate*m_t_hat/(np.sqrt(v_t_hat)+epsilon)\n",
    "        loss.append(compute_loss(X, y, theta) + l2_penalty*0.5*np.linalg.norm(theta))\n",
    "    return theta, loss"
   ]
  },
  {
   "cell_type": "code",
   "execution_count": 194,
   "id": "180a661d",
   "metadata": {},
   "outputs": [],
   "source": [
    "def adagrad_optimizer(X, y, theta, l2_penalty=0.001, learning_rate=0.1, epsilon=1e-8, epochs=100):\n",
    "    N,P=X.shape\n",
    "    K=y.shape[1]\n",
    "    gt_square=np.zeros(K+K*P)\n",
    "    loss=[]\n",
    "    for i in range(epochs):\n",
    "        grad=gradient_vectorized(X,y,theta)+l2_penalty*theta\n",
    "        gt_square+=grad**2\n",
    "        theta=theta-learning_rate*grad/(np.sqrt(gt_square)+epsilon)\n",
    "        loss.append(compute_loss(X, y, theta) + l2_penalty*0.5*np.linalg.norm(theta))\n",
    "    return theta,loss"
   ]
  },
  {
   "cell_type": "code",
   "execution_count": 195,
   "id": "935db186",
   "metadata": {},
   "outputs": [],
   "source": [
    "def sgd_optimizer(X, y, theta, l2_penalty=0.1, learning_rate=0.1, momentum=0.9, epochs=100):\n",
    "    _,P=X.shape\n",
    "    K=y.shape[1]\n",
    "    velocity=np.zeros(K+K*P)\n",
    "    loss=[]\n",
    "    for i in range(epochs):\n",
    "        grad = gradient_vectorized(X,y,theta+momentum*velocity)+l2_penalty*theta\n",
    "        velocity = momentum*velocity-learning_rate*grad\n",
    "        theta+= velocity\n",
    "        loss.append(compute_loss(X, y, theta) + l2_penalty*0.5*np.linalg.norm(theta))\n",
    "    return theta,loss"
   ]
  },
  {
   "cell_type": "markdown",
   "id": "eac16f83",
   "metadata": {},
   "source": [
    "# Synthetic data"
   ]
  },
  {
   "cell_type": "code",
   "execution_count": 196,
   "id": "7b02e0a0",
   "metadata": {},
   "outputs": [],
   "source": [
    "def generate_synthetic_data(N, P, K):\n",
    "    \n",
    "    np.random.seed(42)\n",
    "    \n",
    "    X = np.random.randn(N, P)\n",
    "    \n",
    "    theta = np.random.randn(P, K)\n",
    "    \n",
    "    logits = np.dot(X, theta)\n",
    "    \n",
    "    probs=np.exp(logits) / np.sum(np.exp(logits), axis=1, keepdims=True)\n",
    "    \n",
    "    y = np.zeros((N, K))\n",
    "    for i in range(N):\n",
    "        y[i, np.random.choice(K, p=probs[i])] = 1\n",
    "    \n",
    "    return X, y "
   ]
  },
  {
   "cell_type": "code",
   "execution_count": 197,
   "id": "1186e37b",
   "metadata": {},
   "outputs": [],
   "source": [
    "N = 1000  # Number of samples\n",
    "P = 10    # Number of features\n",
    "K = 2     # Number of output dimensions\n",
    "\n",
    "X_synthetic, y_synthetic = generate_synthetic_data(N, P, K)"
   ]
  },
  {
   "cell_type": "code",
   "execution_count": 239,
   "id": "69492cec",
   "metadata": {},
   "outputs": [],
   "source": [
    "# Initialization of weights\n",
    "np.random.seed(42)\n",
    "params=np.random.randn(K+P*K)"
   ]
  },
  {
   "cell_type": "code",
   "execution_count": 232,
   "id": "569d56e3",
   "metadata": {},
   "outputs": [],
   "source": [
    "theta_adam,loss_adam = adam_optimizer(X_synthetic, y_synthetic, params, l2_penalty=0.01, learning_rate=0.1)"
   ]
  },
  {
   "cell_type": "code",
   "execution_count": 233,
   "id": "e2617cfa",
   "metadata": {},
   "outputs": [],
   "source": [
    "theta_adagrad,loss_adagrad = adagrad_optimizer(X_synthetic, y_synthetic, params, l2_penalty=0.01, learning_rate=0.01)"
   ]
  },
  {
   "cell_type": "code",
   "execution_count": 234,
   "id": "4fa4df5f",
   "metadata": {},
   "outputs": [],
   "source": [
    "theta_sgd,loss_sgd = sgd_optimizer(X_synthetic, y_synthetic, params, l2_penalty=0.01, learning_rate=0.01)"
   ]
  },
  {
   "cell_type": "code",
   "execution_count": 235,
   "id": "4a96a35d",
   "metadata": {},
   "outputs": [
    {
     "data": {
      "image/png": "[encoded data removed]",
      "text/plain": [
       "<Figure size 600x400 with 1 Axes>"
      ]
     },
     "metadata": {},
     "output_type": "display_data"
    }
   ],
   "source": [
    "plt.figure(figsize=(6,4))\n",
    "plt.plot(loss_adam, label='Adam')\n",
    "plt.plot(loss_adagrad, label='Adagrad')\n",
    "plt.plot(loss_sgd, label='SGD')\n",
    "plt.xlabel('Epochs')\n",
    "plt.ylabel('Cost')\n",
    "plt.legend()\n",
    "plt.show()"
   ]
  },
  {
   "cell_type": "markdown",
   "id": "4af27b57",
   "metadata": {},
   "source": [
    "We can see that Adam has the best convergence, if we assume that the global minimum is the one achieved by Adam at the end of training, we will plot the evolution of the distance between the optimal parameters to the global minimum through epochs for Adagrad and SGD Nesterov optimizers.\n"
   ]
  },
  {
   "cell_type": "markdown",
   "id": "c646d125",
   "metadata": {},
   "source": [
    "We will modifiy thus a bit the optimizers Adagrad and SGD Nesterov to store the distances between the optimal parameters and the global minimum."
   ]
  },
  {
   "cell_type": "code",
   "execution_count": 236,
   "id": "9b9f407b",
   "metadata": {},
   "outputs": [],
   "source": [
    "theta_min = theta_adam # The global minimum"
   ]
  },
  {
   "cell_type": "code",
   "execution_count": 237,
   "id": "2c607005",
   "metadata": {},
   "outputs": [],
   "source": [
    "def adagrad_bis(X, y, theta, l2_penalty=0.001, learning_rate=0.01, epsilon=1e-8, epochs=100):\n",
    "    N,P=X.shape\n",
    "    K=y.shape[1]\n",
    "    gt_square=np.zeros(K+K*P)\n",
    "    distances=[]\n",
    "    for i in range(epochs):\n",
    "        grad=gradient_vectorized(X,y,theta)+l2_penalty*theta\n",
    "        gt_square+=grad**2\n",
    "        theta=theta-learning_rate*grad/(np.sqrt(gt_square)+epsilon)\n",
    "        distances.append(np.linalg.norm(theta-theta_min))\n",
    "    return distances"
   ]
  },
  {
   "cell_type": "code",
   "execution_count": 238,
   "id": "fc8f0571",
   "metadata": {},
   "outputs": [],
   "source": [
    "def sgd_bis(X, y, theta, l2_penalty=0.1, learning_rate=0.01, momentum=0.9, epochs=100):\n",
    "    _,P=X.shape\n",
    "    K=y.shape[1]\n",
    "    velocity=np.zeros(K+K*P)\n",
    "    distances=[]\n",
    "    for i in range(epochs):\n",
    "        grad = gradient_vectorized(X,y,theta+momentum*velocity)+l2_penalty*theta\n",
    "        velocity = momentum*velocity-learning_rate*grad\n",
    "        theta+= velocity\n",
    "        distances.append(np.linalg.norm(theta-theta_min))\n",
    "    return distances"
   ]
  },
  {
   "cell_type": "code",
   "execution_count": 240,
   "id": "8d6ee413",
   "metadata": {},
   "outputs": [],
   "source": [
    "dist_adagrad = adagrad_bis(X_synthetic, y_synthetic, params)"
   ]
  },
  {
   "cell_type": "code",
   "execution_count": 241,
   "id": "d7e0872e",
   "metadata": {},
   "outputs": [],
   "source": [
    "dist_sgd = sgd_bis(X_synthetic, y_synthetic, params)"
   ]
  },
  {
   "cell_type": "code",
   "execution_count": 242,
   "id": "c8a10669",
   "metadata": {},
   "outputs": [
    {
     "data": {
      "image/png": "[encoded data removed]",
      "text/plain": [
       "<Figure size 600x400 with 1 Axes>"
      ]
     },
     "metadata": {},
     "output_type": "display_data"
    }
   ],
   "source": [
    "plt.figure(figsize=(6,4))\n",
    "plt.plot(dist_adagrad, label='Adagrad')\n",
    "plt.plot(dist_sgd,label='SGD')\n",
    "plt.xlabel('Epochs')\n",
    "plt.ylabel('||xk-x*||2')\n",
    "plt.legend()\n",
    "plt.title('Distance to the global minimum')\n",
    "plt.show()"
   ]
  },
  {
   "cell_type": "markdown",
   "id": "b9afee89",
   "metadata": {},
   "source": [
    "# Real Data"
   ]
  },
  {
   "cell_type": "markdown",
   "id": "5e15ac3d",
   "metadata": {},
   "source": [
    "# Processing"
   ]
  },
  {
   "cell_type": "code",
   "execution_count": 164,
   "id": "3d4e3f35",
   "metadata": {},
   "outputs": [],
   "source": [
    "# Downloading the data\n",
    "(X_train, y_train), (X_test, y_test) = mnist.load_data()"
   ]
  },
  {
   "cell_type": "code",
   "execution_count": 165,
   "id": "4a65f889",
   "metadata": {},
   "outputs": [],
   "source": [
    "# Processing X_train and X_test using min-max normalization\n",
    "X_train=X_train/255\n",
    "X_test=X_test/255"
   ]
  },
  {
   "cell_type": "code",
   "execution_count": 166,
   "id": "3b28463d",
   "metadata": {},
   "outputs": [],
   "source": [
    "X_train_transformed=X_train.reshape(X_train.shape[0],28*28)\n",
    "X_test_transformed=X_test.reshape(X_test.shape[0],28*28)"
   ]
  },
  {
   "cell_type": "code",
   "execution_count": 167,
   "id": "837bef9c",
   "metadata": {},
   "outputs": [
    {
     "name": "stderr",
     "output_type": "stream",
     "text": [
      "C:\\Users\\hp\\anaconda3\\Lib\\site-packages\\sklearn\\preprocessing\\_encoders.py:972: FutureWarning: `sparse` was renamed to `sparse_output` in version 1.2 and will be removed in 1.4. `sparse_output` is ignored unless you leave `sparse` to its default value.\n",
      "  warnings.warn(\n",
      "C:\\Users\\hp\\anaconda3\\Lib\\site-packages\\sklearn\\preprocessing\\_encoders.py:972: FutureWarning: `sparse` was renamed to `sparse_output` in version 1.2 and will be removed in 1.4. `sparse_output` is ignored unless you leave `sparse` to its default value.\n",
      "  warnings.warn(\n"
     ]
    }
   ],
   "source": [
    "# One-hot encoding of the target variable y\n",
    "y_train_reshaped,y_test_reshaped = y_train.reshape(-1, 1),y_test.reshape(-1, 1)\n",
    "encoder = OneHotEncoder(sparse=False, categories='auto')\n",
    "y_train_one_hot,y_test_one_hot = encoder.fit_transform(y_train_reshaped),encoder.fit_transform(y_test_reshaped)"
   ]
  },
  {
   "cell_type": "markdown",
   "id": "b1002700",
   "metadata": {},
   "source": [
    "# Cross validation"
   ]
  },
  {
   "cell_type": "markdown",
   "id": "2c12dcdd",
   "metadata": {},
   "source": [
    "For each of the optimizers we perform a cross-validation to found the best hyperparameters."
   ]
  },
  {
   "cell_type": "code",
   "execution_count": 16,
   "id": "bdbd0115",
   "metadata": {},
   "outputs": [
    {
     "name": "stdout",
     "output_type": "stream",
     "text": [
      "l2_penalty: 0.001,learning_rate: 0.001,Avg Validation Accuracy: 0.14886666666666667\n",
      "l2_penalty: 0.001,learning_rate: 0.01,Avg Validation Accuracy: 0.7739\n",
      "l2_penalty: 0.001,learning_rate: 0.1,Avg Validation Accuracy: 0.90845\n"
     ]
    },
    {
     "name": "stderr",
     "output_type": "stream",
     "text": [
      "C:\\Users\\hp\\AppData\\Local\\Temp\\ipykernel_3268\\3673484487.py:8: RuntimeWarning: overflow encountered in exp\n",
      "  y_hat = np.exp(np.dot(X, W) + b) / np.sum(np.exp(np.dot(X, W) + b), axis=1, keepdims=True)\n",
      "C:\\Users\\hp\\AppData\\Local\\Temp\\ipykernel_3268\\3673484487.py:8: RuntimeWarning: invalid value encountered in divide\n",
      "  y_hat = np.exp(np.dot(X, W) + b) / np.sum(np.exp(np.dot(X, W) + b), axis=1, keepdims=True)\n",
      "C:\\Users\\hp\\AppData\\Local\\Temp\\ipykernel_3268\\3673484487.py:8: RuntimeWarning: overflow encountered in exp\n",
      "  y_hat = np.exp(np.dot(X, W) + b) / np.sum(np.exp(np.dot(X, W) + b), axis=1, keepdims=True)\n",
      "C:\\Users\\hp\\AppData\\Local\\Temp\\ipykernel_3268\\3673484487.py:8: RuntimeWarning: invalid value encountered in divide\n",
      "  y_hat = np.exp(np.dot(X, W) + b) / np.sum(np.exp(np.dot(X, W) + b), axis=1, keepdims=True)\n",
      "C:\\Users\\hp\\AppData\\Local\\Temp\\ipykernel_3268\\3673484487.py:8: RuntimeWarning: overflow encountered in exp\n",
      "  y_hat = np.exp(np.dot(X, W) + b) / np.sum(np.exp(np.dot(X, W) + b), axis=1, keepdims=True)\n",
      "C:\\Users\\hp\\AppData\\Local\\Temp\\ipykernel_3268\\3673484487.py:8: RuntimeWarning: invalid value encountered in divide\n",
      "  y_hat = np.exp(np.dot(X, W) + b) / np.sum(np.exp(np.dot(X, W) + b), axis=1, keepdims=True)\n",
      "C:\\Users\\hp\\AppData\\Local\\Temp\\ipykernel_3268\\3673484487.py:8: RuntimeWarning: overflow encountered in exp\n",
      "  y_hat = np.exp(np.dot(X, W) + b) / np.sum(np.exp(np.dot(X, W) + b), axis=1, keepdims=True)\n",
      "C:\\Users\\hp\\AppData\\Local\\Temp\\ipykernel_3268\\3673484487.py:8: RuntimeWarning: invalid value encountered in divide\n",
      "  y_hat = np.exp(np.dot(X, W) + b) / np.sum(np.exp(np.dot(X, W) + b), axis=1, keepdims=True)\n"
     ]
    },
    {
     "name": "stdout",
     "output_type": "stream",
     "text": [
      "l2_penalty: 0.001,learning_rate: 1.0,Avg Validation Accuracy: 0.24866666666666667\n",
      "l2_penalty: 0.01,learning_rate: 0.001,Avg Validation Accuracy: 0.12768333333333332\n",
      "l2_penalty: 0.01,learning_rate: 0.01,Avg Validation Accuracy: 0.7096166666666667\n",
      "l2_penalty: 0.01,learning_rate: 0.1,Avg Validation Accuracy: 0.8989666666666668\n",
      "l2_penalty: 0.01,learning_rate: 1.0,Avg Validation Accuracy: 0.5805833333333333\n",
      "l2_penalty: 0.1,learning_rate: 0.001,Avg Validation Accuracy: 0.08338333333333334\n",
      "l2_penalty: 0.1,learning_rate: 0.01,Avg Validation Accuracy: 0.35536666666666666\n",
      "l2_penalty: 0.1,learning_rate: 0.1,Avg Validation Accuracy: 0.8608166666666666\n",
      "l2_penalty: 0.1,learning_rate: 1.0,Avg Validation Accuracy: 0.27853333333333335\n",
      "l2_penalty: 1.0,learning_rate: 0.001,Avg Validation Accuracy: 0.07685\n",
      "l2_penalty: 1.0,learning_rate: 0.01,Avg Validation Accuracy: 0.11833333333333332\n",
      "l2_penalty: 1.0,learning_rate: 0.1,Avg Validation Accuracy: 0.7878499999999999\n",
      "l2_penalty: 1.0,learning_rate: 1.0,Avg Validation Accuracy: 0.7853333333333332\n"
     ]
    }
   ],
   "source": [
    "l2_penalties = [0.001, 0.01, 0.1, 1.0]\n",
    "learning_rates=[0.001, 0.01, 0.1, 1.0]\n",
    "k = 5\n",
    "kf = KFold(n_splits=k, shuffle=True, random_state=42)\n",
    "\n",
    "for l2_penalty in l2_penalties:\n",
    "    for learning_rate in learning_rates:\n",
    "        avg_validation_accuracy = 0.0\n",
    "        for train_index, val_index in kf.split(X_train_transformed):\n",
    "            X_train_fold, X_val_fold = X_train_transformed[train_index], X_train_transformed[val_index]\n",
    "            y_train_fold, y_val_fold = y_train_one_hot[train_index], y_train_one_hot[val_index]\n",
    "            P=X_train_fold.shape[1]\n",
    "            K=y_train_one_hot.shape[1]\n",
    "            np.random.seed(42)\n",
    "            theta=np.random.randn(K+P*K)\n",
    "            theta_hat = adam_optimizer(X_train_fold,y_train_fold,theta,l2_penalty,learning_rate)[0]\n",
    "            classe_predictions = predict_class(theta_hat,X_val_fold)\n",
    "            true_classes = np.argmax(y_val_fold, axis=1)\n",
    "            accuracy = accuracy_score(true_classes, classe_predictions)\n",
    "            avg_validation_accuracy+=accuracy\n",
    "        avg_validation_accuracy /= k\n",
    "        print(f\"l2_penalty: {l2_penalty},learning_rate: {learning_rate},Avg Validation Accuracy: {avg_validation_accuracy}\")"
   ]
  },
  {
   "cell_type": "markdown",
   "id": "5fda38f6",
   "metadata": {},
   "source": [
    "The best hyperparameters are l2_penalty=0.001 and learning_rate=0.1."
   ]
  },
  {
   "cell_type": "code",
   "execution_count": 18,
   "id": "08afbb6e",
   "metadata": {
    "scrolled": true
   },
   "outputs": [
    {
     "name": "stdout",
     "output_type": "stream",
     "text": [
      "l2_penalty: 0.001, learning_rate:0.001, Avg Validation Accuracy: 0.08016666666666668\n",
      "l2_penalty: 0.001, learning_rate:0.01, Avg Validation Accuracy: 0.25916666666666666\n",
      "l2_penalty: 0.001, learning_rate:0.1, Avg Validation Accuracy: 0.8265166666666666\n",
      "l2_penalty: 0.001, learning_rate:1.0, Avg Validation Accuracy: 0.78695\n",
      "l2_penalty: 0.01, learning_rate:0.001, Avg Validation Accuracy: 0.07801666666666668\n",
      "l2_penalty: 0.01, learning_rate:0.01, Avg Validation Accuracy: 0.20945\n",
      "l2_penalty: 0.01, learning_rate:0.1, Avg Validation Accuracy: 0.8097166666666666\n",
      "l2_penalty: 0.01, learning_rate:1.0, Avg Validation Accuracy: 0.67\n",
      "l2_penalty: 0.1, learning_rate:0.001, Avg Validation Accuracy: 0.07295\n",
      "l2_penalty: 0.1, learning_rate:0.01, Avg Validation Accuracy: 0.09885000000000001\n",
      "l2_penalty: 0.1, learning_rate:0.1, Avg Validation Accuracy: 0.6316333333333333\n",
      "l2_penalty: 0.1, learning_rate:1.0, Avg Validation Accuracy: 0.4918\n",
      "l2_penalty: 1.0, learning_rate:0.001, Avg Validation Accuracy: 0.07335\n",
      "l2_penalty: 1.0, learning_rate:0.01, Avg Validation Accuracy: 0.08035\n",
      "l2_penalty: 1.0, learning_rate:0.1, Avg Validation Accuracy: 0.18508333333333332\n",
      "l2_penalty: 1.0, learning_rate:1.0, Avg Validation Accuracy: 0.3755333333333334\n"
     ]
    }
   ],
   "source": [
    "l2_penalties = [0.001, 0.01, 0.1, 1.0]\n",
    "learning_rates=[0.001, 0.01, 0.1, 1.0]\n",
    "k = 5\n",
    "kf = KFold(n_splits=k, shuffle=True, random_state=42)\n",
    "\n",
    "for l2_penalty in l2_penalties:\n",
    "    for learning_rate in learning_rates:\n",
    "        avg_validation_accuracy = 0.0\n",
    "\n",
    "        for train_index, val_index in kf.split(X_train_transformed):\n",
    "            X_train_fold, X_val_fold = X_train_transformed[train_index], X_train_transformed[val_index]\n",
    "            y_train_fold, y_val_fold = y_train_one_hot[train_index], y_train_one_hot[val_index]\n",
    "            \n",
    "            P=X_train_fold.shape[1]\n",
    "            K=y_train_one_hot.shape[1]\n",
    "            np.random.seed(42)\n",
    "            theta=np.random.randn(K+P*K)\n",
    "            \n",
    "            theta_hat = adagrad_optimizer(X_train_fold,y_train_fold,theta,l2_penalty,learning_rate)[0]\n",
    "            classe_predictions = predict_class(theta_hat,X_val_fold)\n",
    "            true_classes = np.argmax(y_val_fold, axis=1)\n",
    "            accuracy = accuracy_score(true_classes, classe_predictions)\n",
    "            avg_validation_accuracy+=accuracy\n",
    "            \n",
    "        avg_validation_accuracy /= k\n",
    "        print(f\"l2_penalty: {l2_penalty}, learning_rate:{learning_rate}, Avg Validation Accuracy: {avg_validation_accuracy}\")"
   ]
  },
  {
   "cell_type": "code",
   "execution_count": 21,
   "id": "94796b71",
   "metadata": {},
   "outputs": [
    {
     "name": "stdout",
     "output_type": "stream",
     "text": [
      "l2_penalty: 0.001, learning_rate:0.001, Avg Validation Accuracy: 0.08615\n",
      "l2_penalty: 0.001, learning_rate:0.01, Avg Validation Accuracy: 0.3381\n",
      "l2_penalty: 0.001, learning_rate:0.1, Avg Validation Accuracy: 0.80975\n",
      "l2_penalty: 0.001, learning_rate:1.0, Avg Validation Accuracy: 0.9078666666666667\n",
      "l2_penalty: 0.01, learning_rate:0.001, Avg Validation Accuracy: 0.08625000000000001\n",
      "l2_penalty: 0.01, learning_rate:0.01, Avg Validation Accuracy: 0.35241666666666666\n",
      "l2_penalty: 0.01, learning_rate:0.1, Avg Validation Accuracy: 0.8525833333333335\n",
      "l2_penalty: 0.01, learning_rate:1.0, Avg Validation Accuracy: 0.8696833333333334\n",
      "l2_penalty: 0.1, learning_rate:0.001, Avg Validation Accuracy: 0.08739999999999999\n",
      "l2_penalty: 0.1, learning_rate:0.01, Avg Validation Accuracy: 0.5544666666666667\n",
      "l2_penalty: 0.1, learning_rate:0.1, Avg Validation Accuracy: 0.8607000000000001\n",
      "l2_penalty: 0.1, learning_rate:1.0, Avg Validation Accuracy: 0.3471\n",
      "l2_penalty: 1.0, learning_rate:0.001, Avg Validation Accuracy: 0.10366666666666666\n",
      "l2_penalty: 1.0, learning_rate:0.01, Avg Validation Accuracy: 0.78585\n",
      "l2_penalty: 1.0, learning_rate:0.1, Avg Validation Accuracy: 0.7867666666666666\n",
      "l2_penalty: 1.0, learning_rate:1.0, Avg Validation Accuracy: 0.23976666666666663\n"
     ]
    }
   ],
   "source": [
    "l2_penalties = [0.001, 0.01, 0.1, 1.0]\n",
    "learning_rates=[0.001, 0.01, 0.1, 1.0]\n",
    "k = 5\n",
    "kf = KFold(n_splits=k, shuffle=True, random_state=42)\n",
    "\n",
    "for l2_penalty in l2_penalties:\n",
    "    for learning_rate in learning_rates:\n",
    "        avg_validation_accuracy = 0.0\n",
    "\n",
    "        for train_index, val_index in kf.split(X_train_transformed):\n",
    "            X_train_fold, X_val_fold = X_train_transformed[train_index], X_train_transformed[val_index]\n",
    "            y_train_fold, y_val_fold = y_train_one_hot[train_index], y_train_one_hot[val_index]\n",
    "            \n",
    "            P=X_train_fold.shape[1]\n",
    "            K=y_train_one_hot.shape[1]\n",
    "            np.random.seed(42)\n",
    "            theta=np.random.randn(K+P*K)\n",
    "            \n",
    "            theta_hat = sgd_optimizer(X_train_fold,y_train_fold,theta,l2_penalty,learning_rate)[0]\n",
    "            classe_predictions = predict_class(theta_hat,X_val_fold)\n",
    "            true_classes = np.argmax(y_val_fold, axis=1)\n",
    "            accuracy = accuracy_score(true_classes, classe_predictions)\n",
    "            avg_validation_accuracy+=accuracy\n",
    "            \n",
    "        avg_validation_accuracy /= k\n",
    "        print(f\"l2_penalty: {l2_penalty}, learning_rate:{learning_rate}, Avg Validation Accuracy: {avg_validation_accuracy}\")"
   ]
  },
  {
   "cell_type": "markdown",
   "id": "48efdfa2",
   "metadata": {},
   "source": [
    "# Results"
   ]
  },
  {
   "cell_type": "code",
   "execution_count": 23,
   "id": "64bbee56",
   "metadata": {},
   "outputs": [],
   "source": [
    "# Initialization of random weights\n",
    "P=X_train_transformed.shape[1]\n",
    "K=y_train_one_hot.shape[1]\n",
    "np.random.seed(42)\n",
    "theta=np.random.randn(K+P*K)"
   ]
  },
  {
   "cell_type": "code",
   "execution_count": 15,
   "id": "a3e0462b",
   "metadata": {},
   "outputs": [],
   "source": [
    "theta_adam, loss_adam = adam_optimizer(X_train_transformed, y_train_one_hot, theta, l2_penalty=0.001, learning_rate=0.1)"
   ]
  },
  {
   "cell_type": "code",
   "execution_count": 24,
   "id": "cf89bc06",
   "metadata": {},
   "outputs": [],
   "source": [
    "theta_adagrad, loss_history_adagrad = adagrad_optimizer(X_train_transformed, y_train_one_hot, theta, l2_penalty=0.001, learning_rate=0.1)"
   ]
  },
  {
   "cell_type": "code",
   "execution_count": 27,
   "id": "1fa45507",
   "metadata": {},
   "outputs": [],
   "source": [
    "theta_sgd, loss_sgd = sgd_optimizer(X_train_transformed, y_train_one_hot, theta, l2_penalty=0.001, learning_rate=1.0)"
   ]
  },
  {
   "cell_type": "markdown",
   "id": "4df8fec9",
   "metadata": {},
   "source": [
    "Performance of the stochastic optimmizers on the test set "
   ]
  },
  {
   "cell_type": "code",
   "execution_count": 31,
   "id": "dff6089e",
   "metadata": {},
   "outputs": [],
   "source": [
    "classe_predictions = predict_class(theta_adam,X_test_transformed)\n",
    "true_classes = np.argmax(y_test_one_hot, axis=1)\n",
    "accuracy_adam = accuracy_score(true_classes, classe_predictions)"
   ]
  },
  {
   "cell_type": "code",
   "execution_count": 32,
   "id": "5cad6520",
   "metadata": {},
   "outputs": [
    {
     "data": {
      "text/plain": [
       "0.9161"
      ]
     },
     "execution_count": 32,
     "metadata": {},
     "output_type": "execute_result"
    }
   ],
   "source": [
    "print(accuracy_adam)"
   ]
  },
  {
   "cell_type": "code",
   "execution_count": 33,
   "id": "8251aac7",
   "metadata": {},
   "outputs": [],
   "source": [
    "classe_predictions = predict_class(theta_adagrad,X_test_transformed)\n",
    "true_classes = np.argmax(y_test_one_hot, axis=1)\n",
    "accuracy_adagrad = accuracy_score(true_classes, classe_predictions)"
   ]
  },
  {
   "cell_type": "code",
   "execution_count": 34,
   "id": "0e2db131",
   "metadata": {},
   "outputs": [
    {
     "data": {
      "text/plain": [
       "0.8371"
      ]
     },
     "execution_count": 34,
     "metadata": {},
     "output_type": "execute_result"
    }
   ],
   "source": [
    "print(accuracy_adagrad)"
   ]
  },
  {
   "cell_type": "code",
   "execution_count": 35,
   "id": "c051ee46",
   "metadata": {},
   "outputs": [],
   "source": [
    "classe_predictions = predict_class(theta_sgd,X_test_transformed)\n",
    "true_classes = np.argmax(y_test_one_hot, axis=1)\n",
    "accuracy_sgd = accuracy_score(true_classes, classe_predictions)"
   ]
  },
  {
   "cell_type": "code",
   "execution_count": 36,
   "id": "e13f2f61",
   "metadata": {},
   "outputs": [
    {
     "data": {
      "text/plain": [
       "0.9143"
      ]
     },
     "execution_count": 36,
     "metadata": {},
     "output_type": "execute_result"
    }
   ],
   "source": [
    "print(accuracy_sgd)"
   ]
  },
  {
   "cell_type": "code",
   "execution_count": 39,
   "id": "ad3971c6",
   "metadata": {},
   "outputs": [
    {
     "data": {
      "text/plain": [
       "<matplotlib.legend.Legend at 0x165b49c1550>"
      ]
     },
     "execution_count": 39,
     "metadata": {},
     "output_type": "execute_result"
    },
    {
     "data": {
      "image/png": "[encoded data removed]",
      "text/plain": [
       "<Figure size 600x400 with 1 Axes>"
      ]
     },
     "metadata": {},
     "output_type": "display_data"
    }
   ],
   "source": [
    "plt.figure(figsize=(6,4))\n",
    "plt.plot(loss_adam,label='Adam')\n",
    "plt.plot(loss_adagrad,label='Adagrad')\n",
    "plt.plot(loss_sgd,label='SGD Nesterov')\n",
    "plt.xlabel('Epochs')\n",
    "plt.ylabel('Training cost')\n",
    "plt.title('Training negative log likelihood on MNIST images with L2 regularization')\n",
    "plt.legend()\n",
    "plt.show()"
   ]
  },
  {
   "cell_type": "markdown",
   "id": "05dfadde",
   "metadata": {},
   "source": [
    "# Sparse Case"
   ]
  },
  {
   "cell_type": "code",
   "execution_count": 120,
   "id": "c4b49350",
   "metadata": {},
   "outputs": [
    {
     "name": "stderr",
     "output_type": "stream",
     "text": [
      "[nltk_data] Downloading package punkt to\n",
      "[nltk_data]     C:\\Users\\hp\\AppData\\Roaming\\nltk_data...\n",
      "[nltk_data]   Package punkt is already up-to-date!\n"
     ]
    },
    {
     "data": {
      "text/plain": [
       "True"
      ]
     },
     "execution_count": 120,
     "metadata": {},
     "output_type": "execute_result"
    }
   ],
   "source": [
    "import nltk\n",
    "nltk.download('punkt')"
   ]
  },
  {
   "cell_type": "code",
   "execution_count": 130,
   "id": "b1837aa1",
   "metadata": {},
   "outputs": [],
   "source": [
    "# Importing packages and functions\n",
    "from collections import Counter\n",
    "from nltk.tokenize import word_tokenize\n",
    "from sklearn.model_selection import train_test_split\n",
    "from tensorflow.keras.models import Sequential\n",
    "from tensorflow.keras.layers import Dense\n",
    "from tensorflow.keras import regularizers\n",
    "from tensorflow.keras.optimizers import Adam\n",
    "from tensorflow.keras.callbacks import LearningRateScheduler\n",
    "import math"
   ]
  },
  {
   "cell_type": "code",
   "execution_count": 122,
   "id": "8d19c8c7",
   "metadata": {},
   "outputs": [],
   "source": [
    "# Loading the data\n",
    "df=pd.read_csv('IMDB Dataset.csv')"
   ]
  },
  {
   "cell_type": "code",
   "execution_count": 123,
   "id": "7fbcf321",
   "metadata": {},
   "outputs": [],
   "source": [
    "# reducing the number of samples\n",
    "df=df.iloc[0:40000,:]"
   ]
  },
  {
   "cell_type": "code",
   "execution_count": 124,
   "id": "345f36ee",
   "metadata": {},
   "outputs": [
    {
     "data": {
      "text/html": [
       "<div>\n",
       "<style scoped>\n",
       "    .dataframe tbody tr th:only-of-type {\n",
       "        vertical-align: middle;\n",
       "    }\n",
       "\n",
       "    .dataframe tbody tr th {\n",
       "        vertical-align: top;\n",
       "    }\n",
       "\n",
       "    .dataframe thead th {\n",
       "        text-align: right;\n",
       "    }\n",
       "</style>\n",
       "<table border=\"1\" class=\"dataframe\">\n",
       "  <thead>\n",
       "    <tr style=\"text-align: right;\">\n",
       "      <th></th>\n",
       "      <th>review</th>\n",
       "      <th>sentiment</th>\n",
       "    </tr>\n",
       "  </thead>\n",
       "  <tbody>\n",
       "    <tr>\n",
       "      <th>0</th>\n",
       "      <td>One of the other reviewers has mentioned that ...</td>\n",
       "      <td>positive</td>\n",
       "    </tr>\n",
       "    <tr>\n",
       "      <th>1</th>\n",
       "      <td>A wonderful little production. &lt;br /&gt;&lt;br /&gt;The...</td>\n",
       "      <td>positive</td>\n",
       "    </tr>\n",
       "    <tr>\n",
       "      <th>2</th>\n",
       "      <td>I thought this was a wonderful way to spend ti...</td>\n",
       "      <td>positive</td>\n",
       "    </tr>\n",
       "    <tr>\n",
       "      <th>3</th>\n",
       "      <td>Basically there's a family where a little boy ...</td>\n",
       "      <td>negative</td>\n",
       "    </tr>\n",
       "    <tr>\n",
       "      <th>4</th>\n",
       "      <td>Petter Mattei's \"Love in the Time of Money\" is...</td>\n",
       "      <td>positive</td>\n",
       "    </tr>\n",
       "    <tr>\n",
       "      <th>...</th>\n",
       "      <td>...</td>\n",
       "      <td>...</td>\n",
       "    </tr>\n",
       "    <tr>\n",
       "      <th>39995</th>\n",
       "      <td>This was a marvelously funny comedy with a gre...</td>\n",
       "      <td>positive</td>\n",
       "    </tr>\n",
       "    <tr>\n",
       "      <th>39996</th>\n",
       "      <td>There is no plot. There are no central charact...</td>\n",
       "      <td>positive</td>\n",
       "    </tr>\n",
       "    <tr>\n",
       "      <th>39997</th>\n",
       "      <td>This show is awesome! I love all the actors! I...</td>\n",
       "      <td>positive</td>\n",
       "    </tr>\n",
       "    <tr>\n",
       "      <th>39998</th>\n",
       "      <td>The fact that this movie has been entitled to ...</td>\n",
       "      <td>negative</td>\n",
       "    </tr>\n",
       "    <tr>\n",
       "      <th>39999</th>\n",
       "      <td>I have to confess that I am severely disappoin...</td>\n",
       "      <td>negative</td>\n",
       "    </tr>\n",
       "  </tbody>\n",
       "</table>\n",
       "<p>40000 rows × 2 columns</p>\n",
       "</div>"
      ],
      "text/plain": [
       "                                                  review sentiment\n",
       "0      One of the other reviewers has mentioned that ...  positive\n",
       "1      A wonderful little production. <br /><br />The...  positive\n",
       "2      I thought this was a wonderful way to spend ti...  positive\n",
       "3      Basically there's a family where a little boy ...  negative\n",
       "4      Petter Mattei's \"Love in the Time of Money\" is...  positive\n",
       "...                                                  ...       ...\n",
       "39995  This was a marvelously funny comedy with a gre...  positive\n",
       "39996  There is no plot. There are no central charact...  positive\n",
       "39997  This show is awesome! I love all the actors! I...  positive\n",
       "39998  The fact that this movie has been entitled to ...  negative\n",
       "39999  I have to confess that I am severely disappoin...  negative\n",
       "\n",
       "[40000 rows x 2 columns]"
      ]
     },
     "execution_count": 124,
     "metadata": {},
     "output_type": "execute_result"
    }
   ],
   "source": [
    "df"
   ]
  },
  {
   "cell_type": "code",
   "execution_count": 125,
   "id": "7db23836",
   "metadata": {},
   "outputs": [],
   "source": [
    "X=df['review']\n",
    "y=df['sentiment']"
   ]
  },
  {
   "cell_type": "code",
   "execution_count": 126,
   "id": "2f38e11f",
   "metadata": {},
   "outputs": [
    {
     "data": {
      "text/plain": [
       "review       0\n",
       "sentiment    0\n",
       "dtype: int64"
      ]
     },
     "execution_count": 126,
     "metadata": {},
     "output_type": "execute_result"
    }
   ],
   "source": [
    "# Checking nan-values\n",
    "df.isna().sum()"
   ]
  },
  {
   "cell_type": "markdown",
   "id": "26151764",
   "metadata": {},
   "source": [
    "# Processing"
   ]
  },
  {
   "cell_type": "code",
   "execution_count": 168,
   "id": "aa18cda0",
   "metadata": {},
   "outputs": [],
   "source": [
    "#Encoding of the target variable\n",
    "y=y.replace({\"positive\": 1, \"negative\": 0})"
   ]
  },
  {
   "cell_type": "code",
   "execution_count": 169,
   "id": "93b252b5",
   "metadata": {},
   "outputs": [],
   "source": [
    "# Splitting the data\n",
    "X_train, X_test, y_train, y_test = train_test_split(X, y, test_size=0.2, random_state=42)"
   ]
  },
  {
   "cell_type": "code",
   "execution_count": 170,
   "id": "f0e3161b",
   "metadata": {},
   "outputs": [],
   "source": [
    "# List of the words from all the review\n",
    "all_words = []\n",
    "for review in X:\n",
    "    words = word_tokenize(review.lower())  \n",
    "    all_words.extend(words)"
   ]
  },
  {
   "cell_type": "code",
   "execution_count": 171,
   "id": "05d230af",
   "metadata": {},
   "outputs": [],
   "source": [
    "# Words with length less than 3 \n",
    "special_words=[word for word in all_words if len(word)<=3]"
   ]
  },
  {
   "cell_type": "code",
   "execution_count": 172,
   "id": "5192fe0f",
   "metadata": {},
   "outputs": [],
   "source": [
    "unique_special_words = list(set(special_words))"
   ]
  },
  {
   "cell_type": "code",
   "execution_count": 173,
   "id": "cb7affed",
   "metadata": {},
   "outputs": [],
   "source": [
    "# We restrict to words of lenght greater then 4 \n",
    "all_words = [word for word in all_words if len(word) >= 4]"
   ]
  },
  {
   "cell_type": "code",
   "execution_count": null,
   "id": "32a6dcb7",
   "metadata": {},
   "outputs": [],
   "source": [
    "word_freq = Counter(all_words)"
   ]
  },
  {
   "cell_type": "code",
   "execution_count": null,
   "id": "d628fc7e",
   "metadata": {},
   "outputs": [],
   "source": [
    "# Sorting the words in term of frequency\n",
    "sorted_words = sorted(word_freq.items(), key=lambda x: x[1], reverse=True)"
   ]
  },
  {
   "cell_type": "code",
   "execution_count": null,
   "id": "f4266fb2",
   "metadata": {},
   "outputs": [],
   "source": [
    "# The 10000 most frequent words among the words of all the reviews\n",
    "top_10000_words = [word for word, freq in sorted_words[:10000]]"
   ]
  },
  {
   "cell_type": "code",
   "execution_count": null,
   "id": "2fd6306a",
   "metadata": {},
   "outputs": [],
   "source": [
    "# We apply a dropout noise to avoid overfitting\n",
    "def create_vector(review,top_words,dropout_rate):\n",
    "    feature_vector = np.zeros(len(top_words))\n",
    "    for word in review:\n",
    "        if word in top_words:\n",
    "            random_number = np.random.random()\n",
    "            if random_number < dropout_rate:\n",
    "                feature_vector[top_words.index(word)] = 0\n",
    "            else:\n",
    "                feature_vector[top_words.index(word)] += 1\n",
    "    feature_vector /= len(review)\n",
    "\n",
    "    return feature_vector"
   ]
  },
  {
   "cell_type": "code",
   "execution_count": null,
   "id": "0ea6c659",
   "metadata": {},
   "outputs": [],
   "source": [
    "# Tokenization of the reviews\n",
    "tokenized_X_train = X_train.apply(lambda review: word_tokenize(review.lower()))\n",
    "tokenized_X_test = X_test.apply(lambda review: word_tokenize(review.lower()))"
   ]
  },
  {
   "cell_type": "code",
   "execution_count": null,
   "id": "eea3cfe5",
   "metadata": {},
   "outputs": [],
   "source": [
    "# Processing of X_train\n",
    "dropout_rate = 0.5 # As suggested in the article\n",
    "feature_vectors_train = []\n",
    "for review in tokenized_X_train:\n",
    "    feature_vector = create_vector(review, top_10000_words, dropout_rate)\n",
    "    feature_vectors_train.append(feature_vector)"
   ]
  },
  {
   "cell_type": "code",
   "execution_count": null,
   "id": "14b16acb",
   "metadata": {},
   "outputs": [],
   "source": [
    "# Processing of X_test\n",
    "dropout_rate = 0.5 \n",
    "feature_vectors_test = []\n",
    "for review in tokenized_X_test:\n",
    "    feature_vector = create_vector(review, top_10000_words, dropout_rate)\n",
    "    feature_vectors_test.append(feature_vector)"
   ]
  },
  {
   "cell_type": "code",
   "execution_count": null,
   "id": "c9b0a6aa",
   "metadata": {},
   "outputs": [],
   "source": [
    "x_train, x_test=np.vstack(feature_vectors_train), np.vstack(feature_vectors_test)"
   ]
  },
  {
   "cell_type": "code",
   "execution_count": null,
   "id": "f102e935",
   "metadata": {},
   "outputs": [],
   "source": [
    "y_train_,y_test_ = y_train.to_numpy(),y_test.to_numpy()"
   ]
  },
  {
   "cell_type": "markdown",
   "id": "40a10799",
   "metadata": {},
   "source": [
    "# Modeling"
   ]
  },
  {
   "cell_type": "markdown",
   "id": "2f30197b",
   "metadata": {},
   "source": [
    "Adagrad"
   ]
  },
  {
   "cell_type": "code",
   "execution_count": null,
   "id": "94e7b084",
   "metadata": {},
   "outputs": [],
   "source": [
    "model_adagrad = Sequential([\n",
    "    Dense(1, activation='sigmoid', input_shape=(x_train.shape[1],))])"
   ]
  },
  {
   "cell_type": "code",
   "execution_count": null,
   "id": "7e5a6ab1",
   "metadata": {},
   "outputs": [],
   "source": [
    "optimizer = tf.keras.optimizers.Adagrad(learning_rate=0.1)"
   ]
  },
  {
   "cell_type": "code",
   "execution_count": null,
   "id": "94571c6d",
   "metadata": {},
   "outputs": [],
   "source": [
    "model_adagrad.compile(optimizer=optimizer,\n",
    "              loss='binary_crossentropy',\n",
    "              metrics=['accuracy'])"
   ]
  },
  {
   "cell_type": "code",
   "execution_count": null,
   "id": "9778084e",
   "metadata": {},
   "outputs": [],
   "source": [
    "history_adagrad = model_adagrad.fit(x_train, y_train_, epochs=100, validation_data=(x_test, y_test_))"
   ]
  },
  {
   "cell_type": "code",
   "execution_count": null,
   "id": "d7a83223",
   "metadata": {},
   "outputs": [],
   "source": [
    "train_loss_adagrad = history_adagrad.history['loss']\n",
    "val_accuracy_adagrad = history_adagrad.history['val_accuracy']"
   ]
  },
  {
   "cell_type": "markdown",
   "id": "02e0c3a1",
   "metadata": {},
   "source": [
    "SGD Nesterov"
   ]
  },
  {
   "cell_type": "code",
   "execution_count": null,
   "id": "2a9f8e24",
   "metadata": {},
   "outputs": [],
   "source": [
    "model_sgd = Sequential([\n",
    "    Dense(1, activation='sigmoid', input_shape=(x_train.shape[1],))\n",
    "])"
   ]
  },
  {
   "cell_type": "code",
   "execution_count": null,
   "id": "275ec09a",
   "metadata": {},
   "outputs": [],
   "source": [
    "optimizer = tf.keras.optimizers.SGD(learning_rate=0.1, momentum=0.9, nesterov=True)"
   ]
  },
  {
   "cell_type": "code",
   "execution_count": null,
   "id": "581dbed4",
   "metadata": {},
   "outputs": [],
   "source": [
    "model_sgd.compile(optimizer=optimizer,\n",
    "              loss='binary_crossentropy',\n",
    "              metrics=['accuracy'])"
   ]
  },
  {
   "cell_type": "code",
   "execution_count": null,
   "id": "2ddd5f17",
   "metadata": {},
   "outputs": [],
   "source": [
    "history_sgd = model_sgd.fit(x_train, y_train_, epochs=100, validation_data=(x_test, y_test_))"
   ]
  },
  {
   "cell_type": "code",
   "execution_count": null,
   "id": "775b50fe",
   "metadata": {},
   "outputs": [],
   "source": [
    "history_sgd = model_sgd.fit(x_train, y_train_, epochs=100, validation_data=(x_test, y_test_))"
   ]
  },
  {
   "cell_type": "markdown",
   "id": "3b7d896f",
   "metadata": {},
   "source": [
    "RMSProp"
   ]
  },
  {
   "cell_type": "code",
   "execution_count": null,
   "id": "5c54277d",
   "metadata": {},
   "outputs": [],
   "source": [
    "model_rmsprop = Sequential([\n",
    "    Dense(1, activation='sigmoid', input_shape=(x_train.shape[1],))\n",
    "])"
   ]
  },
  {
   "cell_type": "code",
   "execution_count": null,
   "id": "d3300288",
   "metadata": {},
   "outputs": [],
   "source": [
    "optimizer = tf.keras.optimizers.RMSprop(learning_rate=0.1)"
   ]
  },
  {
   "cell_type": "code",
   "execution_count": null,
   "id": "85766068",
   "metadata": {},
   "outputs": [],
   "source": [
    "model_rmsprop.compile(optimizer=optimizer,\n",
    "              loss='binary_crossentropy',\n",
    "              metrics=['accuracy'])"
   ]
  },
  {
   "cell_type": "code",
   "execution_count": null,
   "id": "c249b1c0",
   "metadata": {},
   "outputs": [],
   "source": [
    "history_rmsprop = model_rmsprop.fit(x_train, y_train_, epochs=100, validation_data=(x_test, y_test_))"
   ]
  },
  {
   "cell_type": "code",
   "execution_count": null,
   "id": "03bc6338",
   "metadata": {},
   "outputs": [],
   "source": [
    "train_loss_rmsprop = history_rmsprop.history['loss']\n",
    "val_accuracy_rmsprop = history_rmsprop.history['val_accuracy']"
   ]
  },
  {
   "cell_type": "markdown",
   "id": "77e0d57a",
   "metadata": {},
   "source": [
    "Adam"
   ]
  },
  {
   "cell_type": "code",
   "execution_count": null,
   "id": "cfb41afd",
   "metadata": {},
   "outputs": [],
   "source": [
    "def sqrt_decay(epoch, lr):\n",
    "    return lr / math.sqrt(epoch + 1)"
   ]
  },
  {
   "cell_type": "code",
   "execution_count": null,
   "id": "02b7c508",
   "metadata": {},
   "outputs": [],
   "source": [
    "model_adam = Sequential([\n",
    "    Dense(1, activation='sigmoid', input_shape=(x_train.shape[1],))\n",
    "])"
   ]
  },
  {
   "cell_type": "code",
   "execution_count": null,
   "id": "e21803e6",
   "metadata": {},
   "outputs": [],
   "source": [
    "beta_1 = 1e-5"
   ]
  },
  {
   "cell_type": "code",
   "execution_count": null,
   "id": "97708ba6",
   "metadata": {},
   "outputs": [],
   "source": [
    "optimizer = Adam(learning_rate=0.1,beta_1=beta_1)"
   ]
  },
  {
   "cell_type": "code",
   "execution_count": null,
   "id": "10513242",
   "metadata": {},
   "outputs": [],
   "source": [
    "model_adam.compile(optimizer=optimizer,\n",
    "              loss='binary_crossentropy',\n",
    "              metrics=['accuracy'])"
   ]
  },
  {
   "cell_type": "code",
   "execution_count": null,
   "id": "104a6346",
   "metadata": {},
   "outputs": [],
   "source": [
    "lr_scheduler = LearningRateScheduler(sqrt_decay)"
   ]
  },
  {
   "cell_type": "code",
   "execution_count": null,
   "id": "10e7bea8",
   "metadata": {},
   "outputs": [],
   "source": [
    "history_adam = model_adam.fit(x_train, y_train_, epochs=100, validation_data=(x_test, y_test_), callbacks=[lr_scheduler])"
   ]
  },
  {
   "cell_type": "code",
   "execution_count": null,
   "id": "8dd985c3",
   "metadata": {},
   "outputs": [],
   "source": [
    "train_loss_adam = history_adam.history['loss']\n",
    "val_accuracy_adam = history_adam.history['val_accuracy']"
   ]
  },
  {
   "cell_type": "code",
   "execution_count": null,
   "id": "1fea0f25",
   "metadata": {},
   "outputs": [],
   "source": [
    "epochs = range(1, len(train_loss_sgd) + 1)\n",
    "plt.plot(epochs, train_loss_sgd, 'r', label='SGD Nesterov')\n",
    "plt.plot(epochs, train_loss_adagrad, 'b', label='Adagrad')\n",
    "plt.plot(epochs, train_loss_rmsprop, 'g', label='RMSProp')\n",
    "plt.plot(epochs, train_loss_adam, 'black', label='Adam')\n",
    "plt.title('Training loss')\n",
    "plt.xlabel('Epochs')\n",
    "plt.ylabel('Loss')\n",
    "plt.legend()\n",
    "plt.show()"
   ]
  },
  {
   "cell_type": "code",
   "execution_count": null,
   "id": "e6b0264b",
   "metadata": {},
   "outputs": [],
   "source": [
    "epochs = range(1, len(train_loss_sgd) + 1)\n",
    "plt.plot(epochs, val_accuracy_sgd, 'r', label='SGD Nesterov')\n",
    "plt.plot(epochs, val_accuracy_adagrad, 'b', label='Adagrad')\n",
    "plt.plot(epochs, val_accuracy_rmsprop, 'g', label='RMSProp')\n",
    "plt.plot(epochs, val_accuracy_adam, 'black', label='Adam')\n",
    "plt.title('Accuracy on validation (test) set')\n",
    "plt.xlabel('Epochs')\n",
    "plt.ylabel('Accuracy')\n",
    "plt.legend()\n",
    "plt.show()"
   ]
  },
  {
   "cell_type": "markdown",
   "id": "878ab4b6",
   "metadata": {},
   "source": [
    "# Influence of the learning rate on accuracy of SGD Nesterov"
   ]
  },
  {
   "cell_type": "code",
   "execution_count": null,
   "id": "3adda98b",
   "metadata": {},
   "outputs": [],
   "source": [
    "grid_rate=[0.005, 0.01, 0.05, 0.1, 1]\n",
    "accuracy=[]\n",
    "for x in grid_rate:\n",
    "    model_sgd = Sequential([\n",
    "    Dense(1, activation='sigmoid', input_shape=(x_train.shape[1],))])\n",
    "    optimizer = tf.keras.optimizers.SGD(learning_rate=x, momentum=0.9, nesterov=True)\n",
    "    model_sgd.compile(optimizer=optimizer,\n",
    "              loss='binary_crossentropy',\n",
    "              metrics=['accuracy'])\n",
    "    history_sgd = model_sgd.fit(x_train, y_train_, epochs=40, validation_data=(x_test, y_test_))\n",
    "    accuracy.append(history_sgd.history['val_accuracy'])"
   ]
  },
  {
   "cell_type": "code",
   "execution_count": null,
   "id": "813f842d",
   "metadata": {},
   "outputs": [],
   "source": [
    "plt.figure(figsize=(6,4))\n",
    "plt.xlabel('Epochs')\n",
    "plt.ylabel('Accuracy')\n",
    "epochs = range(1, len(accuracy[0]) + 1)\n",
    "for i in range(len(accuracy)):\n",
    "    plt.plot(epochs,accuracy[i],label=f'α={grid_rate[i]}')\n",
    "plt.legend()\n",
    "plt.title('Influence of the learning rate on accuracy')\n",
    "plt.show()"
   ]
  }
 ],
 "metadata": {
  "kernelspec": {
   "display_name": "Python 3 (ipykernel)",
   "language": "python",
   "name": "python3"
  },
  "language_info": {
   "codemirror_mode": {
    "name": "ipython",
    "version": 3
   },
   "file_extension": ".py",
   "mimetype": "text/x-python",
   "name": "python",
   "nbconvert_exporter": "python",
   "pygments_lexer": "ipython3",
   "version": "3.11.4"
  }
 },
 "nbformat": 4,
 "nbformat_minor": 5
}
