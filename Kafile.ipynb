{
 "cells": [
  {
   "cell_type": "code",
   "execution_count": 1,
   "id": "8af8c9eb",
   "metadata": {},
   "outputs": [],
   "source": [
    "# Importing packages and functions\n",
    "import numpy as np\n",
    "import pandas as pd\n",
    "import matplotlib.pyplot as plt\n",
    "from sklearn.preprocessing import OneHotEncoder\n",
    "import tensorflow as tf\n",
    "from tensorflow.keras.datasets import mnist\n",
    "from scipy.special import softmax\n",
    "from sklearn.metrics import accuracy_score\n",
    "from sklearn.model_selection import KFold"
   ]
  },
  {
   "cell_type": "markdown",
   "id": "102d9843",
   "metadata": {},
   "source": [
    "# Non-Sparse Case"
   ]
  },
  {
   "cell_type": "markdown",
   "id": "d9d29093",
   "metadata": {},
   "source": [
    "# Utils functions"
   ]
  },
  {
   "cell_type": "code",
   "execution_count": 188,
   "id": "ff3e2462",
   "metadata": {},
   "outputs": [],
   "source": [
    "# Multiclass cross entropy loss function\n",
    "def loss(X, y, params):\n",
    "    N,P=X.shape\n",
    "    K=params.size//(1+P)\n",
    "    b=params[:K]\n",
    "    W=params[K:].reshape(P,K)\n",
    "    loss=0\n",
    "    for i in range(N):\n",
    "        y_i=y[i,:]\n",
    "        index=np.argmax(y_i)\n",
    "        w_i=W[:,index]\n",
    "        b_i=b[index]\n",
    "        loss += -1/N * np.log(np.exp(w_i.T @ X[i,:]+ b_i) / sum(np.exp(W[:,k].T @ X[i,:]+b[k]) for k in range(K)))\n",
    "    return loss"
   ]
  },
  {
   "cell_type": "code",
   "execution_count": 189,
   "id": "c7ea63d7",
   "metadata": {},
   "outputs": [],
   "source": [
    "# Another way of computing loss using the softmax function\n",
    "def compute_loss(X, Y, params):\n",
    "    _, P = X.shape\n",
    "    K = params.size // (1 + P)\n",
    "    b = params[:K]\n",
    "    W = params[K:].reshape(P, K)\n",
    "    Y_proba = softmax(X @ W + b, axis=1)\n",
    "    loss = -np.log(Y_proba[Y == 1]).mean()\n",
    "    return loss"
   ]
  },
  {
   "cell_type": "code",
   "execution_count": 190,
   "id": "d002fa31",
   "metadata": {},
   "outputs": [],
   "source": [
    "# Gradient of the multi class entropy loss\n",
    "def gradient(X, y, params):\n",
    "    K = y.shape[1]\n",
    "    P = (params.size // K) - 1\n",
    "    b = params[:K]\n",
    "    W = params[K:].reshape(P, K)\n",
    "    N=X.shape[0]\n",
    "    grad_W=np.zeros(W.shape)\n",
    "    grad_b=np.zeros(b.shape)\n",
    "    for i in range(N):\n",
    "        y_hat_i = np.array([np.exp(W[:,l].T @ X[i,:]+ b[l])/sum(np.exp(W[:,k].T @ X[i,:]+b[k]) for k in range(K)) for l in range(K)])\n",
    "        grad_W += (1/N) * (X[i,:].reshape(P,1)) @ ((y_hat_i-y[i,:]).reshape(1,K))\n",
    "        grad_b += (1/N) * (y_hat_i-y[i,:])\n",
    "    grad=np.vstack((grad_b, grad_W)).ravel()\n",
    "    return grad"
   ]
  },
  {
   "cell_type": "code",
   "execution_count": 191,
   "id": "5af4da5b",
   "metadata": {},
   "outputs": [],
   "source": [
    "# A vectorized version\n",
    "def gradient_vectorized(X, y, params):\n",
    "    K = y.shape[1]\n",
    "    P = (params.size // K) - 1\n",
    "    b = params[:K]\n",
    "    W = params[K:].reshape(P, K)\n",
    "    N = X.shape[0]\n",
    "    y_hat = np.exp(np.dot(X, W) + b) / np.sum(np.exp(np.dot(X, W) + b), axis=1, keepdims=True)\n",
    "    grad_W = (1/N) * np.dot(X.T, (y_hat - y))\n",
    "    grad_b = (1/N) * np.sum(y_hat - y, axis=0)\n",
    "    grad = np.concatenate([grad_b, grad_W.ravel()])\n",
    "    return grad"
   ]
  },
  {
   "cell_type": "code",
   "execution_count": 192,
   "id": "a39da7c5",
   "metadata": {},
   "outputs": [],
   "source": [
    "# Function that predicts a class for each sample\n",
    "def predict_class(params,X):\n",
    "    _, P = X.shape\n",
    "    K = params.size // (1 + P)\n",
    "    b = params[:K]\n",
    "    W = params[K:].reshape(P, K)\n",
    "    proba_predictions = softmax(X @ W + b, axis=1)\n",
    "    class_predictions = np.argmax(proba_predictions, axis=1)\n",
    "    return class_predictions"
   ]
  },
  {
   "cell_type": "markdown",
   "id": "ac1b710b",
   "metadata": {},
   "source": [
    "# Optimizers"
   ]
  },
  {
   "cell_type": "code",
   "execution_count": 193,
   "id": "62c62788",
   "metadata": {},
   "outputs": [],
   "source": [
    "def adam_optimizer(X, y, theta, l2_penalty=0.1, learning_rate=0.1, beta_1=0.9, beta_2=0.999, epsilon=1e-8, epochs=100):\n",
    "    N,P=X.shape\n",
    "    K=y.shape[1]\n",
    "    m_t=np.zeros(K+K*P)\n",
    "    v_t=np.zeros(K+K*P)\n",
    "    loss=[]\n",
    "    t=0\n",
    "    for i in range(epochs):\n",
    "        t+=1\n",
    "        grad=gradient_vectorized(X,y,theta)+l2_penalty*theta\n",
    "        m_t=beta_1*m_t+(1-beta_1)*grad\n",
    "        v_t=beta_2*v_t+(1-beta_2)*(grad**2)\n",
    "        m_t_hat=m_t/(1-beta_1**t)\n",
    "        v_t_hat=v_t/(1-beta_2**t)\n",
    "        theta=theta-learning_rate*m_t_hat/(np.sqrt(v_t_hat)+epsilon)\n",
    "        loss.append(compute_loss(X, y, theta) + l2_penalty*0.5*np.linalg.norm(theta))\n",
    "    return theta, loss"
   ]
  },
  {
   "cell_type": "code",
   "execution_count": 194,
   "id": "180a661d",
   "metadata": {},
   "outputs": [],
   "source": [
    "def adagrad_optimizer(X, y, theta, l2_penalty=0.001, learning_rate=0.1, epsilon=1e-8, epochs=100):\n",
    "    N,P=X.shape\n",
    "    K=y.shape[1]\n",
    "    gt_square=np.zeros(K+K*P)\n",
    "    loss=[]\n",
    "    for i in range(epochs):\n",
    "        grad=gradient_vectorized(X,y,theta)+l2_penalty*theta\n",
    "        gt_square+=grad**2\n",
    "        theta=theta-learning_rate*grad/(np.sqrt(gt_square)+epsilon)\n",
    "        loss.append(compute_loss(X, y, theta) + l2_penalty*0.5*np.linalg.norm(theta))\n",
    "    return theta,loss"
   ]
  },
  {
   "cell_type": "code",
   "execution_count": 195,
   "id": "935db186",
   "metadata": {},
   "outputs": [],
   "source": [
    "def sgd_optimizer(X, y, theta, l2_penalty=0.1, learning_rate=0.1, momentum=0.9, epochs=100):\n",
    "    _,P=X.shape\n",
    "    K=y.shape[1]\n",
    "    velocity=np.zeros(K+K*P)\n",
    "    loss=[]\n",
    "    for i in range(epochs):\n",
    "        grad = gradient_vectorized(X,y,theta+momentum*velocity)+l2_penalty*theta\n",
    "        velocity = momentum*velocity-learning_rate*grad\n",
    "        theta+= velocity\n",
    "        loss.append(compute_loss(X, y, theta) + l2_penalty*0.5*np.linalg.norm(theta))\n",
    "    return theta,loss"
   ]
  },
  {
   "cell_type": "markdown",
   "id": "eac16f83",
   "metadata": {},
   "source": [
    "# Synthetic data"
   ]
  },
  {
   "cell_type": "code",
   "execution_count": 196,
   "id": "7b02e0a0",
   "metadata": {},
   "outputs": [],
   "source": [
    "def generate_synthetic_data(N, P, K):\n",
    "    \n",
    "    np.random.seed(42)\n",
    "    \n",
    "    X = np.random.randn(N, P)\n",
    "    \n",
    "    theta = np.random.randn(P, K)\n",
    "    \n",
    "    logits = np.dot(X, theta)\n",
    "    \n",
    "    probs=np.exp(logits) / np.sum(np.exp(logits), axis=1, keepdims=True)\n",
    "    \n",
    "    y = np.zeros((N, K))\n",
    "    for i in range(N):\n",
    "        y[i, np.random.choice(K, p=probs[i])] = 1\n",
    "    \n",
    "    return X, y "
   ]
  },
  {
   "cell_type": "code",
   "execution_count": 197,
   "id": "1186e37b",
   "metadata": {},
   "outputs": [],
   "source": [
    "N = 1000  # Number of samples\n",
    "P = 10    # Number of features\n",
    "K = 2     # Number of output dimensions\n",
    "\n",
    "X_synthetic, y_synthetic = generate_synthetic_data(N, P, K)"
   ]
  },
  {
   "cell_type": "code",
   "execution_count": 239,
   "id": "69492cec",
   "metadata": {},
   "outputs": [],
   "source": [
    "# Initialization of weights\n",
    "np.random.seed(42)\n",
    "params=np.random.randn(K+P*K)"
   ]
  },
  {
   "cell_type": "code",
   "execution_count": 232,
   "id": "569d56e3",
   "metadata": {},
   "outputs": [],
   "source": [
    "theta_adam,loss_adam = adam_optimizer(X_synthetic, y_synthetic, params, l2_penalty=0.01, learning_rate=0.1)"
   ]
  },
  {
   "cell_type": "code",
   "execution_count": 233,
   "id": "e2617cfa",
   "metadata": {},
   "outputs": [],
   "source": [
    "theta_adagrad,loss_adagrad = adagrad_optimizer(X_synthetic, y_synthetic, params, l2_penalty=0.01, learning_rate=0.01)"
   ]
  },
  {
   "cell_type": "code",
   "execution_count": 234,
   "id": "4fa4df5f",
   "metadata": {},
   "outputs": [],
   "source": [
    "theta_sgd,loss_sgd = sgd_optimizer(X_synthetic, y_synthetic, params, l2_penalty=0.01, learning_rate=0.01)"
   ]
  },
  {
   "cell_type": "code",
   "execution_count": 235,
   "id": "4a96a35d",
   "metadata": {},
   "outputs": [
    {
     "data": {
      "image/png": "[encoded data removed]",
      "text/plain": [
       "<Figure size 600x400 with 1 Axes>"
      ]
     },
     "metadata": {},
     "output_type": "display_data"
    }
   ],
   "source": [
    "plt.figure(figsize=(6,4))\n",
    "plt.plot(loss_adam, label='Adam')\n",
    "plt.plot(loss_adagrad, label='Adagrad')\n",
    "plt.plot(loss_sgd, label='SGD')\n",
    "plt.xlabel('Epochs')\n",
    "plt.ylabel('Cost')\n",
    "plt.legend()\n",
    "plt.show()"
   ]
  },
  {
   "cell_type": "markdown",
   "id": "4af27b57",
   "metadata": {},
   "source": [
    "We can see that Adam has the best convergence, if we assume that the global minimum is the one achieved by Adam at the end of training, we will plot the evolution of the distance between the optimal parameters to the global minimum through epochs for Adagrad and SGD Nesterov optimizers.\n"
   ]
  },
  {
   "cell_type": "markdown",
   "id": "c646d125",
   "metadata": {},
   "source": [
    "We will modifiy thus a bit the optimizers Adagrad and SGD Nesterov to store the distances between the optimal parameters and the global minimum."
   ]
  },
  {
   "cell_type": "code",
   "execution_count": 236,
   "id": "9b9f407b",
   "metadata": {},
   "outputs": [],
   "source": [
    "theta_min = theta_adam # The global minimum"
   ]
  },
  {
   "cell_type": "code",
   "execution_count": 237,
   "id": "2c607005",
   "metadata": {},
   "outputs": [],
   "source": [
    "def adagrad_bis(X, y, theta, l2_penalty=0.001, learning_rate=0.01, epsilon=1e-8, epochs=100):\n",
    "    N,P=X.shape\n",
    "    K=y.shape[1]\n",
    "    gt_square=np.zeros(K+K*P)\n",
    "    distances=[]\n",
    "    for i in range(epochs):\n",
    "        grad=gradient_vectorized(X,y,theta)+l2_penalty*theta\n",
    "        gt_square+=grad**2\n",
    "        theta=theta-learning_rate*grad/(np.sqrt(gt_square)+epsilon)\n",
    "        distances.append(np.linalg.norm(theta-theta_min))\n",
    "    return distances"
   ]
  },
  {
   "cell_type": "code",
   "execution_count": 238,
   "id": "fc8f0571",
   "metadata": {},
   "outputs": [],
   "source": [
    "def sgd_bis(X, y, theta, l2_penalty=0.1, learning_rate=0.01, momentum=0.9, epochs=100):\n",
    "    _,P=X.shape\n",
    "    K=y.shape[1]\n",
    "    velocity=np.zeros(K+K*P)\n",
    "    distances=[]\n",
    "    for i in range(epochs):\n",
    "        grad = gradient_vectorized(X,y,theta+momentum*velocity)+l2_penalty*theta\n",
    "        velocity = momentum*velocity-learning_rate*grad\n",
    "        theta+= velocity\n",
    "        distances.append(np.linalg.norm(theta-theta_min))\n",
    "    return distances"
   ]
  },
  {
   "cell_type": "code",
   "execution_count": 240,
   "id": "8d6ee413",
   "metadata": {},
   "outputs": [],
   "source": [
    "dist_adagrad = adagrad_bis(X_synthetic, y_synthetic, params)"
   ]
  },
  {
   "cell_type": "code",
   "execution_count": 241,
   "id": "d7e0872e",
   "metadata": {},
   "outputs": [],
   "source": [
    "dist_sgd = sgd_bis(X_synthetic, y_synthetic, params)"
   ]
  },
  {
   "cell_type": "code",
   "execution_count": 242,
   "id": "c8a10669",
   "metadata": {},
   "outputs": [
    {
     "data": {
      "image/png": "[encoded data removed]",
      "text/plain": [
       "<Figure size 600x400 with 1 Axes>"
      ]
     },
     "metadata": {},
     "output_type": "display_data"
    }
   ],
   "source": [
    "plt.figure(figsize=(6,4))\n",
    "plt.plot(dist_adagrad, label='Adagrad')\n",
    "plt.plot(dist_sgd,label='SGD')\n",
    "plt.xlabel('Epochs')\n",
    "plt.ylabel('||xk-x*||2')\n",
    "plt.legend()\n",
    "plt.title('Distance to the global minimum')\n",
    "plt.show()"
   ]
  },
  {
   "cell_type": "markdown",
   "id": "b9afee89",
   "metadata": {},
   "source": [
    "# Real Data"
   ]
  },
  {
   "cell_type": "markdown",
   "id": "5e15ac3d",
   "metadata": {},
   "source": [
    "# Processing"
   ]
  },
  {
   "cell_type": "code",
   "execution_count": 164,
   "id": "3d4e3f35",
   "metadata": {},
   "outputs": [],
   "source": [
    "# Downloading the data\n",
    "(X_train, y_train), (X_test, y_test) = mnist.load_data()"
   ]
  },
  {
   "cell_type": "code",
   "execution_count": 165,
   "id": "4a65f889",
   "metadata": {},
   "outputs": [],
   "source": [
    "# Processing X_train and X_test using min-max normalization\n",
    "X_train=X_train/255\n",
    "X_test=X_test/255"
   ]
  },
  {
   "cell_type": "code",
   "execution_count": 166,
   "id": "3b28463d",
   "metadata": {},
   "outputs": [],
   "source": [
    "X_train_transformed=X_train.reshape(X_train.shape[0],28*28)\n",
    "X_test_transformed=X_test.reshape(X_test.shape[0],28*28)"
   ]
  },
  {
   "cell_type": "code",
   "execution_count": 167,
   "id": "837bef9c",
   "metadata": {},
   "outputs": [
    {
     "name": "stderr",
     "output_type": "stream",
     "text": [
      "C:\\Users\\hp\\anaconda3\\Lib\\site-packages\\sklearn\\preprocessing\\_encoders.py:972: FutureWarning: `sparse` was renamed to `sparse_output` in version 1.2 and will be removed in 1.4. `sparse_output` is ignored unless you leave `sparse` to its default value.\n",
      "  warnings.warn(\n",
      "C:\\Users\\hp\\anaconda3\\Lib\\site-packages\\sklearn\\preprocessing\\_encoders.py:972: FutureWarning: `sparse` was renamed to `sparse_output` in version 1.2 and will be removed in 1.4. `sparse_output` is ignored unless you leave `sparse` to its default value.\n",
      "  warnings.warn(\n"
     ]
    }
   ],
   "source": [
    "# One-hot encoding of the target variable y\n",
    "y_train_reshaped,y_test_reshaped = y_train.reshape(-1, 1),y_test.reshape(-1, 1)\n",
    "encoder = OneHotEncoder(sparse=False, categories='auto')\n",
    "y_train_one_hot,y_test_one_hot = encoder.fit_transform(y_train_reshaped),encoder.fit_transform(y_test_reshaped)"
   ]
  },
  {
   "cell_type": "markdown",
   "id": "b1002700",
   "metadata": {},
   "source": [
    "# Cross validation"
   ]
  },
  {
   "cell_type": "markdown",
   "id": "2c12dcdd",
   "metadata": {},
   "source": [
    "For each of the optimizers we perform a cross-validation to found the best hyperparameters."
   ]
  },
  {
   "cell_type": "code",
   "execution_count": 16,
   "id": "bdbd0115",
   "metadata": {},
   "outputs": [
    {
     "name": "stdout",
     "output_type": "stream",
     "text": [
      "l2_penalty: 0.001,learning_rate: 0.001,Avg Validation Accuracy: 0.14886666666666667\n",
      "l2_penalty: 0.001,learning_rate: 0.01,Avg Validation Accuracy: 0.7739\n",
      "l2_penalty: 0.001,learning_rate: 0.1,Avg Validation Accuracy: 0.90845\n"
     ]
    },
    {
     "name": "stderr",
     "output_type": "stream",
     "text": [
      "C:\\Users\\hp\\AppData\\Local\\Temp\\ipykernel_3268\\3673484487.py:8: RuntimeWarning: overflow encountered in exp\n",
      "  y_hat = np.exp(np.dot(X, W) + b) / np.sum(np.exp(np.dot(X, W) + b), axis=1, keepdims=True)\n",
      "C:\\Users\\hp\\AppData\\Local\\Temp\\ipykernel_3268\\3673484487.py:8: RuntimeWarning: invalid value encountered in divide\n",
      "  y_hat = np.exp(np.dot(X, W) + b) / np.sum(np.exp(np.dot(X, W) + b), axis=1, keepdims=True)\n",
      "C:\\Users\\hp\\AppData\\Local\\Temp\\ipykernel_3268\\3673484487.py:8: RuntimeWarning: overflow encountered in exp\n",
      "  y_hat = np.exp(np.dot(X, W) + b) / np.sum(np.exp(np.dot(X, W) + b), axis=1, keepdims=True)\n",
      "C:\\Users\\hp\\AppData\\Local\\Temp\\ipykernel_3268\\3673484487.py:8: RuntimeWarning: invalid value encountered in divide\n",
      "  y_hat = np.exp(np.dot(X, W) + b) / np.sum(np.exp(np.dot(X, W) + b), axis=1, keepdims=True)\n",
      "C:\\Users\\hp\\AppData\\Local\\Temp\\ipykernel_3268\\3673484487.py:8: RuntimeWarning: overflow encountered in exp\n",
      "  y_hat = np.exp(np.dot(X, W) + b) / np.sum(np.exp(np.dot(X, W) + b), axis=1, keepdims=True)\n",
      "C:\\Users\\hp\\AppData\\Local\\Temp\\ipykernel_3268\\3673484487.py:8: RuntimeWarning: invalid value encountered in divide\n",
      "  y_hat = np.exp(np.dot(X, W) + b) / np.sum(np.exp(np.dot(X, W) + b), axis=1, keepdims=True)\n",
      "C:\\Users\\hp\\AppData\\Local\\Temp\\ipykernel_3268\\3673484487.py:8: RuntimeWarning: overflow encountered in exp\n",
      "  y_hat = np.exp(np.dot(X, W) + b) / np.sum(np.exp(np.dot(X, W) + b), axis=1, keepdims=True)\n",
      "C:\\Users\\hp\\AppData\\Local\\Temp\\ipykernel_3268\\3673484487.py:8: RuntimeWarning: invalid value encountered in divide\n",
      "  y_hat = np.exp(np.dot(X, W) + b) / np.sum(np.exp(np.dot(X, W) + b), axis=1, keepdims=True)\n"
     ]
    },
    {
     "name": "stdout",
     "output_type": "stream",
     "text": [
      "l2_penalty: 0.001,learning_rate: 1.0,Avg Validation Accuracy: 0.24866666666666667\n",
      "l2_penalty: 0.01,learning_rate: 0.001,Avg Validation Accuracy: 0.12768333333333332\n",
      "l2_penalty: 0.01,learning_rate: 0.01,Avg Validation Accuracy: 0.7096166666666667\n",
      "l2_penalty: 0.01,learning_rate: 0.1,Avg Validation Accuracy: 0.8989666666666668\n",
      "l2_penalty: 0.01,learning_rate: 1.0,Avg Validation Accuracy: 0.5805833333333333\n",
      "l2_penalty: 0.1,learning_rate: 0.001,Avg Validation Accuracy: 0.08338333333333334\n",
      "l2_penalty: 0.1,learning_rate: 0.01,Avg Validation Accuracy: 0.35536666666666666\n",
      "l2_penalty: 0.1,learning_rate: 0.1,Avg Validation Accuracy: 0.8608166666666666\n",
      "l2_penalty: 0.1,learning_rate: 1.0,Avg Validation Accuracy: 0.27853333333333335\n",
      "l2_penalty: 1.0,learning_rate: 0.001,Avg Validation Accuracy: 0.07685\n",
      "l2_penalty: 1.0,learning_rate: 0.01,Avg Validation Accuracy: 0.11833333333333332\n",
      "l2_penalty: 1.0,learning_rate: 0.1,Avg Validation Accuracy: 0.7878499999999999\n",
      "l2_penalty: 1.0,learning_rate: 1.0,Avg Validation Accuracy: 0.7853333333333332\n"
     ]
    }
   ],
   "source": [
    "l2_penalties = [0.001, 0.01, 0.1, 1.0]\n",
    "learning_rates=[0.001, 0.01, 0.1, 1.0]\n",
    "k = 5\n",
    "kf = KFold(n_splits=k, shuffle=True, random_state=42)\n",
    "\n",
    "for l2_penalty in l2_penalties:\n",
    "    for learning_rate in learning_rates:\n",
    "        avg_validation_accuracy = 0.0\n",
    "        for train_index, val_index in kf.split(X_train_transformed):\n",
    "            X_train_fold, X_val_fold = X_train_transformed[train_index], X_train_transformed[val_index]\n",
    "            y_train_fold, y_val_fold = y_train_one_hot[train_index], y_train_one_hot[val_index]\n",
    "            P=X_train_fold.shape[1]\n",
    "            K=y_train_one_hot.shape[1]\n",
    "            np.random.seed(42)\n",
    "            theta=np.random.randn(K+P*K)\n",
    "            theta_hat = adam_optimizer(X_train_fold,y_train_fold,theta,l2_penalty,learning_rate)[0]\n",
    "            classe_predictions = predict_class(theta_hat,X_val_fold)\n",
    "            true_classes = np.argmax(y_val_fold, axis=1)\n",
    "            accuracy = accuracy_score(true_classes, classe_predictions)\n",
    "            avg_validation_accuracy+=accuracy\n",
    "        avg_validation_accuracy /= k\n",
    "        print(f\"l2_penalty: {l2_penalty},learning_rate: {learning_rate},Avg Validation Accuracy: {avg_validation_accuracy}\")"
   ]
  },
  {
   "cell_type": "markdown",
   "id": "5fda38f6",
   "metadata": {},
   "source": [
    "The best hyperparameters are l2_penalty=0.001 and learning_rate=0.1."
   ]
  },
  {
   "cell_type": "code",
   "execution_count": 18,
   "id": "08afbb6e",
   "metadata": {
    "scrolled": true
   },
   "outputs": [
    {
     "name": "stdout",
     "output_type": "stream",
     "text": [
      "l2_penalty: 0.001, learning_rate:0.001, Avg Validation Accuracy: 0.08016666666666668\n",
      "l2_penalty: 0.001, learning_rate:0.01, Avg Validation Accuracy: 0.25916666666666666\n",
      "l2_penalty: 0.001, learning_rate:0.1, Avg Validation Accuracy: 0.8265166666666666\n",
      "l2_penalty: 0.001, learning_rate:1.0, Avg Validation Accuracy: 0.78695\n",
      "l2_penalty: 0.01, learning_rate:0.001, Avg Validation Accuracy: 0.07801666666666668\n",
      "l2_penalty: 0.01, learning_rate:0.01, Avg Validation Accuracy: 0.20945\n",
      "l2_penalty: 0.01, learning_rate:0.1, Avg Validation Accuracy: 0.8097166666666666\n",
      "l2_penalty: 0.01, learning_rate:1.0, Avg Validation Accuracy: 0.67\n",
      "l2_penalty: 0.1, learning_rate:0.001, Avg Validation Accuracy: 0.07295\n",
      "l2_penalty: 0.1, learning_rate:0.01, Avg Validation Accuracy: 0.09885000000000001\n",
      "l2_penalty: 0.1, learning_rate:0.1, Avg Validation Accuracy: 0.6316333333333333\n",
      "l2_penalty: 0.1, learning_rate:1.0, Avg Validation Accuracy: 0.4918\n",
      "l2_penalty: 1.0, learning_rate:0.001, Avg Validation Accuracy: 0.07335\n",
      "l2_penalty: 1.0, learning_rate:0.01, Avg Validation Accuracy: 0.08035\n",
      "l2_penalty: 1.0, learning_rate:0.1, Avg Validation Accuracy: 0.18508333333333332\n",
      "l2_penalty: 1.0, learning_rate:1.0, Avg Validation Accuracy: 0.3755333333333334\n"
     ]
    }
   ],
   "source": [
    "l2_penalties = [0.001, 0.01, 0.1, 1.0]\n",
    "learning_rates=[0.001, 0.01, 0.1, 1.0]\n",
    "k = 5\n",
    "kf = KFold(n_splits=k, shuffle=True, random_state=42)\n",
    "\n",
    "for l2_penalty in l2_penalties:\n",
    "    for learning_rate in learning_rates:\n",
    "        avg_validation_accuracy = 0.0\n",
    "\n",
    "        for train_index, val_index in kf.split(X_train_transformed):\n",
    "            X_train_fold, X_val_fold = X_train_transformed[train_index], X_train_transformed[val_index]\n",
    "            y_train_fold, y_val_fold = y_train_one_hot[train_index], y_train_one_hot[val_index]\n",
    "            \n",
    "            P=X_train_fold.shape[1]\n",
    "            K=y_train_one_hot.shape[1]\n",
    "            np.random.seed(42)\n",
    "            theta=np.random.randn(K+P*K)\n",
    "            \n",
    "            theta_hat = adagrad_optimizer(X_train_fold,y_train_fold,theta,l2_penalty,learning_rate)[0]\n",
    "            classe_predictions = predict_class(theta_hat,X_val_fold)\n",
    "            true_classes = np.argmax(y_val_fold, axis=1)\n",
    "            accuracy = accuracy_score(true_classes, classe_predictions)\n",
    "            avg_validation_accuracy+=accuracy\n",
    "            \n",
    "        avg_validation_accuracy /= k\n",
    "        print(f\"l2_penalty: {l2_penalty}, learning_rate:{learning_rate}, Avg Validation Accuracy: {avg_validation_accuracy}\")"
   ]
  },
  {
   "cell_type": "code",
   "execution_count": 21,
   "id": "94796b71",
   "metadata": {},
   "outputs": [
    {
     "name": "stdout",
     "output_type": "stream",
     "text": [
      "l2_penalty: 0.001, learning_rate:0.001, Avg Validation Accuracy: 0.08615\n",
      "l2_penalty: 0.001, learning_rate:0.01, Avg Validation Accuracy: 0.3381\n",
      "l2_penalty: 0.001, learning_rate:0.1, Avg Validation Accuracy: 0.80975\n",
      "l2_penalty: 0.001, learning_rate:1.0, Avg Validation Accuracy: 0.9078666666666667\n",
      "l2_penalty: 0.01, learning_rate:0.001, Avg Validation Accuracy: 0.08625000000000001\n",
      "l2_penalty: 0.01, learning_rate:0.01, Avg Validation Accuracy: 0.35241666666666666\n",
      "l2_penalty: 0.01, learning_rate:0.1, Avg Validation Accuracy: 0.8525833333333335\n",
      "l2_penalty: 0.01, learning_rate:1.0, Avg Validation Accuracy: 0.8696833333333334\n",
      "l2_penalty: 0.1, learning_rate:0.001, Avg Validation Accuracy: 0.08739999999999999\n",
      "l2_penalty: 0.1, learning_rate:0.01, Avg Validation Accuracy: 0.5544666666666667\n",
      "l2_penalty: 0.1, learning_rate:0.1, Avg Validation Accuracy: 0.8607000000000001\n",
      "l2_penalty: 0.1, learning_rate:1.0, Avg Validation Accuracy: 0.3471\n",
      "l2_penalty: 1.0, learning_rate:0.001, Avg Validation Accuracy: 0.10366666666666666\n",
      "l2_penalty: 1.0, learning_rate:0.01, Avg Validation Accuracy: 0.78585\n",
      "l2_penalty: 1.0, learning_rate:0.1, Avg Validation Accuracy: 0.7867666666666666\n",
      "l2_penalty: 1.0, learning_rate:1.0, Avg Validation Accuracy: 0.23976666666666663\n"
     ]
    }
   ],
   "source": [
    "l2_penalties = [0.001, 0.01, 0.1, 1.0]\n",
    "learning_rates=[0.001, 0.01, 0.1, 1.0]\n",
    "k = 5\n",
    "kf = KFold(n_splits=k, shuffle=True, random_state=42)\n",
    "\n",
    "for l2_penalty in l2_penalties:\n",
    "    for learning_rate in learning_rates:\n",
    "        avg_validation_accuracy = 0.0\n",
    "\n",
    "        for train_index, val_index in kf.split(X_train_transformed):\n",
    "            X_train_fold, X_val_fold = X_train_transformed[train_index], X_train_transformed[val_index]\n",
    "            y_train_fold, y_val_fold = y_train_one_hot[train_index], y_train_one_hot[val_index]\n",
    "            \n",
    "            P=X_train_fold.shape[1]\n",
    "            K=y_train_one_hot.shape[1]\n",
    "            np.random.seed(42)\n",
    "            theta=np.random.randn(K+P*K)\n",
    "            \n",
    "            theta_hat = sgd_optimizer(X_train_fold,y_train_fold,theta,l2_penalty,learning_rate)[0]\n",
    "            classe_predictions = predict_class(theta_hat,X_val_fold)\n",
    "            true_classes = np.argmax(y_val_fold, axis=1)\n",
    "            accuracy = accuracy_score(true_classes, classe_predictions)\n",
    "            avg_validation_accuracy+=accuracy\n",
    "            \n",
    "        avg_validation_accuracy /= k\n",
    "        print(f\"l2_penalty: {l2_penalty}, learning_rate:{learning_rate}, Avg Validation Accuracy: {avg_validation_accuracy}\")"
   ]
  },
  {
   "cell_type": "markdown",
   "id": "48efdfa2",
   "metadata": {},
   "source": [
    "# Results"
   ]
  },
  {
   "cell_type": "code",
   "execution_count": 23,
   "id": "64bbee56",
   "metadata": {},
   "outputs": [],
   "source": [
    "# Initialization of random weights\n",
    "P=X_train_transformed.shape[1]\n",
    "K=y_train_one_hot.shape[1]\n",
    "np.random.seed(42)\n",
    "theta=np.random.randn(K+P*K)"
   ]
  },
  {
   "cell_type": "code",
   "execution_count": 15,
   "id": "a3e0462b",
   "metadata": {},
   "outputs": [],
   "source": [
    "theta_adam, loss_adam = adam_optimizer(X_train_transformed, y_train_one_hot, theta, l2_penalty=0.001, learning_rate=0.1)"
   ]
  },
  {
   "cell_type": "code",
   "execution_count": 24,
   "id": "cf89bc06",
   "metadata": {},
   "outputs": [],
   "source": [
    "theta_adagrad, loss_history_adagrad = adagrad_optimizer(X_train_transformed, y_train_one_hot, theta, l2_penalty=0.001, learning_rate=0.1)"
   ]
  },
  {
   "cell_type": "code",
   "execution_count": 27,
   "id": "1fa45507",
   "metadata": {},
   "outputs": [],
   "source": [
    "theta_sgd, loss_sgd = sgd_optimizer(X_train_transformed, y_train_one_hot, theta, l2_penalty=0.001, learning_rate=1.0)"
   ]
  },
  {
   "cell_type": "markdown",
   "id": "4df8fec9",
   "metadata": {},
   "source": [
    "Performance of the stochastic optimmizers on the test set "
   ]
  },
  {
   "cell_type": "code",
   "execution_count": 31,
   "id": "dff6089e",
   "metadata": {},
   "outputs": [],
   "source": [
    "classe_predictions = predict_class(theta_adam,X_test_transformed)\n",
    "true_classes = np.argmax(y_test_one_hot, axis=1)\n",
    "accuracy_adam = accuracy_score(true_classes, classe_predictions)"
   ]
  },
  {
   "cell_type": "code",
   "execution_count": 32,
   "id": "5cad6520",
   "metadata": {},
   "outputs": [
    {
     "data": {
      "text/plain": [
       "0.9161"
      ]
     },
     "execution_count": 32,
     "metadata": {},
     "output_type": "execute_result"
    }
   ],
   "source": [
    "print(accuracy_adam)"
   ]
  },
  {
   "cell_type": "code",
   "execution_count": 33,
   "id": "8251aac7",
   "metadata": {},
   "outputs": [],
   "source": [
    "classe_predictions = predict_class(theta_adagrad,X_test_transformed)\n",
    "true_classes = np.argmax(y_test_one_hot, axis=1)\n",
    "accuracy_adagrad = accuracy_score(true_classes, classe_predictions)"
   ]
  },
  {
   "cell_type": "code",
   "execution_count": 34,
   "id": "0e2db131",
   "metadata": {},
   "outputs": [
    {
     "data": {
      "text/plain": [
       "0.8371"
      ]
     },
     "execution_count": 34,
     "metadata": {},
     "output_type": "execute_result"
    }
   ],
   "source": [
    "print(accuracy_adagrad)"
   ]
  },
  {
   "cell_type": "code",
   "execution_count": 35,
   "id": "c051ee46",
   "metadata": {},
   "outputs": [],
   "source": [
    "classe_predictions = predict_class(theta_sgd,X_test_transformed)\n",
    "true_classes = np.argmax(y_test_one_hot, axis=1)\n",
    "accuracy_sgd = accuracy_score(true_classes, classe_predictions)"
   ]
  },
  {
   "cell_type": "code",
   "execution_count": 36,
   "id": "e13f2f61",
   "metadata": {},
   "outputs": [
    {
     "data": {
      "text/plain": [
       "0.9143"
      ]
     },
     "execution_count": 36,
     "metadata": {},
     "output_type": "execute_result"
    }
   ],
   "source": [
    "print(accuracy_sgd)"
   ]
  },
  {
   "cell_type": "code",
   "execution_count": 39,
   "id": "ad3971c6",
   "metadata": {},
   "outputs": [
    {
     "data": {
      "text/plain": [
       "<matplotlib.legend.Legend at 0x165b49c1550>"
      ]
     },
     "execution_count": 39,
     "metadata": {},
     "output_type": "execute_result"
    },
    {
     "data": {
      "image/png": "[encoded data removed]",
      "text/plain": [
       "<Figure size 600x400 with 1 Axes>"
      ]
     },
     "metadata": {},
     "output_type": "display_data"
    }
   ],
   "source": [
    "plt.figure(figsize=(6,4))\n",
    "plt.plot(loss_adam,label='Adam')\n",
    "plt.plot(loss_adagrad,label='Adagrad')\n",
    "plt.plot(loss_sgd,label='SGD Nesterov')\n",
    "plt.xlabel('Epochs')\n",
    "plt.ylabel('Training cost')\n",
    "plt.title('Training negative log likelihood on MNIST images with L2 regularization')\n",
    "plt.legend()\n",
    "plt.show()"
   ]
  },
  {
   "cell_type": "markdown",
   "id": "05dfadde",
   "metadata": {},
   "source": [
    "# Sparse Case"
   ]
  },
  {
   "cell_type": "code",
   "execution_count": 2,
   "id": "c4b49350",
   "metadata": {},
   "outputs": [
    {
     "name": "stderr",
     "output_type": "stream",
     "text": [
      "[nltk_data] Downloading package punkt to\n",
      "[nltk_data]     C:\\Users\\hp\\AppData\\Roaming\\nltk_data...\n",
      "[nltk_data]   Package punkt is already up-to-date!\n"
     ]
    },
    {
     "data": {
      "text/plain": [
       "True"
      ]
     },
     "execution_count": 2,
     "metadata": {},
     "output_type": "execute_result"
    }
   ],
   "source": [
    "import nltk\n",
    "nltk.download('punkt')"
   ]
  },
  {
   "cell_type": "code",
   "execution_count": 3,
   "id": "b1837aa1",
   "metadata": {},
   "outputs": [],
   "source": [
    "# Importing packages and functions\n",
    "from collections import Counter\n",
    "from nltk.tokenize import word_tokenize\n",
    "from sklearn.model_selection import train_test_split\n",
    "from tensorflow.keras.models import Sequential\n",
    "from tensorflow.keras.layers import Dense\n",
    "from tensorflow.keras import regularizers\n",
    "from tensorflow.keras.optimizers import Adam\n",
    "from tensorflow.keras.callbacks import LearningRateScheduler\n",
    "import math"
   ]
  },
  {
   "cell_type": "code",
   "execution_count": 4,
   "id": "8d19c8c7",
   "metadata": {},
   "outputs": [],
   "source": [
    "# Loading the data\n",
    "df=pd.read_csv('IMDB Dataset.csv')"
   ]
  },
  {
   "cell_type": "code",
   "execution_count": 5,
   "id": "7fbcf321",
   "metadata": {},
   "outputs": [],
   "source": [
    "# reducing the number of samples\n",
    "df=df.iloc[0:40000,:]"
   ]
  },
  {
   "cell_type": "code",
   "execution_count": 6,
   "id": "345f36ee",
   "metadata": {},
   "outputs": [
    {
     "data": {
      "text/html": [
       "<div>\n",
       "<style scoped>\n",
       "    .dataframe tbody tr th:only-of-type {\n",
       "        vertical-align: middle;\n",
       "    }\n",
       "\n",
       "    .dataframe tbody tr th {\n",
       "        vertical-align: top;\n",
       "    }\n",
       "\n",
       "    .dataframe thead th {\n",
       "        text-align: right;\n",
       "    }\n",
       "</style>\n",
       "<table border=\"1\" class=\"dataframe\">\n",
       "  <thead>\n",
       "    <tr style=\"text-align: right;\">\n",
       "      <th></th>\n",
       "      <th>review</th>\n",
       "      <th>sentiment</th>\n",
       "    </tr>\n",
       "  </thead>\n",
       "  <tbody>\n",
       "    <tr>\n",
       "      <th>0</th>\n",
       "      <td>One of the other reviewers has mentioned that ...</td>\n",
       "      <td>positive</td>\n",
       "    </tr>\n",
       "    <tr>\n",
       "      <th>1</th>\n",
       "      <td>A wonderful little production. &lt;br /&gt;&lt;br /&gt;The...</td>\n",
       "      <td>positive</td>\n",
       "    </tr>\n",
       "    <tr>\n",
       "      <th>2</th>\n",
       "      <td>I thought this was a wonderful way to spend ti...</td>\n",
       "      <td>positive</td>\n",
       "    </tr>\n",
       "    <tr>\n",
       "      <th>3</th>\n",
       "      <td>Basically there's a family where a little boy ...</td>\n",
       "      <td>negative</td>\n",
       "    </tr>\n",
       "    <tr>\n",
       "      <th>4</th>\n",
       "      <td>Petter Mattei's \"Love in the Time of Money\" is...</td>\n",
       "      <td>positive</td>\n",
       "    </tr>\n",
       "    <tr>\n",
       "      <th>...</th>\n",
       "      <td>...</td>\n",
       "      <td>...</td>\n",
       "    </tr>\n",
       "    <tr>\n",
       "      <th>39995</th>\n",
       "      <td>This was a marvelously funny comedy with a gre...</td>\n",
       "      <td>positive</td>\n",
       "    </tr>\n",
       "    <tr>\n",
       "      <th>39996</th>\n",
       "      <td>There is no plot. There are no central charact...</td>\n",
       "      <td>positive</td>\n",
       "    </tr>\n",
       "    <tr>\n",
       "      <th>39997</th>\n",
       "      <td>This show is awesome! I love all the actors! I...</td>\n",
       "      <td>positive</td>\n",
       "    </tr>\n",
       "    <tr>\n",
       "      <th>39998</th>\n",
       "      <td>The fact that this movie has been entitled to ...</td>\n",
       "      <td>negative</td>\n",
       "    </tr>\n",
       "    <tr>\n",
       "      <th>39999</th>\n",
       "      <td>I have to confess that I am severely disappoin...</td>\n",
       "      <td>negative</td>\n",
       "    </tr>\n",
       "  </tbody>\n",
       "</table>\n",
       "<p>40000 rows × 2 columns</p>\n",
       "</div>"
      ],
      "text/plain": [
       "                                                  review sentiment\n",
       "0      One of the other reviewers has mentioned that ...  positive\n",
       "1      A wonderful little production. <br /><br />The...  positive\n",
       "2      I thought this was a wonderful way to spend ti...  positive\n",
       "3      Basically there's a family where a little boy ...  negative\n",
       "4      Petter Mattei's \"Love in the Time of Money\" is...  positive\n",
       "...                                                  ...       ...\n",
       "39995  This was a marvelously funny comedy with a gre...  positive\n",
       "39996  There is no plot. There are no central charact...  positive\n",
       "39997  This show is awesome! I love all the actors! I...  positive\n",
       "39998  The fact that this movie has been entitled to ...  negative\n",
       "39999  I have to confess that I am severely disappoin...  negative\n",
       "\n",
       "[40000 rows x 2 columns]"
      ]
     },
     "execution_count": 6,
     "metadata": {},
     "output_type": "execute_result"
    }
   ],
   "source": [
    "df"
   ]
  },
  {
   "cell_type": "code",
   "execution_count": 7,
   "id": "7db23836",
   "metadata": {},
   "outputs": [],
   "source": [
    "X=df['review']\n",
    "y=df['sentiment']"
   ]
  },
  {
   "cell_type": "code",
   "execution_count": 8,
   "id": "2f38e11f",
   "metadata": {},
   "outputs": [
    {
     "data": {
      "text/plain": [
       "review       0\n",
       "sentiment    0\n",
       "dtype: int64"
      ]
     },
     "execution_count": 8,
     "metadata": {},
     "output_type": "execute_result"
    }
   ],
   "source": [
    "# Checking nan-values\n",
    "df.isna().sum()"
   ]
  },
  {
   "cell_type": "markdown",
   "id": "26151764",
   "metadata": {},
   "source": [
    "# Processing"
   ]
  },
  {
   "cell_type": "code",
   "execution_count": 9,
   "id": "aa18cda0",
   "metadata": {},
   "outputs": [],
   "source": [
    "#Encoding of the target variable\n",
    "y=y.replace({\"positive\": 1, \"negative\": 0})"
   ]
  },
  {
   "cell_type": "code",
   "execution_count": 10,
   "id": "93b252b5",
   "metadata": {},
   "outputs": [],
   "source": [
    "# Splitting the data\n",
    "X_train, X_test, y_train, y_test = train_test_split(X, y, test_size=0.2, random_state=42)"
   ]
  },
  {
   "cell_type": "code",
   "execution_count": 11,
   "id": "f0e3161b",
   "metadata": {},
   "outputs": [],
   "source": [
    "# List of the words from all the review\n",
    "all_words = []\n",
    "for review in X:\n",
    "    words = word_tokenize(review.lower())  \n",
    "    all_words.extend(words)"
   ]
  },
  {
   "cell_type": "code",
   "execution_count": 12,
   "id": "05d230af",
   "metadata": {},
   "outputs": [],
   "source": [
    "# Words with length less than 3 \n",
    "special_words=[word for word in all_words if len(word)<=3]"
   ]
  },
  {
   "cell_type": "code",
   "execution_count": 13,
   "id": "5192fe0f",
   "metadata": {},
   "outputs": [],
   "source": [
    "unique_special_words = list(set(special_words))"
   ]
  },
  {
   "cell_type": "code",
   "execution_count": 14,
   "id": "cb7affed",
   "metadata": {},
   "outputs": [],
   "source": [
    "# We restrict to words of lenght greater then 4 \n",
    "all_words = [word for word in all_words if len(word) >= 4]"
   ]
  },
  {
   "cell_type": "code",
   "execution_count": 15,
   "id": "32a6dcb7",
   "metadata": {},
   "outputs": [],
   "source": [
    "word_freq = Counter(all_words)"
   ]
  },
  {
   "cell_type": "code",
   "execution_count": 16,
   "id": "d628fc7e",
   "metadata": {},
   "outputs": [],
   "source": [
    "# Sorting the words in term of frequency\n",
    "sorted_words = sorted(word_freq.items(), key=lambda x: x[1], reverse=True)"
   ]
  },
  {
   "cell_type": "code",
   "execution_count": 17,
   "id": "f4266fb2",
   "metadata": {},
   "outputs": [],
   "source": [
    "# The 10000 most frequent words among the words of all the reviews\n",
    "top_10000_words = [word for word, freq in sorted_words[:10000]]"
   ]
  },
  {
   "cell_type": "code",
   "execution_count": 18,
   "id": "2fd6306a",
   "metadata": {},
   "outputs": [],
   "source": [
    "# We apply a dropout noise to avoid overfitting\n",
    "def create_vector(review,top_words,dropout_rate):\n",
    "    feature_vector = np.zeros(len(top_words))\n",
    "    for word in review:\n",
    "        if word in top_words:\n",
    "            random_number = np.random.random()\n",
    "            if random_number < dropout_rate:\n",
    "                feature_vector[top_words.index(word)] = 0\n",
    "            else:\n",
    "                feature_vector[top_words.index(word)] += 1\n",
    "    feature_vector /= len(review)\n",
    "\n",
    "    return feature_vector"
   ]
  },
  {
   "cell_type": "code",
   "execution_count": 19,
   "id": "0ea6c659",
   "metadata": {},
   "outputs": [],
   "source": [
    "# Tokenization of the reviews\n",
    "tokenized_X_train = X_train.apply(lambda review: word_tokenize(review.lower()))\n",
    "tokenized_X_test = X_test.apply(lambda review: word_tokenize(review.lower()))"
   ]
  },
  {
   "cell_type": "code",
   "execution_count": 20,
   "id": "eea3cfe5",
   "metadata": {},
   "outputs": [],
   "source": [
    "# Processing of X_train\n",
    "dropout_rate = 0.5 # As suggested in the article\n",
    "feature_vectors_train = []\n",
    "for review in tokenized_X_train:\n",
    "    feature_vector = create_vector(review, top_10000_words, dropout_rate)\n",
    "    feature_vectors_train.append(feature_vector)"
   ]
  },
  {
   "cell_type": "code",
   "execution_count": 21,
   "id": "14b16acb",
   "metadata": {},
   "outputs": [],
   "source": [
    "# Processing of X_test\n",
    "dropout_rate = 0.5 \n",
    "feature_vectors_test = []\n",
    "for review in tokenized_X_test:\n",
    "    feature_vector = create_vector(review, top_10000_words, dropout_rate)\n",
    "    feature_vectors_test.append(feature_vector)"
   ]
  },
  {
   "cell_type": "code",
   "execution_count": 22,
   "id": "c9b0a6aa",
   "metadata": {},
   "outputs": [],
   "source": [
    "x_train, x_test=np.vstack(feature_vectors_train), np.vstack(feature_vectors_test)"
   ]
  },
  {
   "cell_type": "code",
   "execution_count": 23,
   "id": "f102e935",
   "metadata": {},
   "outputs": [],
   "source": [
    "y_train_,y_test_ = y_train.to_numpy(),y_test.to_numpy()"
   ]
  },
  {
   "cell_type": "markdown",
   "id": "40a10799",
   "metadata": {},
   "source": [
    "# Modeling"
   ]
  },
  {
   "cell_type": "markdown",
   "id": "2f30197b",
   "metadata": {},
   "source": [
    "Adagrad"
   ]
  },
  {
   "cell_type": "code",
   "execution_count": 24,
   "id": "94e7b084",
   "metadata": {},
   "outputs": [],
   "source": [
    "model_adagrad = Sequential([\n",
    "    Dense(1, activation='sigmoid', input_shape=(x_train.shape[1],))])"
   ]
  },
  {
   "cell_type": "code",
   "execution_count": 25,
   "id": "7e5a6ab1",
   "metadata": {},
   "outputs": [],
   "source": [
    "optimizer = tf.keras.optimizers.Adagrad(learning_rate=0.1)"
   ]
  },
  {
   "cell_type": "code",
   "execution_count": 26,
   "id": "94571c6d",
   "metadata": {},
   "outputs": [],
   "source": [
    "model_adagrad.compile(optimizer=optimizer,\n",
    "              loss='binary_crossentropy',\n",
    "              metrics=['accuracy'])"
   ]
  },
  {
   "cell_type": "code",
   "execution_count": 27,
   "id": "9778084e",
   "metadata": {},
   "outputs": [
    {
     "name": "stdout",
     "output_type": "stream",
     "text": [
      "Epoch 1/100\n",
      "1000/1000 [==============================] - 11s 10ms/step - loss: 0.6932 - accuracy: 0.5022 - val_loss: 0.6932 - val_accuracy: 0.4997\n",
      "Epoch 2/100\n",
      "1000/1000 [==============================] - 21s 21ms/step - loss: 0.6931 - accuracy: 0.5021 - val_loss: 0.6930 - val_accuracy: 0.4999\n",
      "Epoch 3/100\n",
      "1000/1000 [==============================] - 7s 7ms/step - loss: 0.6930 - accuracy: 0.5111 - val_loss: 0.6929 - val_accuracy: 0.4997\n",
      "Epoch 4/100\n",
      "1000/1000 [==============================] - 5s 5ms/step - loss: 0.6929 - accuracy: 0.5169 - val_loss: 0.6928 - val_accuracy: 0.4999\n",
      "Epoch 5/100\n",
      "1000/1000 [==============================] - 5s 5ms/step - loss: 0.6928 - accuracy: 0.5195 - val_loss: 0.6927 - val_accuracy: 0.6888\n",
      "Epoch 6/100\n",
      "1000/1000 [==============================] - 5s 5ms/step - loss: 0.6927 - accuracy: 0.5393 - val_loss: 0.6926 - val_accuracy: 0.5004\n",
      "Epoch 7/100\n",
      "1000/1000 [==============================] - 5s 5ms/step - loss: 0.6926 - accuracy: 0.5266 - val_loss: 0.6925 - val_accuracy: 0.5002\n",
      "Epoch 8/100\n",
      "1000/1000 [==============================] - 5s 5ms/step - loss: 0.6925 - accuracy: 0.5218 - val_loss: 0.6924 - val_accuracy: 0.6286\n",
      "Epoch 9/100\n",
      "1000/1000 [==============================] - 5s 5ms/step - loss: 0.6924 - accuracy: 0.5462 - val_loss: 0.6924 - val_accuracy: 0.5138\n",
      "Epoch 10/100\n",
      "1000/1000 [==============================] - 4s 4ms/step - loss: 0.6923 - accuracy: 0.5717 - val_loss: 0.6922 - val_accuracy: 0.6385\n",
      "Epoch 11/100\n",
      "1000/1000 [==============================] - 4s 4ms/step - loss: 0.6922 - accuracy: 0.5512 - val_loss: 0.6922 - val_accuracy: 0.5055\n",
      "Epoch 12/100\n",
      "1000/1000 [==============================] - 4s 4ms/step - loss: 0.6921 - accuracy: 0.5557 - val_loss: 0.6921 - val_accuracy: 0.6011\n",
      "Epoch 13/100\n",
      "1000/1000 [==============================] - 5s 5ms/step - loss: 0.6921 - accuracy: 0.6135 - val_loss: 0.6920 - val_accuracy: 0.7079\n",
      "Epoch 14/100\n",
      "1000/1000 [==============================] - 4s 4ms/step - loss: 0.6920 - accuracy: 0.5652 - val_loss: 0.6919 - val_accuracy: 0.6575\n",
      "Epoch 15/100\n",
      "1000/1000 [==============================] - 4s 4ms/step - loss: 0.6919 - accuracy: 0.6038 - val_loss: 0.6918 - val_accuracy: 0.5716\n",
      "Epoch 16/100\n",
      "1000/1000 [==============================] - 5s 5ms/step - loss: 0.6918 - accuracy: 0.5680 - val_loss: 0.6917 - val_accuracy: 0.5131\n",
      "Epoch 17/100\n",
      "1000/1000 [==============================] - 5s 5ms/step - loss: 0.6917 - accuracy: 0.5828 - val_loss: 0.6916 - val_accuracy: 0.6696\n",
      "Epoch 18/100\n",
      "1000/1000 [==============================] - 5s 5ms/step - loss: 0.6916 - accuracy: 0.6268 - val_loss: 0.6915 - val_accuracy: 0.6949\n",
      "Epoch 19/100\n",
      "1000/1000 [==============================] - 5s 5ms/step - loss: 0.6915 - accuracy: 0.6222 - val_loss: 0.6915 - val_accuracy: 0.5934\n",
      "Epoch 20/100\n",
      "1000/1000 [==============================] - 5s 5ms/step - loss: 0.6914 - accuracy: 0.6014 - val_loss: 0.6914 - val_accuracy: 0.7104\n",
      "Epoch 21/100\n",
      "1000/1000 [==============================] - 5s 5ms/step - loss: 0.6913 - accuracy: 0.6566 - val_loss: 0.6913 - val_accuracy: 0.6963\n",
      "Epoch 22/100\n",
      "1000/1000 [==============================] - 5s 5ms/step - loss: 0.6912 - accuracy: 0.6671 - val_loss: 0.6912 - val_accuracy: 0.7109\n",
      "Epoch 23/100\n",
      "1000/1000 [==============================] - 5s 5ms/step - loss: 0.6911 - accuracy: 0.6501 - val_loss: 0.6911 - val_accuracy: 0.7028\n",
      "Epoch 24/100\n",
      "1000/1000 [==============================] - 6s 6ms/step - loss: 0.6910 - accuracy: 0.6521 - val_loss: 0.6910 - val_accuracy: 0.6805\n",
      "Epoch 25/100\n",
      "1000/1000 [==============================] - 5s 5ms/step - loss: 0.6910 - accuracy: 0.6658 - val_loss: 0.6909 - val_accuracy: 0.6966\n",
      "Epoch 26/100\n",
      "1000/1000 [==============================] - 5s 5ms/step - loss: 0.6909 - accuracy: 0.6430 - val_loss: 0.6908 - val_accuracy: 0.6965\n",
      "Epoch 27/100\n",
      "1000/1000 [==============================] - 4s 4ms/step - loss: 0.6908 - accuracy: 0.6522 - val_loss: 0.6907 - val_accuracy: 0.6251\n",
      "Epoch 28/100\n",
      "1000/1000 [==============================] - 4s 4ms/step - loss: 0.6907 - accuracy: 0.6570 - val_loss: 0.6906 - val_accuracy: 0.7120\n",
      "Epoch 29/100\n",
      "1000/1000 [==============================] - 4s 4ms/step - loss: 0.6906 - accuracy: 0.6852 - val_loss: 0.6906 - val_accuracy: 0.6990\n",
      "Epoch 30/100\n",
      "1000/1000 [==============================] - 4s 4ms/step - loss: 0.6905 - accuracy: 0.6684 - val_loss: 0.6905 - val_accuracy: 0.6769\n",
      "Epoch 31/100\n",
      "1000/1000 [==============================] - 5s 5ms/step - loss: 0.6904 - accuracy: 0.6853 - val_loss: 0.6904 - val_accuracy: 0.6464\n",
      "Epoch 32/100\n",
      "1000/1000 [==============================] - 5s 5ms/step - loss: 0.6903 - accuracy: 0.6827 - val_loss: 0.6903 - val_accuracy: 0.6744\n",
      "Epoch 33/100\n",
      "1000/1000 [==============================] - 4s 4ms/step - loss: 0.6902 - accuracy: 0.6783 - val_loss: 0.6902 - val_accuracy: 0.7055\n",
      "Epoch 34/100\n",
      "1000/1000 [==============================] - 4s 4ms/step - loss: 0.6902 - accuracy: 0.6775 - val_loss: 0.6901 - val_accuracy: 0.6923\n",
      "Epoch 35/100\n",
      "1000/1000 [==============================] - 5s 5ms/step - loss: 0.6901 - accuracy: 0.6795 - val_loss: 0.6900 - val_accuracy: 0.6618\n",
      "Epoch 36/100\n",
      "1000/1000 [==============================] - 5s 5ms/step - loss: 0.6900 - accuracy: 0.6863 - val_loss: 0.6899 - val_accuracy: 0.7032\n",
      "Epoch 37/100\n",
      "1000/1000 [==============================] - 4s 4ms/step - loss: 0.6899 - accuracy: 0.6838 - val_loss: 0.6899 - val_accuracy: 0.6951\n",
      "Epoch 38/100\n",
      "1000/1000 [==============================] - 5s 5ms/step - loss: 0.6898 - accuracy: 0.6704 - val_loss: 0.6898 - val_accuracy: 0.6635\n",
      "Epoch 39/100\n",
      "1000/1000 [==============================] - 5s 4ms/step - loss: 0.6897 - accuracy: 0.6815 - val_loss: 0.6897 - val_accuracy: 0.6971\n",
      "Epoch 40/100\n",
      "1000/1000 [==============================] - 5s 5ms/step - loss: 0.6896 - accuracy: 0.6976 - val_loss: 0.6896 - val_accuracy: 0.6956\n",
      "Epoch 41/100\n",
      "1000/1000 [==============================] - 5s 5ms/step - loss: 0.6895 - accuracy: 0.6845 - val_loss: 0.6895 - val_accuracy: 0.6836\n",
      "Epoch 42/100\n",
      "1000/1000 [==============================] - 5s 5ms/step - loss: 0.6895 - accuracy: 0.6824 - val_loss: 0.6894 - val_accuracy: 0.7120\n",
      "Epoch 43/100\n",
      "1000/1000 [==============================] - 4s 4ms/step - loss: 0.6894 - accuracy: 0.7017 - val_loss: 0.6893 - val_accuracy: 0.7001\n",
      "Epoch 44/100\n",
      "1000/1000 [==============================] - 4s 4ms/step - loss: 0.6893 - accuracy: 0.6951 - val_loss: 0.6892 - val_accuracy: 0.6964\n",
      "Epoch 45/100\n",
      "1000/1000 [==============================] - 4s 4ms/step - loss: 0.6892 - accuracy: 0.6956 - val_loss: 0.6892 - val_accuracy: 0.7101\n",
      "Epoch 46/100\n",
      "1000/1000 [==============================] - 4s 4ms/step - loss: 0.6891 - accuracy: 0.6825 - val_loss: 0.6891 - val_accuracy: 0.6683\n",
      "Epoch 47/100\n",
      "1000/1000 [==============================] - 5s 5ms/step - loss: 0.6890 - accuracy: 0.6902 - val_loss: 0.6890 - val_accuracy: 0.7010\n",
      "Epoch 48/100\n",
      "1000/1000 [==============================] - 5s 5ms/step - loss: 0.6889 - accuracy: 0.7036 - val_loss: 0.6889 - val_accuracy: 0.6930\n",
      "Epoch 49/100\n",
      "1000/1000 [==============================] - 4s 4ms/step - loss: 0.6888 - accuracy: 0.6948 - val_loss: 0.6888 - val_accuracy: 0.7082\n",
      "Epoch 50/100\n",
      "1000/1000 [==============================] - 4s 4ms/step - loss: 0.6888 - accuracy: 0.6907 - val_loss: 0.6887 - val_accuracy: 0.6852\n",
      "Epoch 51/100\n",
      "1000/1000 [==============================] - 4s 4ms/step - loss: 0.6887 - accuracy: 0.6882 - val_loss: 0.6886 - val_accuracy: 0.7091\n",
      "Epoch 52/100\n",
      "1000/1000 [==============================] - 5s 5ms/step - loss: 0.6886 - accuracy: 0.6969 - val_loss: 0.6886 - val_accuracy: 0.7129\n",
      "Epoch 53/100\n",
      "1000/1000 [==============================] - 4s 4ms/step - loss: 0.6885 - accuracy: 0.7030 - val_loss: 0.6885 - val_accuracy: 0.7138\n",
      "Epoch 54/100\n",
      "1000/1000 [==============================] - 5s 5ms/step - loss: 0.6884 - accuracy: 0.7048 - val_loss: 0.6884 - val_accuracy: 0.7139\n",
      "Epoch 55/100\n",
      "1000/1000 [==============================] - 4s 4ms/step - loss: 0.6883 - accuracy: 0.6988 - val_loss: 0.6883 - val_accuracy: 0.6934\n",
      "Epoch 56/100\n",
      "1000/1000 [==============================] - 4s 4ms/step - loss: 0.6882 - accuracy: 0.6973 - val_loss: 0.6882 - val_accuracy: 0.7023\n",
      "Epoch 57/100\n",
      "1000/1000 [==============================] - 5s 5ms/step - loss: 0.6882 - accuracy: 0.7015 - val_loss: 0.6881 - val_accuracy: 0.7034\n",
      "Epoch 58/100\n",
      "1000/1000 [==============================] - 5s 5ms/step - loss: 0.6881 - accuracy: 0.6952 - val_loss: 0.6880 - val_accuracy: 0.7131\n",
      "Epoch 59/100\n",
      "1000/1000 [==============================] - 6s 6ms/step - loss: 0.6880 - accuracy: 0.7061 - val_loss: 0.6880 - val_accuracy: 0.7139\n",
      "Epoch 60/100\n",
      "1000/1000 [==============================] - 5s 5ms/step - loss: 0.6879 - accuracy: 0.6959 - val_loss: 0.6879 - val_accuracy: 0.7140\n",
      "Epoch 61/100\n",
      "1000/1000 [==============================] - 5s 5ms/step - loss: 0.6878 - accuracy: 0.7064 - val_loss: 0.6878 - val_accuracy: 0.7141\n",
      "Epoch 62/100\n",
      "1000/1000 [==============================] - 4s 4ms/step - loss: 0.6877 - accuracy: 0.6995 - val_loss: 0.6877 - val_accuracy: 0.7131\n",
      "Epoch 63/100\n",
      "1000/1000 [==============================] - 4s 4ms/step - loss: 0.6876 - accuracy: 0.7011 - val_loss: 0.6876 - val_accuracy: 0.6964\n",
      "Epoch 64/100\n",
      "1000/1000 [==============================] - 5s 5ms/step - loss: 0.6876 - accuracy: 0.7011 - val_loss: 0.6875 - val_accuracy: 0.7032\n",
      "Epoch 65/100\n",
      "1000/1000 [==============================] - 4s 4ms/step - loss: 0.6875 - accuracy: 0.7005 - val_loss: 0.6875 - val_accuracy: 0.7106\n",
      "Epoch 66/100\n",
      "1000/1000 [==============================] - 4s 4ms/step - loss: 0.6874 - accuracy: 0.6958 - val_loss: 0.6874 - val_accuracy: 0.7141\n",
      "Epoch 67/100\n",
      "1000/1000 [==============================] - 4s 4ms/step - loss: 0.6873 - accuracy: 0.7076 - val_loss: 0.6873 - val_accuracy: 0.7140\n",
      "Epoch 68/100\n",
      "1000/1000 [==============================] - 4s 4ms/step - loss: 0.6872 - accuracy: 0.7055 - val_loss: 0.6872 - val_accuracy: 0.7094\n",
      "Epoch 69/100\n",
      "1000/1000 [==============================] - 4s 4ms/step - loss: 0.6871 - accuracy: 0.7071 - val_loss: 0.6871 - val_accuracy: 0.7071\n",
      "Epoch 70/100\n",
      "1000/1000 [==============================] - 4s 4ms/step - loss: 0.6870 - accuracy: 0.7018 - val_loss: 0.6870 - val_accuracy: 0.7088\n",
      "Epoch 71/100\n",
      "1000/1000 [==============================] - 4s 4ms/step - loss: 0.6870 - accuracy: 0.6991 - val_loss: 0.6869 - val_accuracy: 0.7149\n",
      "Epoch 72/100\n",
      "1000/1000 [==============================] - 4s 4ms/step - loss: 0.6869 - accuracy: 0.7069 - val_loss: 0.6869 - val_accuracy: 0.7149\n",
      "Epoch 73/100\n",
      "1000/1000 [==============================] - 4s 4ms/step - loss: 0.6868 - accuracy: 0.7051 - val_loss: 0.6868 - val_accuracy: 0.7131\n",
      "Epoch 74/100\n",
      "1000/1000 [==============================] - 5s 5ms/step - loss: 0.6867 - accuracy: 0.7071 - val_loss: 0.6867 - val_accuracy: 0.7084\n",
      "Epoch 75/100\n",
      "1000/1000 [==============================] - 5s 5ms/step - loss: 0.6866 - accuracy: 0.7029 - val_loss: 0.6866 - val_accuracy: 0.7128\n",
      "Epoch 76/100\n",
      "1000/1000 [==============================] - 5s 5ms/step - loss: 0.6865 - accuracy: 0.7070 - val_loss: 0.6865 - val_accuracy: 0.7090\n",
      "Epoch 77/100\n",
      "1000/1000 [==============================] - 4s 4ms/step - loss: 0.6864 - accuracy: 0.7061 - val_loss: 0.6864 - val_accuracy: 0.7085\n",
      "Epoch 78/100\n",
      "1000/1000 [==============================] - 4s 4ms/step - loss: 0.6864 - accuracy: 0.6967 - val_loss: 0.6864 - val_accuracy: 0.7150\n",
      "Epoch 79/100\n",
      "1000/1000 [==============================] - 4s 4ms/step - loss: 0.6863 - accuracy: 0.7082 - val_loss: 0.6863 - val_accuracy: 0.7120\n",
      "Epoch 80/100\n",
      "1000/1000 [==============================] - 4s 4ms/step - loss: 0.6862 - accuracy: 0.7036 - val_loss: 0.6862 - val_accuracy: 0.7155\n",
      "Epoch 81/100\n",
      "1000/1000 [==============================] - 4s 4ms/step - loss: 0.6861 - accuracy: 0.7072 - val_loss: 0.6861 - val_accuracy: 0.7119\n",
      "Epoch 82/100\n",
      "1000/1000 [==============================] - 4s 4ms/step - loss: 0.6860 - accuracy: 0.7051 - val_loss: 0.6860 - val_accuracy: 0.7119\n",
      "Epoch 83/100\n",
      "1000/1000 [==============================] - 4s 4ms/step - loss: 0.6859 - accuracy: 0.6987 - val_loss: 0.6859 - val_accuracy: 0.7159\n",
      "Epoch 84/100\n",
      "1000/1000 [==============================] - 4s 4ms/step - loss: 0.6859 - accuracy: 0.7056 - val_loss: 0.6859 - val_accuracy: 0.7157\n",
      "Epoch 85/100\n",
      "1000/1000 [==============================] - 4s 4ms/step - loss: 0.6858 - accuracy: 0.7071 - val_loss: 0.6858 - val_accuracy: 0.7131\n",
      "Epoch 86/100\n",
      "1000/1000 [==============================] - 4s 4ms/step - loss: 0.6857 - accuracy: 0.7095 - val_loss: 0.6857 - val_accuracy: 0.7106\n",
      "Epoch 87/100\n",
      "1000/1000 [==============================] - 4s 4ms/step - loss: 0.6856 - accuracy: 0.7067 - val_loss: 0.6856 - val_accuracy: 0.7126\n",
      "Epoch 88/100\n",
      "1000/1000 [==============================] - 5s 5ms/step - loss: 0.6855 - accuracy: 0.7084 - val_loss: 0.6855 - val_accuracy: 0.7105\n",
      "Epoch 89/100\n",
      "1000/1000 [==============================] - 5s 5ms/step - loss: 0.6854 - accuracy: 0.7077 - val_loss: 0.6855 - val_accuracy: 0.7044\n",
      "Epoch 90/100\n",
      "1000/1000 [==============================] - 4s 4ms/step - loss: 0.6854 - accuracy: 0.7014 - val_loss: 0.6854 - val_accuracy: 0.7129\n",
      "Epoch 91/100\n",
      "1000/1000 [==============================] - 4s 4ms/step - loss: 0.6853 - accuracy: 0.7087 - val_loss: 0.6853 - val_accuracy: 0.7126\n",
      "Epoch 92/100\n",
      "1000/1000 [==============================] - 4s 4ms/step - loss: 0.6852 - accuracy: 0.7094 - val_loss: 0.6852 - val_accuracy: 0.7107\n",
      "Epoch 93/100\n",
      "1000/1000 [==============================] - 4s 4ms/step - loss: 0.6851 - accuracy: 0.7038 - val_loss: 0.6851 - val_accuracy: 0.7147\n",
      "Epoch 94/100\n",
      "1000/1000 [==============================] - 4s 4ms/step - loss: 0.6850 - accuracy: 0.7020 - val_loss: 0.6850 - val_accuracy: 0.7159\n",
      "Epoch 95/100\n",
      "1000/1000 [==============================] - 5s 5ms/step - loss: 0.6849 - accuracy: 0.7101 - val_loss: 0.6850 - val_accuracy: 0.7130\n",
      "Epoch 96/100\n",
      "1000/1000 [==============================] - 4s 4ms/step - loss: 0.6849 - accuracy: 0.7058 - val_loss: 0.6849 - val_accuracy: 0.7164\n",
      "Epoch 97/100\n",
      "1000/1000 [==============================] - 4s 4ms/step - loss: 0.6848 - accuracy: 0.7086 - val_loss: 0.6848 - val_accuracy: 0.7155\n",
      "Epoch 98/100\n",
      "1000/1000 [==============================] - 4s 4ms/step - loss: 0.6847 - accuracy: 0.7081 - val_loss: 0.6847 - val_accuracy: 0.7155\n",
      "Epoch 99/100\n",
      "1000/1000 [==============================] - 4s 4ms/step - loss: 0.6846 - accuracy: 0.7107 - val_loss: 0.6846 - val_accuracy: 0.7119\n",
      "Epoch 100/100\n",
      "1000/1000 [==============================] - 4s 4ms/step - loss: 0.6845 - accuracy: 0.7076 - val_loss: 0.6845 - val_accuracy: 0.7119\n"
     ]
    }
   ],
   "source": [
    "history_adagrad = model_adagrad.fit(x_train, y_train_, epochs=100, validation_data=(x_test, y_test_))"
   ]
  },
  {
   "cell_type": "code",
   "execution_count": 29,
   "id": "d7a83223",
   "metadata": {},
   "outputs": [],
   "source": [
    "train_loss_adagrad = history_adagrad.history['loss']\n",
    "val_accuracy_adagrad = history_adagrad.history['val_accuracy']"
   ]
  },
  {
   "cell_type": "markdown",
   "id": "02e0c3a1",
   "metadata": {},
   "source": [
    "SGD Nesterov"
   ]
  },
  {
   "cell_type": "code",
   "execution_count": 30,
   "id": "2a9f8e24",
   "metadata": {},
   "outputs": [],
   "source": [
    "model_sgd = Sequential([\n",
    "    Dense(1, activation='sigmoid', input_shape=(x_train.shape[1],))\n",
    "])"
   ]
  },
  {
   "cell_type": "code",
   "execution_count": 31,
   "id": "275ec09a",
   "metadata": {},
   "outputs": [],
   "source": [
    "optimizer = tf.keras.optimizers.SGD(learning_rate=0.1, momentum=0.9, nesterov=True)"
   ]
  },
  {
   "cell_type": "code",
   "execution_count": 32,
   "id": "581dbed4",
   "metadata": {},
   "outputs": [],
   "source": [
    "model_sgd.compile(optimizer=optimizer,\n",
    "              loss='binary_crossentropy',\n",
    "              metrics=['accuracy'])"
   ]
  },
  {
   "cell_type": "code",
   "execution_count": 33,
   "id": "2ddd5f17",
   "metadata": {},
   "outputs": [
    {
     "name": "stdout",
     "output_type": "stream",
     "text": [
      "Epoch 1/100\n",
      "1000/1000 [==============================] - 10s 8ms/step - loss: 0.6948 - accuracy: 0.5029 - val_loss: 0.6942 - val_accuracy: 0.5002\n",
      "Epoch 2/100\n",
      "1000/1000 [==============================] - 6s 6ms/step - loss: 0.6941 - accuracy: 0.5060 - val_loss: 0.6943 - val_accuracy: 0.4997\n",
      "Epoch 3/100\n",
      "1000/1000 [==============================] - 5s 5ms/step - loss: 0.6940 - accuracy: 0.5098 - val_loss: 0.6923 - val_accuracy: 0.5009\n",
      "Epoch 4/100\n",
      "1000/1000 [==============================] - 5s 5ms/step - loss: 0.6939 - accuracy: 0.5020 - val_loss: 0.6920 - val_accuracy: 0.6976\n",
      "Epoch 5/100\n",
      "1000/1000 [==============================] - 5s 5ms/step - loss: 0.6937 - accuracy: 0.5089 - val_loss: 0.6921 - val_accuracy: 0.5002\n",
      "Epoch 6/100\n",
      "1000/1000 [==============================] - 5s 5ms/step - loss: 0.6932 - accuracy: 0.5163 - val_loss: 0.6952 - val_accuracy: 0.4997\n",
      "Epoch 7/100\n",
      "1000/1000 [==============================] - 6s 5ms/step - loss: 0.6932 - accuracy: 0.5150 - val_loss: 0.6926 - val_accuracy: 0.4997\n",
      "Epoch 8/100\n",
      "1000/1000 [==============================] - 5s 5ms/step - loss: 0.6930 - accuracy: 0.5136 - val_loss: 0.6911 - val_accuracy: 0.5009\n",
      "Epoch 9/100\n",
      "1000/1000 [==============================] - 5s 5ms/step - loss: 0.6930 - accuracy: 0.5120 - val_loss: 0.6909 - val_accuracy: 0.5011\n",
      "Epoch 10/100\n",
      "1000/1000 [==============================] - 5s 5ms/step - loss: 0.6920 - accuracy: 0.5191 - val_loss: 0.6952 - val_accuracy: 0.4997\n",
      "Epoch 11/100\n",
      "1000/1000 [==============================] - 5s 5ms/step - loss: 0.6921 - accuracy: 0.5220 - val_loss: 0.6908 - val_accuracy: 0.5006\n",
      "Epoch 12/100\n",
      "1000/1000 [==============================] - 5s 5ms/step - loss: 0.6916 - accuracy: 0.5232 - val_loss: 0.6918 - val_accuracy: 0.5002\n",
      "Epoch 13/100\n",
      "1000/1000 [==============================] - 6s 6ms/step - loss: 0.6909 - accuracy: 0.5267 - val_loss: 0.6897 - val_accuracy: 0.5061\n",
      "Epoch 14/100\n",
      "1000/1000 [==============================] - 6s 6ms/step - loss: 0.6911 - accuracy: 0.5244 - val_loss: 0.6893 - val_accuracy: 0.5408\n",
      "Epoch 15/100\n",
      "1000/1000 [==============================] - 5s 5ms/step - loss: 0.6905 - accuracy: 0.5316 - val_loss: 0.6890 - val_accuracy: 0.6033\n",
      "Epoch 16/100\n",
      "1000/1000 [==============================] - 5s 5ms/step - loss: 0.6903 - accuracy: 0.5307 - val_loss: 0.6890 - val_accuracy: 0.5063\n",
      "Epoch 17/100\n",
      "1000/1000 [==============================] - 6s 6ms/step - loss: 0.6904 - accuracy: 0.5294 - val_loss: 0.6884 - val_accuracy: 0.6108\n",
      "Epoch 18/100\n",
      "1000/1000 [==============================] - 5s 5ms/step - loss: 0.6901 - accuracy: 0.5329 - val_loss: 0.6904 - val_accuracy: 0.5000\n",
      "Epoch 19/100\n",
      "1000/1000 [==============================] - 5s 5ms/step - loss: 0.6899 - accuracy: 0.5347 - val_loss: 0.6887 - val_accuracy: 0.5029\n",
      "Epoch 20/100\n",
      "1000/1000 [==============================] - 6s 6ms/step - loss: 0.6896 - accuracy: 0.5328 - val_loss: 0.6953 - val_accuracy: 0.4997\n",
      "Epoch 21/100\n",
      "1000/1000 [==============================] - 5s 5ms/step - loss: 0.6890 - accuracy: 0.5352 - val_loss: 0.6885 - val_accuracy: 0.5026\n",
      "Epoch 22/100\n",
      "1000/1000 [==============================] - 6s 6ms/step - loss: 0.6885 - accuracy: 0.5436 - val_loss: 0.6884 - val_accuracy: 0.5026\n",
      "Epoch 23/100\n",
      "1000/1000 [==============================] - 5s 5ms/step - loss: 0.6883 - accuracy: 0.5401 - val_loss: 0.6872 - val_accuracy: 0.5304\n",
      "Epoch 24/100\n",
      "1000/1000 [==============================] - 6s 6ms/step - loss: 0.6884 - accuracy: 0.5418 - val_loss: 0.6867 - val_accuracy: 0.5644\n",
      "Epoch 25/100\n",
      "1000/1000 [==============================] - 5s 5ms/step - loss: 0.6880 - accuracy: 0.5421 - val_loss: 0.6869 - val_accuracy: 0.5173\n",
      "Epoch 26/100\n",
      "1000/1000 [==============================] - 6s 6ms/step - loss: 0.6877 - accuracy: 0.5448 - val_loss: 0.6883 - val_accuracy: 0.5017\n",
      "Epoch 27/100\n",
      "1000/1000 [==============================] - 6s 6ms/step - loss: 0.6877 - accuracy: 0.5445 - val_loss: 0.6980 - val_accuracy: 0.4997\n",
      "Epoch 28/100\n",
      "1000/1000 [==============================] - 6s 6ms/step - loss: 0.6873 - accuracy: 0.5496 - val_loss: 0.6861 - val_accuracy: 0.5240\n",
      "Epoch 29/100\n",
      "1000/1000 [==============================] - 6s 6ms/step - loss: 0.6873 - accuracy: 0.5423 - val_loss: 0.6879 - val_accuracy: 0.5013\n",
      "Epoch 30/100\n",
      "1000/1000 [==============================] - 6s 6ms/step - loss: 0.6869 - accuracy: 0.5627 - val_loss: 0.6850 - val_accuracy: 0.6664\n",
      "Epoch 31/100\n",
      "1000/1000 [==============================] - 5s 5ms/step - loss: 0.6863 - accuracy: 0.5567 - val_loss: 0.6859 - val_accuracy: 0.5107\n",
      "Epoch 32/100\n",
      "1000/1000 [==============================] - 5s 5ms/step - loss: 0.6862 - accuracy: 0.5513 - val_loss: 0.6889 - val_accuracy: 0.5010\n",
      "Epoch 33/100\n",
      "1000/1000 [==============================] - 5s 5ms/step - loss: 0.6858 - accuracy: 0.5654 - val_loss: 0.6843 - val_accuracy: 0.5930\n",
      "Epoch 34/100\n",
      "1000/1000 [==============================] - 5s 5ms/step - loss: 0.6855 - accuracy: 0.5650 - val_loss: 0.6894 - val_accuracy: 0.5009\n",
      "Epoch 35/100\n",
      "1000/1000 [==============================] - 5s 5ms/step - loss: 0.6852 - accuracy: 0.5607 - val_loss: 0.6837 - val_accuracy: 0.6528\n",
      "Epoch 36/100\n",
      "1000/1000 [==============================] - 5s 5ms/step - loss: 0.6851 - accuracy: 0.5690 - val_loss: 0.6833 - val_accuracy: 0.6981\n",
      "Epoch 37/100\n",
      "1000/1000 [==============================] - 5s 5ms/step - loss: 0.6842 - accuracy: 0.5623 - val_loss: 0.6836 - val_accuracy: 0.5471\n",
      "Epoch 38/100\n",
      "1000/1000 [==============================] - 5s 5ms/step - loss: 0.6845 - accuracy: 0.5744 - val_loss: 0.6837 - val_accuracy: 0.5391\n",
      "Epoch 39/100\n",
      "1000/1000 [==============================] - 6s 6ms/step - loss: 0.6848 - accuracy: 0.5570 - val_loss: 0.6830 - val_accuracy: 0.5610\n",
      "Epoch 40/100\n",
      "1000/1000 [==============================] - 6s 6ms/step - loss: 0.6836 - accuracy: 0.5769 - val_loss: 0.6823 - val_accuracy: 0.7014\n",
      "Epoch 41/100\n",
      "1000/1000 [==============================] - 5s 5ms/step - loss: 0.6842 - accuracy: 0.5651 - val_loss: 0.6862 - val_accuracy: 0.5026\n",
      "Epoch 42/100\n",
      "1000/1000 [==============================] - 6s 6ms/step - loss: 0.6837 - accuracy: 0.5694 - val_loss: 0.6821 - val_accuracy: 0.5931\n",
      "Epoch 43/100\n",
      "1000/1000 [==============================] - 6s 6ms/step - loss: 0.6831 - accuracy: 0.5788 - val_loss: 0.6817 - val_accuracy: 0.6438\n",
      "Epoch 44/100\n",
      "1000/1000 [==============================] - 6s 6ms/step - loss: 0.6828 - accuracy: 0.5765 - val_loss: 0.6818 - val_accuracy: 0.5624\n",
      "Epoch 45/100\n",
      "1000/1000 [==============================] - 5s 5ms/step - loss: 0.6825 - accuracy: 0.5817 - val_loss: 0.6880 - val_accuracy: 0.5009\n",
      "Epoch 46/100\n",
      "1000/1000 [==============================] - 6s 6ms/step - loss: 0.6821 - accuracy: 0.5750 - val_loss: 0.6808 - val_accuracy: 0.7113\n",
      "Epoch 47/100\n",
      "1000/1000 [==============================] - 6s 6ms/step - loss: 0.6822 - accuracy: 0.5809 - val_loss: 0.6807 - val_accuracy: 0.6605\n",
      "Epoch 48/100\n",
      "1000/1000 [==============================] - 6s 6ms/step - loss: 0.6820 - accuracy: 0.5802 - val_loss: 0.6806 - val_accuracy: 0.6085\n",
      "Epoch 49/100\n",
      "1000/1000 [==============================] - 5s 5ms/step - loss: 0.6815 - accuracy: 0.5918 - val_loss: 0.6802 - val_accuracy: 0.6445\n",
      "Epoch 50/100\n",
      "1000/1000 [==============================] - 5s 5ms/step - loss: 0.6814 - accuracy: 0.5839 - val_loss: 0.6818 - val_accuracy: 0.5232\n",
      "Epoch 51/100\n",
      "1000/1000 [==============================] - 5s 5ms/step - loss: 0.6810 - accuracy: 0.5864 - val_loss: 0.6796 - val_accuracy: 0.6641\n",
      "Epoch 52/100\n",
      "1000/1000 [==============================] - 5s 5ms/step - loss: 0.6812 - accuracy: 0.5782 - val_loss: 0.6826 - val_accuracy: 0.5113\n",
      "Epoch 53/100\n",
      "1000/1000 [==============================] - 5s 5ms/step - loss: 0.6811 - accuracy: 0.5784 - val_loss: 0.6821 - val_accuracy: 0.5142\n",
      "Epoch 54/100\n",
      "1000/1000 [==============================] - 5s 5ms/step - loss: 0.6803 - accuracy: 0.5897 - val_loss: 0.6791 - val_accuracy: 0.6202\n",
      "Epoch 55/100\n",
      "1000/1000 [==============================] - 5s 5ms/step - loss: 0.6801 - accuracy: 0.5890 - val_loss: 0.6808 - val_accuracy: 0.5159\n",
      "Epoch 56/100\n",
      "1000/1000 [==============================] - 5s 5ms/step - loss: 0.6796 - accuracy: 0.5910 - val_loss: 0.6783 - val_accuracy: 0.7141\n",
      "Epoch 57/100\n",
      "1000/1000 [==============================] - 5s 5ms/step - loss: 0.6799 - accuracy: 0.5846 - val_loss: 0.6781 - val_accuracy: 0.6736\n",
      "Epoch 58/100\n",
      "1000/1000 [==============================] - 5s 5ms/step - loss: 0.6792 - accuracy: 0.5998 - val_loss: 0.6799 - val_accuracy: 0.5343\n",
      "Epoch 59/100\n",
      "1000/1000 [==============================] - 5s 5ms/step - loss: 0.6792 - accuracy: 0.5989 - val_loss: 0.6779 - val_accuracy: 0.6246\n",
      "Epoch 60/100\n",
      "1000/1000 [==============================] - 4s 4ms/step - loss: 0.6790 - accuracy: 0.6026 - val_loss: 0.6773 - val_accuracy: 0.7170\n",
      "Epoch 61/100\n",
      "1000/1000 [==============================] - 6s 6ms/step - loss: 0.6787 - accuracy: 0.6097 - val_loss: 0.6776 - val_accuracy: 0.6089\n",
      "Epoch 62/100\n",
      "1000/1000 [==============================] - 6s 6ms/step - loss: 0.6782 - accuracy: 0.5946 - val_loss: 0.6769 - val_accuracy: 0.7176\n",
      "Epoch 63/100\n",
      "1000/1000 [==============================] - 6s 6ms/step - loss: 0.6780 - accuracy: 0.6128 - val_loss: 0.6769 - val_accuracy: 0.6449\n",
      "Epoch 64/100\n",
      "1000/1000 [==============================] - 6s 6ms/step - loss: 0.6780 - accuracy: 0.5999 - val_loss: 0.6768 - val_accuracy: 0.6191\n",
      "Epoch 65/100\n",
      "1000/1000 [==============================] - 7s 7ms/step - loss: 0.6780 - accuracy: 0.5966 - val_loss: 0.6774 - val_accuracy: 0.5549\n",
      "Epoch 66/100\n",
      "1000/1000 [==============================] - 6s 6ms/step - loss: 0.6772 - accuracy: 0.6135 - val_loss: 0.6767 - val_accuracy: 0.5914\n",
      "Epoch 67/100\n",
      "1000/1000 [==============================] - 6s 6ms/step - loss: 0.6770 - accuracy: 0.5935 - val_loss: 0.6814 - val_accuracy: 0.5067\n",
      "Epoch 68/100\n",
      "1000/1000 [==============================] - 6s 6ms/step - loss: 0.6772 - accuracy: 0.6022 - val_loss: 0.6755 - val_accuracy: 0.7128\n",
      "Epoch 69/100\n",
      "1000/1000 [==============================] - 5s 5ms/step - loss: 0.6772 - accuracy: 0.6134 - val_loss: 0.6792 - val_accuracy: 0.5207\n",
      "Epoch 70/100\n",
      "1000/1000 [==============================] - 5s 5ms/step - loss: 0.6769 - accuracy: 0.6033 - val_loss: 0.6786 - val_accuracy: 0.5156\n",
      "Epoch 71/100\n",
      "1000/1000 [==============================] - 6s 6ms/step - loss: 0.6764 - accuracy: 0.6031 - val_loss: 0.6752 - val_accuracy: 0.6356\n",
      "Epoch 72/100\n",
      "1000/1000 [==============================] - 6s 6ms/step - loss: 0.6758 - accuracy: 0.6106 - val_loss: 0.6786 - val_accuracy: 0.5225\n",
      "Epoch 73/100\n",
      "1000/1000 [==============================] - 5s 5ms/step - loss: 0.6757 - accuracy: 0.6102 - val_loss: 0.6801 - val_accuracy: 0.5088\n",
      "Epoch 74/100\n",
      "1000/1000 [==============================] - 5s 5ms/step - loss: 0.6756 - accuracy: 0.6179 - val_loss: 0.6741 - val_accuracy: 0.6768\n",
      "Epoch 75/100\n",
      "1000/1000 [==============================] - 5s 5ms/step - loss: 0.6753 - accuracy: 0.6240 - val_loss: 0.6754 - val_accuracy: 0.5559\n",
      "Epoch 76/100\n",
      "1000/1000 [==============================] - 5s 5ms/step - loss: 0.6750 - accuracy: 0.6062 - val_loss: 0.6740 - val_accuracy: 0.6371\n",
      "Epoch 77/100\n",
      "1000/1000 [==============================] - 5s 5ms/step - loss: 0.6753 - accuracy: 0.6124 - val_loss: 0.6736 - val_accuracy: 0.6781\n",
      "Epoch 78/100\n",
      "1000/1000 [==============================] - 6s 6ms/step - loss: 0.6747 - accuracy: 0.6123 - val_loss: 0.6733 - val_accuracy: 0.6911\n",
      "Epoch 79/100\n",
      "1000/1000 [==============================] - 5s 5ms/step - loss: 0.6744 - accuracy: 0.6202 - val_loss: 0.6745 - val_accuracy: 0.5635\n",
      "Epoch 80/100\n",
      "1000/1000 [==============================] - 5s 5ms/step - loss: 0.6740 - accuracy: 0.6170 - val_loss: 0.6731 - val_accuracy: 0.6420\n",
      "Epoch 81/100\n",
      "1000/1000 [==============================] - 5s 5ms/step - loss: 0.6739 - accuracy: 0.6149 - val_loss: 0.6736 - val_accuracy: 0.5870\n",
      "Epoch 82/100\n",
      "1000/1000 [==============================] - 5s 5ms/step - loss: 0.6734 - accuracy: 0.6203 - val_loss: 0.6727 - val_accuracy: 0.6348\n",
      "Epoch 83/100\n",
      "1000/1000 [==============================] - 6s 6ms/step - loss: 0.6740 - accuracy: 0.6087 - val_loss: 0.6728 - val_accuracy: 0.6101\n",
      "Epoch 84/100\n",
      "1000/1000 [==============================] - 7s 7ms/step - loss: 0.6737 - accuracy: 0.6192 - val_loss: 0.6722 - val_accuracy: 0.6399\n",
      "Epoch 85/100\n",
      "1000/1000 [==============================] - 5s 5ms/step - loss: 0.6730 - accuracy: 0.6253 - val_loss: 0.6749 - val_accuracy: 0.5439\n",
      "Epoch 86/100\n",
      "1000/1000 [==============================] - 6s 6ms/step - loss: 0.6725 - accuracy: 0.6223 - val_loss: 0.6754 - val_accuracy: 0.5351\n",
      "Epoch 87/100\n",
      "1000/1000 [==============================] - 5s 5ms/step - loss: 0.6727 - accuracy: 0.6222 - val_loss: 0.6732 - val_accuracy: 0.5706\n",
      "Epoch 88/100\n",
      "1000/1000 [==============================] - 5s 5ms/step - loss: 0.6721 - accuracy: 0.6318 - val_loss: 0.6729 - val_accuracy: 0.5714\n",
      "Epoch 89/100\n",
      "1000/1000 [==============================] - 4s 4ms/step - loss: 0.6720 - accuracy: 0.6285 - val_loss: 0.6707 - val_accuracy: 0.7154\n",
      "Epoch 90/100\n",
      "1000/1000 [==============================] - 5s 5ms/step - loss: 0.6721 - accuracy: 0.6197 - val_loss: 0.6705 - val_accuracy: 0.7146\n",
      "Epoch 91/100\n",
      "1000/1000 [==============================] - 5s 5ms/step - loss: 0.6717 - accuracy: 0.6256 - val_loss: 0.6708 - val_accuracy: 0.6335\n",
      "Epoch 92/100\n",
      "1000/1000 [==============================] - 5s 5ms/step - loss: 0.6713 - accuracy: 0.6232 - val_loss: 0.6699 - val_accuracy: 0.7066\n",
      "Epoch 93/100\n",
      "1000/1000 [==============================] - 6s 6ms/step - loss: 0.6714 - accuracy: 0.6240 - val_loss: 0.6697 - val_accuracy: 0.7232\n",
      "Epoch 94/100\n",
      "1000/1000 [==============================] - 6s 6ms/step - loss: 0.6713 - accuracy: 0.6331 - val_loss: 0.6699 - val_accuracy: 0.6709\n",
      "Epoch 95/100\n",
      "1000/1000 [==============================] - 6s 6ms/step - loss: 0.6705 - accuracy: 0.6441 - val_loss: 0.6707 - val_accuracy: 0.5962\n",
      "Epoch 96/100\n",
      "1000/1000 [==============================] - 5s 5ms/step - loss: 0.6708 - accuracy: 0.6246 - val_loss: 0.6694 - val_accuracy: 0.6586\n",
      "Epoch 97/100\n",
      "1000/1000 [==============================] - 6s 6ms/step - loss: 0.6706 - accuracy: 0.6380 - val_loss: 0.6688 - val_accuracy: 0.7070\n",
      "Epoch 98/100\n",
      "1000/1000 [==============================] - 5s 5ms/step - loss: 0.6701 - accuracy: 0.6369 - val_loss: 0.6699 - val_accuracy: 0.6084\n",
      "Epoch 99/100\n",
      "1000/1000 [==============================] - 6s 6ms/step - loss: 0.6698 - accuracy: 0.6267 - val_loss: 0.6690 - val_accuracy: 0.6385\n",
      "Epoch 100/100\n",
      "1000/1000 [==============================] - 6s 6ms/step - loss: 0.6698 - accuracy: 0.6392 - val_loss: 0.6689 - val_accuracy: 0.6426\n"
     ]
    }
   ],
   "source": [
    "history_sgd = model_sgd.fit(x_train, y_train_, epochs=100, validation_data=(x_test, y_test_))"
   ]
  },
  {
   "cell_type": "code",
   "execution_count": 34,
   "id": "775b50fe",
   "metadata": {},
   "outputs": [],
   "source": [
    "train_loss_sgd = history_sgd.history['loss']\n",
    "val_accuracy_sgd = history_sgd.history['val_accuracy']"
   ]
  },
  {
   "cell_type": "markdown",
   "id": "3b7d896f",
   "metadata": {},
   "source": [
    "RMSProp"
   ]
  },
  {
   "cell_type": "code",
   "execution_count": 35,
   "id": "5c54277d",
   "metadata": {},
   "outputs": [],
   "source": [
    "model_rmsprop = Sequential([\n",
    "    Dense(1, activation='sigmoid', input_shape=(x_train.shape[1],))\n",
    "])"
   ]
  },
  {
   "cell_type": "code",
   "execution_count": 36,
   "id": "d3300288",
   "metadata": {},
   "outputs": [],
   "source": [
    "optimizer = tf.keras.optimizers.RMSprop(learning_rate=0.1)"
   ]
  },
  {
   "cell_type": "code",
   "execution_count": 37,
   "id": "85766068",
   "metadata": {},
   "outputs": [],
   "source": [
    "model_rmsprop.compile(optimizer=optimizer,\n",
    "              loss='binary_crossentropy',\n",
    "              metrics=['accuracy'])"
   ]
  },
  {
   "cell_type": "code",
   "execution_count": 38,
   "id": "c249b1c0",
   "metadata": {},
   "outputs": [
    {
     "name": "stdout",
     "output_type": "stream",
     "text": [
      "Epoch 1/100\n",
      "1000/1000 [==============================] - 11s 10ms/step - loss: 0.6641 - accuracy: 0.6283 - val_loss: 0.6345 - val_accuracy: 0.7460\n",
      "Epoch 2/100\n",
      "1000/1000 [==============================] - 6s 6ms/step - loss: 0.6176 - accuracy: 0.7212 - val_loss: 0.5995 - val_accuracy: 0.7526\n",
      "Epoch 3/100\n",
      "1000/1000 [==============================] - 5s 5ms/step - loss: 0.5872 - accuracy: 0.7429 - val_loss: 0.5748 - val_accuracy: 0.7614\n",
      "Epoch 4/100\n",
      "1000/1000 [==============================] - 6s 6ms/step - loss: 0.5655 - accuracy: 0.7581 - val_loss: 0.5568 - val_accuracy: 0.7676\n",
      "Epoch 5/100\n",
      "1000/1000 [==============================] - 6s 6ms/step - loss: 0.5486 - accuracy: 0.7663 - val_loss: 0.5430 - val_accuracy: 0.7682\n",
      "Epoch 6/100\n",
      "1000/1000 [==============================] - 5s 5ms/step - loss: 0.5353 - accuracy: 0.7731 - val_loss: 0.5309 - val_accuracy: 0.7765\n",
      "Epoch 7/100\n",
      "1000/1000 [==============================] - 5s 5ms/step - loss: 0.5236 - accuracy: 0.7793 - val_loss: 0.5212 - val_accuracy: 0.7815\n",
      "Epoch 8/100\n",
      "1000/1000 [==============================] - 6s 6ms/step - loss: 0.5140 - accuracy: 0.7822 - val_loss: 0.5137 - val_accuracy: 0.7791\n",
      "Epoch 9/100\n",
      "1000/1000 [==============================] - 6s 6ms/step - loss: 0.5051 - accuracy: 0.7884 - val_loss: 0.5061 - val_accuracy: 0.7854\n",
      "Epoch 10/100\n",
      "1000/1000 [==============================] - 6s 6ms/step - loss: 0.4979 - accuracy: 0.7905 - val_loss: 0.5055 - val_accuracy: 0.7726\n",
      "Epoch 11/100\n",
      "1000/1000 [==============================] - 7s 7ms/step - loss: 0.4912 - accuracy: 0.7933 - val_loss: 0.4985 - val_accuracy: 0.7799\n",
      "Epoch 12/100\n",
      "1000/1000 [==============================] - 6s 6ms/step - loss: 0.4850 - accuracy: 0.7964 - val_loss: 0.4890 - val_accuracy: 0.7899\n",
      "Epoch 13/100\n",
      "1000/1000 [==============================] - 5s 5ms/step - loss: 0.4796 - accuracy: 0.8009 - val_loss: 0.4844 - val_accuracy: 0.7921\n",
      "Epoch 14/100\n",
      "1000/1000 [==============================] - 5s 5ms/step - loss: 0.4741 - accuracy: 0.8002 - val_loss: 0.4816 - val_accuracy: 0.7906\n",
      "Epoch 15/100\n",
      "1000/1000 [==============================] - 6s 6ms/step - loss: 0.4699 - accuracy: 0.8054 - val_loss: 0.4758 - val_accuracy: 0.7951\n",
      "Epoch 16/100\n",
      "1000/1000 [==============================] - 6s 6ms/step - loss: 0.4655 - accuracy: 0.8061 - val_loss: 0.4721 - val_accuracy: 0.7979\n",
      "Epoch 17/100\n",
      "1000/1000 [==============================] - 5s 5ms/step - loss: 0.4611 - accuracy: 0.8086 - val_loss: 0.4706 - val_accuracy: 0.7956\n",
      "Epoch 18/100\n",
      "1000/1000 [==============================] - 5s 5ms/step - loss: 0.4575 - accuracy: 0.8105 - val_loss: 0.4659 - val_accuracy: 0.8016\n",
      "Epoch 19/100\n",
      "1000/1000 [==============================] - 5s 5ms/step - loss: 0.4535 - accuracy: 0.8123 - val_loss: 0.4636 - val_accuracy: 0.8009\n",
      "Epoch 20/100\n",
      "1000/1000 [==============================] - 6s 6ms/step - loss: 0.4505 - accuracy: 0.8135 - val_loss: 0.4605 - val_accuracy: 0.8023\n",
      "Epoch 21/100\n",
      "1000/1000 [==============================] - 5s 5ms/step - loss: 0.4471 - accuracy: 0.8161 - val_loss: 0.4577 - val_accuracy: 0.8018\n",
      "Epoch 22/100\n",
      "1000/1000 [==============================] - 5s 5ms/step - loss: 0.4443 - accuracy: 0.8156 - val_loss: 0.4565 - val_accuracy: 0.8040\n",
      "Epoch 23/100\n",
      "1000/1000 [==============================] - 5s 5ms/step - loss: 0.4413 - accuracy: 0.8173 - val_loss: 0.4537 - val_accuracy: 0.8018\n",
      "Epoch 24/100\n",
      "1000/1000 [==============================] - 5s 5ms/step - loss: 0.4382 - accuracy: 0.8191 - val_loss: 0.4511 - val_accuracy: 0.8035\n",
      "Epoch 25/100\n",
      "1000/1000 [==============================] - 5s 5ms/step - loss: 0.4356 - accuracy: 0.8201 - val_loss: 0.4490 - val_accuracy: 0.8060\n",
      "Epoch 26/100\n",
      "1000/1000 [==============================] - 6s 6ms/step - loss: 0.4336 - accuracy: 0.8209 - val_loss: 0.4475 - val_accuracy: 0.8060\n",
      "Epoch 27/100\n",
      "1000/1000 [==============================] - 5s 5ms/step - loss: 0.4311 - accuracy: 0.8222 - val_loss: 0.4454 - val_accuracy: 0.8067\n",
      "Epoch 28/100\n",
      "1000/1000 [==============================] - 5s 5ms/step - loss: 0.4289 - accuracy: 0.8222 - val_loss: 0.4483 - val_accuracy: 0.8001\n",
      "Epoch 29/100\n",
      "1000/1000 [==============================] - 5s 5ms/step - loss: 0.4267 - accuracy: 0.8238 - val_loss: 0.4421 - val_accuracy: 0.8081\n",
      "Epoch 30/100\n",
      "1000/1000 [==============================] - 6s 6ms/step - loss: 0.4244 - accuracy: 0.8244 - val_loss: 0.4405 - val_accuracy: 0.8086\n",
      "Epoch 31/100\n",
      "1000/1000 [==============================] - 5s 5ms/step - loss: 0.4225 - accuracy: 0.8274 - val_loss: 0.4389 - val_accuracy: 0.8091\n",
      "Epoch 32/100\n",
      "1000/1000 [==============================] - 5s 5ms/step - loss: 0.4204 - accuracy: 0.8263 - val_loss: 0.4376 - val_accuracy: 0.8076\n",
      "Epoch 33/100\n",
      "1000/1000 [==============================] - 6s 6ms/step - loss: 0.4184 - accuracy: 0.8270 - val_loss: 0.4421 - val_accuracy: 0.8046\n",
      "Epoch 34/100\n",
      "1000/1000 [==============================] - 5s 5ms/step - loss: 0.4166 - accuracy: 0.8278 - val_loss: 0.4374 - val_accuracy: 0.8064\n",
      "Epoch 35/100\n",
      "1000/1000 [==============================] - 5s 5ms/step - loss: 0.4150 - accuracy: 0.8296 - val_loss: 0.4336 - val_accuracy: 0.8104\n",
      "Epoch 36/100\n",
      "1000/1000 [==============================] - 5s 5ms/step - loss: 0.4132 - accuracy: 0.8298 - val_loss: 0.4356 - val_accuracy: 0.8070\n",
      "Epoch 37/100\n",
      "1000/1000 [==============================] - 5s 5ms/step - loss: 0.4117 - accuracy: 0.8290 - val_loss: 0.4343 - val_accuracy: 0.8096\n",
      "Epoch 38/100\n",
      "1000/1000 [==============================] - 6s 6ms/step - loss: 0.4102 - accuracy: 0.8303 - val_loss: 0.4300 - val_accuracy: 0.8134\n",
      "Epoch 39/100\n",
      "1000/1000 [==============================] - 5s 5ms/step - loss: 0.4084 - accuracy: 0.8324 - val_loss: 0.4348 - val_accuracy: 0.8087\n",
      "Epoch 40/100\n",
      "1000/1000 [==============================] - 5s 5ms/step - loss: 0.4070 - accuracy: 0.8320 - val_loss: 0.4302 - val_accuracy: 0.8104\n",
      "Epoch 41/100\n",
      "1000/1000 [==============================] - 5s 5ms/step - loss: 0.4054 - accuracy: 0.8329 - val_loss: 0.4270 - val_accuracy: 0.8135\n",
      "Epoch 42/100\n",
      "1000/1000 [==============================] - 5s 5ms/step - loss: 0.4041 - accuracy: 0.8348 - val_loss: 0.4275 - val_accuracy: 0.8133\n",
      "Epoch 43/100\n",
      "1000/1000 [==============================] - 5s 5ms/step - loss: 0.4027 - accuracy: 0.8358 - val_loss: 0.4250 - val_accuracy: 0.8145\n",
      "Epoch 44/100\n",
      "1000/1000 [==============================] - 5s 5ms/step - loss: 0.4013 - accuracy: 0.8357 - val_loss: 0.4241 - val_accuracy: 0.8139\n",
      "Epoch 45/100\n",
      "1000/1000 [==============================] - 5s 5ms/step - loss: 0.4001 - accuracy: 0.8356 - val_loss: 0.4267 - val_accuracy: 0.8095\n",
      "Epoch 46/100\n",
      "1000/1000 [==============================] - 5s 5ms/step - loss: 0.3990 - accuracy: 0.8370 - val_loss: 0.4225 - val_accuracy: 0.8141\n",
      "Epoch 47/100\n",
      "1000/1000 [==============================] - 5s 5ms/step - loss: 0.3975 - accuracy: 0.8371 - val_loss: 0.4231 - val_accuracy: 0.8140\n",
      "Epoch 48/100\n",
      "1000/1000 [==============================] - 6s 6ms/step - loss: 0.3964 - accuracy: 0.8375 - val_loss: 0.4208 - val_accuracy: 0.8149\n",
      "Epoch 49/100\n",
      "1000/1000 [==============================] - 5s 5ms/step - loss: 0.3950 - accuracy: 0.8376 - val_loss: 0.4248 - val_accuracy: 0.8120\n",
      "Epoch 50/100\n",
      "1000/1000 [==============================] - 5s 5ms/step - loss: 0.3939 - accuracy: 0.8385 - val_loss: 0.4243 - val_accuracy: 0.8071\n",
      "Epoch 51/100\n",
      "1000/1000 [==============================] - 5s 5ms/step - loss: 0.3930 - accuracy: 0.8394 - val_loss: 0.4187 - val_accuracy: 0.8163\n",
      "Epoch 52/100\n",
      "1000/1000 [==============================] - 5s 5ms/step - loss: 0.3918 - accuracy: 0.8403 - val_loss: 0.4183 - val_accuracy: 0.8160\n",
      "Epoch 53/100\n",
      "1000/1000 [==============================] - 5s 5ms/step - loss: 0.3904 - accuracy: 0.8410 - val_loss: 0.4198 - val_accuracy: 0.8117\n",
      "Epoch 54/100\n",
      "1000/1000 [==============================] - 5s 5ms/step - loss: 0.3892 - accuracy: 0.8410 - val_loss: 0.4181 - val_accuracy: 0.8167\n",
      "Epoch 55/100\n",
      "1000/1000 [==============================] - 5s 5ms/step - loss: 0.3884 - accuracy: 0.8410 - val_loss: 0.4162 - val_accuracy: 0.8167\n",
      "Epoch 56/100\n",
      "1000/1000 [==============================] - 6s 6ms/step - loss: 0.3874 - accuracy: 0.8424 - val_loss: 0.4183 - val_accuracy: 0.8114\n",
      "Epoch 57/100\n",
      "1000/1000 [==============================] - 5s 5ms/step - loss: 0.3864 - accuracy: 0.8418 - val_loss: 0.4191 - val_accuracy: 0.8159\n",
      "Epoch 58/100\n",
      "1000/1000 [==============================] - 6s 6ms/step - loss: 0.3854 - accuracy: 0.8430 - val_loss: 0.4147 - val_accuracy: 0.8185\n",
      "Epoch 59/100\n",
      "1000/1000 [==============================] - 5s 5ms/step - loss: 0.3844 - accuracy: 0.8429 - val_loss: 0.4148 - val_accuracy: 0.8180\n",
      "Epoch 60/100\n",
      "1000/1000 [==============================] - 6s 6ms/step - loss: 0.3834 - accuracy: 0.8442 - val_loss: 0.4129 - val_accuracy: 0.8175\n",
      "Epoch 61/100\n",
      "1000/1000 [==============================] - 5s 5ms/step - loss: 0.3823 - accuracy: 0.8455 - val_loss: 0.4124 - val_accuracy: 0.8184\n",
      "Epoch 62/100\n",
      "1000/1000 [==============================] - 5s 5ms/step - loss: 0.3815 - accuracy: 0.8455 - val_loss: 0.4172 - val_accuracy: 0.8102\n",
      "Epoch 63/100\n",
      "1000/1000 [==============================] - 5s 5ms/step - loss: 0.3805 - accuracy: 0.8468 - val_loss: 0.4114 - val_accuracy: 0.8191\n",
      "Epoch 64/100\n",
      "1000/1000 [==============================] - 6s 6ms/step - loss: 0.3797 - accuracy: 0.8462 - val_loss: 0.4108 - val_accuracy: 0.8200\n",
      "Epoch 65/100\n",
      "1000/1000 [==============================] - 6s 6ms/step - loss: 0.3788 - accuracy: 0.8454 - val_loss: 0.4226 - val_accuracy: 0.8090\n",
      "Epoch 66/100\n",
      "1000/1000 [==============================] - 6s 6ms/step - loss: 0.3781 - accuracy: 0.8466 - val_loss: 0.4098 - val_accuracy: 0.8183\n",
      "Epoch 67/100\n",
      "1000/1000 [==============================] - 6s 6ms/step - loss: 0.3771 - accuracy: 0.8468 - val_loss: 0.4096 - val_accuracy: 0.8202\n",
      "Epoch 68/100\n",
      "1000/1000 [==============================] - 6s 6ms/step - loss: 0.3764 - accuracy: 0.8477 - val_loss: 0.4099 - val_accuracy: 0.8179\n",
      "Epoch 69/100\n",
      "1000/1000 [==============================] - 6s 6ms/step - loss: 0.3758 - accuracy: 0.8489 - val_loss: 0.4086 - val_accuracy: 0.8207\n",
      "Epoch 70/100\n",
      "1000/1000 [==============================] - 5s 5ms/step - loss: 0.3746 - accuracy: 0.8483 - val_loss: 0.4135 - val_accuracy: 0.8183\n",
      "Epoch 71/100\n",
      "1000/1000 [==============================] - 6s 6ms/step - loss: 0.3740 - accuracy: 0.8489 - val_loss: 0.4148 - val_accuracy: 0.8151\n",
      "Epoch 72/100\n",
      "1000/1000 [==============================] - 5s 5ms/step - loss: 0.3732 - accuracy: 0.8490 - val_loss: 0.4141 - val_accuracy: 0.8112\n",
      "Epoch 73/100\n",
      "1000/1000 [==============================] - 5s 5ms/step - loss: 0.3726 - accuracy: 0.8495 - val_loss: 0.4067 - val_accuracy: 0.8219\n",
      "Epoch 74/100\n",
      "1000/1000 [==============================] - 5s 5ms/step - loss: 0.3715 - accuracy: 0.8507 - val_loss: 0.4209 - val_accuracy: 0.8081\n",
      "Epoch 75/100\n",
      "1000/1000 [==============================] - 5s 5ms/step - loss: 0.3707 - accuracy: 0.8488 - val_loss: 0.4063 - val_accuracy: 0.8211\n",
      "Epoch 76/100\n",
      "1000/1000 [==============================] - 7s 7ms/step - loss: 0.3704 - accuracy: 0.8508 - val_loss: 0.4056 - val_accuracy: 0.8223\n",
      "Epoch 77/100\n",
      "1000/1000 [==============================] - 6s 6ms/step - loss: 0.3695 - accuracy: 0.8498 - val_loss: 0.4052 - val_accuracy: 0.8223\n",
      "Epoch 78/100\n",
      "1000/1000 [==============================] - 6s 6ms/step - loss: 0.3688 - accuracy: 0.8502 - val_loss: 0.4048 - val_accuracy: 0.8226\n",
      "Epoch 79/100\n",
      "1000/1000 [==============================] - 6s 6ms/step - loss: 0.3678 - accuracy: 0.8528 - val_loss: 0.4086 - val_accuracy: 0.8200\n",
      "Epoch 80/100\n",
      "1000/1000 [==============================] - 5s 5ms/step - loss: 0.3672 - accuracy: 0.8518 - val_loss: 0.4059 - val_accuracy: 0.8207\n",
      "Epoch 81/100\n",
      "1000/1000 [==============================] - 6s 6ms/step - loss: 0.3666 - accuracy: 0.8518 - val_loss: 0.4044 - val_accuracy: 0.8211\n",
      "Epoch 82/100\n",
      "1000/1000 [==============================] - 5s 5ms/step - loss: 0.3661 - accuracy: 0.8525 - val_loss: 0.4036 - val_accuracy: 0.8219\n",
      "Epoch 83/100\n",
      "1000/1000 [==============================] - 6s 6ms/step - loss: 0.3654 - accuracy: 0.8529 - val_loss: 0.4038 - val_accuracy: 0.8225\n",
      "Epoch 84/100\n",
      "1000/1000 [==============================] - 5s 5ms/step - loss: 0.3648 - accuracy: 0.8531 - val_loss: 0.4030 - val_accuracy: 0.8229\n",
      "Epoch 85/100\n",
      "1000/1000 [==============================] - 5s 5ms/step - loss: 0.3638 - accuracy: 0.8524 - val_loss: 0.4096 - val_accuracy: 0.8183\n",
      "Epoch 86/100\n",
      "1000/1000 [==============================] - 6s 6ms/step - loss: 0.3633 - accuracy: 0.8541 - val_loss: 0.4024 - val_accuracy: 0.8225\n",
      "Epoch 87/100\n",
      "1000/1000 [==============================] - 5s 5ms/step - loss: 0.3629 - accuracy: 0.8534 - val_loss: 0.4021 - val_accuracy: 0.8241\n",
      "Epoch 88/100\n",
      "1000/1000 [==============================] - 5s 5ms/step - loss: 0.3622 - accuracy: 0.8548 - val_loss: 0.4035 - val_accuracy: 0.8186\n",
      "Epoch 89/100\n",
      "1000/1000 [==============================] - 6s 6ms/step - loss: 0.3615 - accuracy: 0.8544 - val_loss: 0.4023 - val_accuracy: 0.8207\n",
      "Epoch 90/100\n",
      "1000/1000 [==============================] - 6s 6ms/step - loss: 0.3606 - accuracy: 0.8545 - val_loss: 0.4021 - val_accuracy: 0.8206\n",
      "Epoch 91/100\n",
      "1000/1000 [==============================] - 5s 5ms/step - loss: 0.3601 - accuracy: 0.8553 - val_loss: 0.4016 - val_accuracy: 0.8239\n",
      "Epoch 92/100\n",
      "1000/1000 [==============================] - 6s 6ms/step - loss: 0.3597 - accuracy: 0.8547 - val_loss: 0.4013 - val_accuracy: 0.8213\n",
      "Epoch 93/100\n",
      "1000/1000 [==============================] - 6s 6ms/step - loss: 0.3590 - accuracy: 0.8560 - val_loss: 0.4001 - val_accuracy: 0.8242\n",
      "Epoch 94/100\n",
      "1000/1000 [==============================] - 5s 5ms/step - loss: 0.3585 - accuracy: 0.8561 - val_loss: 0.4001 - val_accuracy: 0.8241\n",
      "Epoch 95/100\n",
      "1000/1000 [==============================] - 6s 6ms/step - loss: 0.3580 - accuracy: 0.8572 - val_loss: 0.3996 - val_accuracy: 0.8244\n",
      "Epoch 96/100\n",
      "1000/1000 [==============================] - 5s 5ms/step - loss: 0.3574 - accuracy: 0.8572 - val_loss: 0.3998 - val_accuracy: 0.8244\n",
      "Epoch 97/100\n",
      "1000/1000 [==============================] - 7s 7ms/step - loss: 0.3567 - accuracy: 0.8561 - val_loss: 0.3994 - val_accuracy: 0.8242\n",
      "Epoch 98/100\n",
      "1000/1000 [==============================] - 5s 5ms/step - loss: 0.3565 - accuracy: 0.8583 - val_loss: 0.4016 - val_accuracy: 0.8196\n",
      "Epoch 99/100\n",
      "1000/1000 [==============================] - 7s 7ms/step - loss: 0.3557 - accuracy: 0.8574 - val_loss: 0.4002 - val_accuracy: 0.8221\n",
      "Epoch 100/100\n",
      "1000/1000 [==============================] - 6s 6ms/step - loss: 0.3551 - accuracy: 0.8566 - val_loss: 0.3984 - val_accuracy: 0.8245\n"
     ]
    }
   ],
   "source": [
    "history_rmsprop = model_rmsprop.fit(x_train, y_train_, epochs=100, validation_data=(x_test, y_test_))"
   ]
  },
  {
   "cell_type": "code",
   "execution_count": 39,
   "id": "03bc6338",
   "metadata": {},
   "outputs": [],
   "source": [
    "train_loss_rmsprop = history_rmsprop.history['loss']\n",
    "val_accuracy_rmsprop = history_rmsprop.history['val_accuracy']"
   ]
  },
  {
   "cell_type": "markdown",
   "id": "77e0d57a",
   "metadata": {},
   "source": [
    "Adam"
   ]
  },
  {
   "cell_type": "code",
   "execution_count": 40,
   "id": "cfb41afd",
   "metadata": {},
   "outputs": [],
   "source": [
    "def sqrt_decay(epoch, lr):\n",
    "    return lr / math.sqrt(epoch + 1)"
   ]
  },
  {
   "cell_type": "code",
   "execution_count": 41,
   "id": "02b7c508",
   "metadata": {},
   "outputs": [],
   "source": [
    "model_adam = Sequential([\n",
    "    Dense(1, activation='sigmoid', input_shape=(x_train.shape[1],))\n",
    "])"
   ]
  },
  {
   "cell_type": "code",
   "execution_count": 42,
   "id": "e21803e6",
   "metadata": {},
   "outputs": [],
   "source": [
    "beta_1 = 1e-5"
   ]
  },
  {
   "cell_type": "code",
   "execution_count": 43,
   "id": "97708ba6",
   "metadata": {},
   "outputs": [],
   "source": [
    "optimizer = Adam(learning_rate=0.1,beta_1=beta_1)"
   ]
  },
  {
   "cell_type": "code",
   "execution_count": 44,
   "id": "10513242",
   "metadata": {},
   "outputs": [],
   "source": [
    "model_adam.compile(optimizer=optimizer,\n",
    "              loss='binary_crossentropy',\n",
    "              metrics=['accuracy'])"
   ]
  },
  {
   "cell_type": "code",
   "execution_count": 45,
   "id": "104a6346",
   "metadata": {},
   "outputs": [],
   "source": [
    "lr_scheduler = LearningRateScheduler(sqrt_decay)"
   ]
  },
  {
   "cell_type": "code",
   "execution_count": 46,
   "id": "10e7bea8",
   "metadata": {},
   "outputs": [
    {
     "name": "stdout",
     "output_type": "stream",
     "text": [
      "Epoch 1/100\n",
      "1000/1000 [==============================] - 13s 11ms/step - loss: 0.6055 - accuracy: 0.7390 - val_loss: 0.5389 - val_accuracy: 0.8087 - lr: 0.1000\n",
      "Epoch 2/100\n",
      "1000/1000 [==============================] - 7s 7ms/step - loss: 0.5026 - accuracy: 0.8241 - val_loss: 0.4905 - val_accuracy: 0.8083 - lr: 0.0707\n",
      "Epoch 3/100\n",
      "1000/1000 [==============================] - 5s 5ms/step - loss: 0.4624 - accuracy: 0.8390 - val_loss: 0.4700 - val_accuracy: 0.8161 - lr: 0.0408\n",
      "Epoch 4/100\n",
      "1000/1000 [==============================] - 6s 6ms/step - loss: 0.4445 - accuracy: 0.8460 - val_loss: 0.4609 - val_accuracy: 0.8216 - lr: 0.0204\n",
      "Epoch 5/100\n",
      "1000/1000 [==============================] - 5s 5ms/step - loss: 0.4366 - accuracy: 0.8479 - val_loss: 0.4574 - val_accuracy: 0.8226 - lr: 0.0091\n",
      "Epoch 6/100\n",
      "1000/1000 [==============================] - 5s 5ms/step - loss: 0.4332 - accuracy: 0.8495 - val_loss: 0.4561 - val_accuracy: 0.8226 - lr: 0.0037\n",
      "Epoch 7/100\n",
      "1000/1000 [==============================] - 6s 6ms/step - loss: 0.4318 - accuracy: 0.8496 - val_loss: 0.4555 - val_accuracy: 0.8250 - lr: 0.0014\n",
      "Epoch 8/100\n",
      "1000/1000 [==============================] - 6s 6ms/step - loss: 0.4313 - accuracy: 0.8501 - val_loss: 0.4553 - val_accuracy: 0.8241 - lr: 4.9801e-04\n",
      "Epoch 9/100\n",
      "1000/1000 [==============================] - 6s 6ms/step - loss: 0.4311 - accuracy: 0.8503 - val_loss: 0.4552 - val_accuracy: 0.8238 - lr: 1.6600e-04\n",
      "Epoch 10/100\n",
      "1000/1000 [==============================] - 6s 6ms/step - loss: 0.4311 - accuracy: 0.8503 - val_loss: 0.4552 - val_accuracy: 0.8236 - lr: 5.2495e-05\n",
      "Epoch 11/100\n",
      "1000/1000 [==============================] - 7s 7ms/step - loss: 0.4310 - accuracy: 0.8503 - val_loss: 0.4552 - val_accuracy: 0.8235 - lr: 1.5828e-05\n",
      "Epoch 12/100\n",
      "1000/1000 [==============================] - 6s 6ms/step - loss: 0.4310 - accuracy: 0.8503 - val_loss: 0.4552 - val_accuracy: 0.8235 - lr: 4.5691e-06\n",
      "Epoch 13/100\n",
      "1000/1000 [==============================] - 5s 5ms/step - loss: 0.4310 - accuracy: 0.8503 - val_loss: 0.4552 - val_accuracy: 0.8235 - lr: 1.2672e-06\n",
      "Epoch 14/100\n",
      "1000/1000 [==============================] - 6s 6ms/step - loss: 0.4310 - accuracy: 0.8503 - val_loss: 0.4552 - val_accuracy: 0.8235 - lr: 3.3868e-07\n",
      "Epoch 15/100\n",
      "1000/1000 [==============================] - 6s 6ms/step - loss: 0.4310 - accuracy: 0.8503 - val_loss: 0.4552 - val_accuracy: 0.8235 - lr: 8.7448e-08\n",
      "Epoch 16/100\n",
      "1000/1000 [==============================] - 5s 5ms/step - loss: 0.4310 - accuracy: 0.8503 - val_loss: 0.4552 - val_accuracy: 0.8235 - lr: 2.1862e-08\n",
      "Epoch 17/100\n",
      "1000/1000 [==============================] - 6s 6ms/step - loss: 0.4310 - accuracy: 0.8503 - val_loss: 0.4552 - val_accuracy: 0.8235 - lr: 5.3023e-09\n",
      "Epoch 18/100\n",
      "1000/1000 [==============================] - 6s 6ms/step - loss: 0.4310 - accuracy: 0.8503 - val_loss: 0.4552 - val_accuracy: 0.8235 - lr: 1.2498e-09\n",
      "Epoch 19/100\n",
      "1000/1000 [==============================] - 5s 6ms/step - loss: 0.4310 - accuracy: 0.8503 - val_loss: 0.4552 - val_accuracy: 0.8235 - lr: 2.8672e-10\n",
      "Epoch 20/100\n",
      "1000/1000 [==============================] - 6s 6ms/step - loss: 0.4310 - accuracy: 0.8503 - val_loss: 0.4552 - val_accuracy: 0.8235 - lr: 6.4112e-11\n",
      "Epoch 21/100\n",
      "1000/1000 [==============================] - 7s 7ms/step - loss: 0.4310 - accuracy: 0.8503 - val_loss: 0.4552 - val_accuracy: 0.8235 - lr: 1.3990e-11\n",
      "Epoch 22/100\n",
      "1000/1000 [==============================] - 7s 7ms/step - loss: 0.4310 - accuracy: 0.8503 - val_loss: 0.4552 - val_accuracy: 0.8235 - lr: 2.9827e-12\n",
      "Epoch 23/100\n",
      "1000/1000 [==============================] - 6s 6ms/step - loss: 0.4310 - accuracy: 0.8503 - val_loss: 0.4552 - val_accuracy: 0.8235 - lr: 6.2195e-13\n",
      "Epoch 24/100\n",
      "1000/1000 [==============================] - 6s 6ms/step - loss: 0.4310 - accuracy: 0.8503 - val_loss: 0.4552 - val_accuracy: 0.8235 - lr: 1.2695e-13\n",
      "Epoch 25/100\n",
      "1000/1000 [==============================] - 7s 7ms/step - loss: 0.4310 - accuracy: 0.8503 - val_loss: 0.4552 - val_accuracy: 0.8235 - lr: 2.5391e-14\n",
      "Epoch 26/100\n",
      "1000/1000 [==============================] - 6s 6ms/step - loss: 0.4310 - accuracy: 0.8503 - val_loss: 0.4552 - val_accuracy: 0.8235 - lr: 4.9796e-15\n",
      "Epoch 27/100\n",
      "1000/1000 [==============================] - 6s 6ms/step - loss: 0.4310 - accuracy: 0.8503 - val_loss: 0.4552 - val_accuracy: 0.8235 - lr: 9.5832e-16\n",
      "Epoch 28/100\n",
      "1000/1000 [==============================] - 5s 5ms/step - loss: 0.4310 - accuracy: 0.8503 - val_loss: 0.4552 - val_accuracy: 0.8235 - lr: 1.8110e-16\n",
      "Epoch 29/100\n",
      "1000/1000 [==============================] - 5s 5ms/step - loss: 0.4310 - accuracy: 0.8503 - val_loss: 0.4552 - val_accuracy: 0.8235 - lr: 3.3630e-17\n",
      "Epoch 30/100\n",
      "1000/1000 [==============================] - 6s 6ms/step - loss: 0.4310 - accuracy: 0.8503 - val_loss: 0.4552 - val_accuracy: 0.8235 - lr: 6.1400e-18\n",
      "Epoch 31/100\n",
      "1000/1000 [==============================] - 5s 5ms/step - loss: 0.4310 - accuracy: 0.8503 - val_loss: 0.4552 - val_accuracy: 0.8235 - lr: 1.1028e-18\n",
      "Epoch 32/100\n",
      "1000/1000 [==============================] - 6s 6ms/step - loss: 0.4310 - accuracy: 0.8503 - val_loss: 0.4552 - val_accuracy: 0.8235 - lr: 1.9495e-19\n",
      "Epoch 33/100\n",
      "1000/1000 [==============================] - 6s 6ms/step - loss: 0.4310 - accuracy: 0.8503 - val_loss: 0.4552 - val_accuracy: 0.8235 - lr: 3.3936e-20\n",
      "Epoch 34/100\n",
      "1000/1000 [==============================] - 5s 5ms/step - loss: 0.4310 - accuracy: 0.8503 - val_loss: 0.4552 - val_accuracy: 0.8235 - lr: 5.8199e-21\n",
      "Epoch 35/100\n",
      "1000/1000 [==============================] - 6s 6ms/step - loss: 0.4310 - accuracy: 0.8503 - val_loss: 0.4552 - val_accuracy: 0.8235 - lr: 9.8375e-22\n",
      "Epoch 36/100\n",
      "1000/1000 [==============================] - 5s 5ms/step - loss: 0.4310 - accuracy: 0.8503 - val_loss: 0.4552 - val_accuracy: 0.8235 - lr: 1.6396e-22\n",
      "Epoch 37/100\n",
      "1000/1000 [==============================] - 5s 5ms/step - loss: 0.4310 - accuracy: 0.8503 - val_loss: 0.4552 - val_accuracy: 0.8235 - lr: 2.6955e-23\n",
      "Epoch 38/100\n",
      "1000/1000 [==============================] - 5s 5ms/step - loss: 0.4310 - accuracy: 0.8503 - val_loss: 0.4552 - val_accuracy: 0.8235 - lr: 4.3726e-24\n",
      "Epoch 39/100\n",
      "1000/1000 [==============================] - 5s 5ms/step - loss: 0.4310 - accuracy: 0.8503 - val_loss: 0.4552 - val_accuracy: 0.8235 - lr: 7.0018e-25\n",
      "Epoch 40/100\n",
      "1000/1000 [==============================] - 6s 6ms/step - loss: 0.4310 - accuracy: 0.8503 - val_loss: 0.4552 - val_accuracy: 0.8235 - lr: 1.1071e-25\n",
      "Epoch 41/100\n",
      "1000/1000 [==============================] - 6s 6ms/step - loss: 0.4310 - accuracy: 0.8503 - val_loss: 0.4552 - val_accuracy: 0.8235 - lr: 1.7290e-26\n",
      "Epoch 42/100\n",
      "1000/1000 [==============================] - 6s 6ms/step - loss: 0.4310 - accuracy: 0.8503 - val_loss: 0.4552 - val_accuracy: 0.8235 - lr: 2.6678e-27\n",
      "Epoch 43/100\n",
      "1000/1000 [==============================] - 5s 5ms/step - loss: 0.4310 - accuracy: 0.8503 - val_loss: 0.4552 - val_accuracy: 0.8235 - lr: 4.0684e-28\n",
      "Epoch 44/100\n",
      "1000/1000 [==============================] - 6s 6ms/step - loss: 0.4310 - accuracy: 0.8503 - val_loss: 0.4552 - val_accuracy: 0.8235 - lr: 6.1334e-29\n",
      "Epoch 45/100\n",
      "1000/1000 [==============================] - 5s 5ms/step - loss: 0.4310 - accuracy: 0.8503 - val_loss: 0.4552 - val_accuracy: 0.8235 - lr: 9.1431e-30\n",
      "Epoch 46/100\n",
      "1000/1000 [==============================] - 6s 6ms/step - loss: 0.4310 - accuracy: 0.8503 - val_loss: 0.4552 - val_accuracy: 0.8235 - lr: 1.3481e-30\n",
      "Epoch 47/100\n",
      "1000/1000 [==============================] - 6s 6ms/step - loss: 0.4310 - accuracy: 0.8503 - val_loss: 0.4552 - val_accuracy: 0.8235 - lr: 1.9664e-31\n",
      "Epoch 48/100\n",
      "1000/1000 [==============================] - 5s 5ms/step - loss: 0.4310 - accuracy: 0.8503 - val_loss: 0.4552 - val_accuracy: 0.8235 - lr: 2.8382e-32\n",
      "Epoch 49/100\n",
      "1000/1000 [==============================] - 6s 6ms/step - loss: 0.4310 - accuracy: 0.8503 - val_loss: 0.4552 - val_accuracy: 0.8235 - lr: 4.0546e-33\n",
      "Epoch 50/100\n",
      "1000/1000 [==============================] - 5s 5ms/step - loss: 0.4310 - accuracy: 0.8503 - val_loss: 0.4552 - val_accuracy: 0.8235 - lr: 5.7341e-34\n",
      "Epoch 51/100\n",
      "1000/1000 [==============================] - 5s 5ms/step - loss: 0.4310 - accuracy: 0.8503 - val_loss: 0.4552 - val_accuracy: 0.8235 - lr: 8.0293e-35\n",
      "Epoch 52/100\n",
      "1000/1000 [==============================] - 6s 6ms/step - loss: 0.4310 - accuracy: 0.8503 - val_loss: 0.4552 - val_accuracy: 0.8235 - lr: 1.1135e-35\n",
      "Epoch 53/100\n",
      "1000/1000 [==============================] - 7s 7ms/step - loss: 0.4310 - accuracy: 0.8503 - val_loss: 0.4552 - val_accuracy: 0.8235 - lr: 1.5295e-36\n",
      "Epoch 54/100\n",
      "1000/1000 [==============================] - 7s 7ms/step - loss: 0.4310 - accuracy: 0.8503 - val_loss: 0.4552 - val_accuracy: 0.8235 - lr: 2.0813e-37\n",
      "Epoch 55/100\n",
      "1000/1000 [==============================] - 6s 6ms/step - loss: 0.4310 - accuracy: 0.8503 - val_loss: 0.4552 - val_accuracy: 0.8235 - lr: 2.8065e-38\n",
      "Epoch 56/100\n",
      "1000/1000 [==============================] - 7s 7ms/step - loss: 0.4310 - accuracy: 0.8503 - val_loss: 0.4552 - val_accuracy: 0.8235 - lr: 3.7503e-39\n",
      "Epoch 57/100\n",
      "1000/1000 [==============================] - 6s 6ms/step - loss: 0.4310 - accuracy: 0.8503 - val_loss: 0.4552 - val_accuracy: 0.8235 - lr: 4.9674e-40\n",
      "Epoch 58/100\n",
      "1000/1000 [==============================] - 5s 5ms/step - loss: 0.4310 - accuracy: 0.8503 - val_loss: 0.4552 - val_accuracy: 0.8235 - lr: 6.5225e-41\n",
      "Epoch 59/100\n",
      "1000/1000 [==============================] - 5s 5ms/step - loss: 0.4310 - accuracy: 0.8503 - val_loss: 0.4552 - val_accuracy: 0.8235 - lr: 8.4919e-42\n",
      "Epoch 60/100\n",
      "1000/1000 [==============================] - 6s 6ms/step - loss: 0.4310 - accuracy: 0.8503 - val_loss: 0.4552 - val_accuracy: 0.8235 - lr: 1.0958e-42\n",
      "Epoch 61/100\n",
      "1000/1000 [==============================] - 7s 7ms/step - loss: 0.4310 - accuracy: 0.8503 - val_loss: 0.4552 - val_accuracy: 0.8235 - lr: 1.4013e-43\n",
      "Epoch 62/100\n",
      "1000/1000 [==============================] - 7s 7ms/step - loss: 0.4310 - accuracy: 0.8503 - val_loss: 0.4552 - val_accuracy: 0.8235 - lr: 1.8217e-44\n",
      "Epoch 63/100\n",
      "1000/1000 [==============================] - 6s 6ms/step - loss: 0.4310 - accuracy: 0.8503 - val_loss: 0.4552 - val_accuracy: 0.8235 - lr: 2.8026e-45\n",
      "Epoch 64/100\n",
      "1000/1000 [==============================] - 7s 7ms/step - loss: 0.4310 - accuracy: 0.8503 - val_loss: 0.4552 - val_accuracy: 0.8235 - lr: 0.0000e+00\n",
      "Epoch 65/100\n",
      "1000/1000 [==============================] - 6s 6ms/step - loss: 0.4310 - accuracy: 0.8503 - val_loss: 0.4552 - val_accuracy: 0.8235 - lr: 0.0000e+00\n",
      "Epoch 66/100\n",
      "1000/1000 [==============================] - 6s 6ms/step - loss: 0.4310 - accuracy: 0.8503 - val_loss: 0.4552 - val_accuracy: 0.8235 - lr: 0.0000e+00\n",
      "Epoch 67/100\n",
      "1000/1000 [==============================] - 5s 5ms/step - loss: 0.4310 - accuracy: 0.8503 - val_loss: 0.4552 - val_accuracy: 0.8235 - lr: 0.0000e+00\n",
      "Epoch 68/100\n",
      "1000/1000 [==============================] - 5s 5ms/step - loss: 0.4310 - accuracy: 0.8503 - val_loss: 0.4552 - val_accuracy: 0.8235 - lr: 0.0000e+00\n",
      "Epoch 69/100\n",
      "1000/1000 [==============================] - 5s 5ms/step - loss: 0.4310 - accuracy: 0.8503 - val_loss: 0.4552 - val_accuracy: 0.8235 - lr: 0.0000e+00\n",
      "Epoch 70/100\n",
      "1000/1000 [==============================] - 4s 4ms/step - loss: 0.4310 - accuracy: 0.8503 - val_loss: 0.4552 - val_accuracy: 0.8235 - lr: 0.0000e+00\n",
      "Epoch 71/100\n",
      "1000/1000 [==============================] - 6s 6ms/step - loss: 0.4310 - accuracy: 0.8503 - val_loss: 0.4552 - val_accuracy: 0.8235 - lr: 0.0000e+00\n",
      "Epoch 72/100\n",
      "1000/1000 [==============================] - 6s 6ms/step - loss: 0.4310 - accuracy: 0.8503 - val_loss: 0.4552 - val_accuracy: 0.8235 - lr: 0.0000e+00\n",
      "Epoch 73/100\n",
      "1000/1000 [==============================] - 6s 6ms/step - loss: 0.4310 - accuracy: 0.8503 - val_loss: 0.4552 - val_accuracy: 0.8235 - lr: 0.0000e+00\n",
      "Epoch 74/100\n",
      "1000/1000 [==============================] - 7s 7ms/step - loss: 0.4310 - accuracy: 0.8503 - val_loss: 0.4552 - val_accuracy: 0.8235 - lr: 0.0000e+00\n",
      "Epoch 75/100\n",
      "1000/1000 [==============================] - 6s 6ms/step - loss: 0.4310 - accuracy: 0.8503 - val_loss: 0.4552 - val_accuracy: 0.8235 - lr: 0.0000e+00\n",
      "Epoch 76/100\n",
      "1000/1000 [==============================] - 6s 6ms/step - loss: 0.4310 - accuracy: 0.8503 - val_loss: 0.4552 - val_accuracy: 0.8235 - lr: 0.0000e+00\n",
      "Epoch 77/100\n",
      "1000/1000 [==============================] - 6s 6ms/step - loss: 0.4310 - accuracy: 0.8503 - val_loss: 0.4552 - val_accuracy: 0.8235 - lr: 0.0000e+00\n",
      "Epoch 78/100\n",
      "1000/1000 [==============================] - 6s 6ms/step - loss: 0.4310 - accuracy: 0.8503 - val_loss: 0.4552 - val_accuracy: 0.8235 - lr: 0.0000e+00\n",
      "Epoch 79/100\n",
      "1000/1000 [==============================] - 5s 5ms/step - loss: 0.4310 - accuracy: 0.8503 - val_loss: 0.4552 - val_accuracy: 0.8235 - lr: 0.0000e+00\n",
      "Epoch 80/100\n",
      "1000/1000 [==============================] - 5s 5ms/step - loss: 0.4310 - accuracy: 0.8503 - val_loss: 0.4552 - val_accuracy: 0.8235 - lr: 0.0000e+00\n",
      "Epoch 81/100\n",
      "1000/1000 [==============================] - 6s 6ms/step - loss: 0.4310 - accuracy: 0.8503 - val_loss: 0.4552 - val_accuracy: 0.8235 - lr: 0.0000e+00\n",
      "Epoch 82/100\n",
      "1000/1000 [==============================] - 5s 5ms/step - loss: 0.4310 - accuracy: 0.8503 - val_loss: 0.4552 - val_accuracy: 0.8235 - lr: 0.0000e+00\n",
      "Epoch 83/100\n",
      "1000/1000 [==============================] - 5s 5ms/step - loss: 0.4310 - accuracy: 0.8503 - val_loss: 0.4552 - val_accuracy: 0.8235 - lr: 0.0000e+00\n",
      "Epoch 84/100\n",
      "1000/1000 [==============================] - 6s 6ms/step - loss: 0.4310 - accuracy: 0.8503 - val_loss: 0.4552 - val_accuracy: 0.8235 - lr: 0.0000e+00\n",
      "Epoch 85/100\n",
      "1000/1000 [==============================] - 5s 5ms/step - loss: 0.4310 - accuracy: 0.8503 - val_loss: 0.4552 - val_accuracy: 0.8235 - lr: 0.0000e+00\n",
      "Epoch 86/100\n",
      "1000/1000 [==============================] - 6s 6ms/step - loss: 0.4310 - accuracy: 0.8503 - val_loss: 0.4552 - val_accuracy: 0.8235 - lr: 0.0000e+00\n",
      "Epoch 87/100\n",
      "1000/1000 [==============================] - 6s 6ms/step - loss: 0.4310 - accuracy: 0.8503 - val_loss: 0.4552 - val_accuracy: 0.8235 - lr: 0.0000e+00\n",
      "Epoch 88/100\n",
      "1000/1000 [==============================] - 7s 7ms/step - loss: 0.4310 - accuracy: 0.8503 - val_loss: 0.4552 - val_accuracy: 0.8235 - lr: 0.0000e+00\n",
      "Epoch 89/100\n",
      "1000/1000 [==============================] - 6s 6ms/step - loss: 0.4310 - accuracy: 0.8503 - val_loss: 0.4552 - val_accuracy: 0.8235 - lr: 0.0000e+00\n",
      "Epoch 90/100\n",
      "1000/1000 [==============================] - 6s 6ms/step - loss: 0.4310 - accuracy: 0.8503 - val_loss: 0.4552 - val_accuracy: 0.8235 - lr: 0.0000e+00\n",
      "Epoch 91/100\n",
      "1000/1000 [==============================] - 6s 6ms/step - loss: 0.4310 - accuracy: 0.8503 - val_loss: 0.4552 - val_accuracy: 0.8235 - lr: 0.0000e+00\n",
      "Epoch 92/100\n",
      "1000/1000 [==============================] - 6s 6ms/step - loss: 0.4310 - accuracy: 0.8503 - val_loss: 0.4552 - val_accuracy: 0.8235 - lr: 0.0000e+00\n",
      "Epoch 93/100\n",
      "1000/1000 [==============================] - 5s 5ms/step - loss: 0.4310 - accuracy: 0.8503 - val_loss: 0.4552 - val_accuracy: 0.8235 - lr: 0.0000e+00\n",
      "Epoch 94/100\n",
      "1000/1000 [==============================] - 6s 6ms/step - loss: 0.4310 - accuracy: 0.8503 - val_loss: 0.4552 - val_accuracy: 0.8235 - lr: 0.0000e+00\n",
      "Epoch 95/100\n",
      "1000/1000 [==============================] - 6s 6ms/step - loss: 0.4310 - accuracy: 0.8503 - val_loss: 0.4552 - val_accuracy: 0.8235 - lr: 0.0000e+00\n",
      "Epoch 96/100\n",
      "1000/1000 [==============================] - 5s 5ms/step - loss: 0.4310 - accuracy: 0.8503 - val_loss: 0.4552 - val_accuracy: 0.8235 - lr: 0.0000e+00\n",
      "Epoch 97/100\n",
      "1000/1000 [==============================] - 6s 6ms/step - loss: 0.4310 - accuracy: 0.8503 - val_loss: 0.4552 - val_accuracy: 0.8235 - lr: 0.0000e+00\n",
      "Epoch 98/100\n",
      "1000/1000 [==============================] - 6s 6ms/step - loss: 0.4310 - accuracy: 0.8503 - val_loss: 0.4552 - val_accuracy: 0.8235 - lr: 0.0000e+00\n",
      "Epoch 99/100\n",
      "1000/1000 [==============================] - 6s 6ms/step - loss: 0.4310 - accuracy: 0.8503 - val_loss: 0.4552 - val_accuracy: 0.8235 - lr: 0.0000e+00\n",
      "Epoch 100/100\n",
      "1000/1000 [==============================] - 6s 6ms/step - loss: 0.4310 - accuracy: 0.8503 - val_loss: 0.4552 - val_accuracy: 0.8235 - lr: 0.0000e+00\n"
     ]
    }
   ],
   "source": [
    "history_adam = model_adam.fit(x_train, y_train_, epochs=100, validation_data=(x_test, y_test_), callbacks=[lr_scheduler])"
   ]
  },
  {
   "cell_type": "code",
   "execution_count": 47,
   "id": "8dd985c3",
   "metadata": {},
   "outputs": [],
   "source": [
    "train_loss_adam = history_adam.history['loss']\n",
    "val_accuracy_adam = history_adam.history['val_accuracy']"
   ]
  },
  {
   "cell_type": "code",
   "execution_count": 48,
   "id": "1fea0f25",
   "metadata": {},
   "outputs": [
    {
     "data": {
      "image/png": "[encoded data removed]",
      "text/plain": [
       "<Figure size 640x480 with 1 Axes>"
      ]
     },
     "metadata": {},
     "output_type": "display_data"
    }
   ],
   "source": [
    "epochs = range(1, len(train_loss_sgd) + 1)\n",
    "plt.plot(epochs, train_loss_sgd, 'r', label='SGD Nesterov')\n",
    "plt.plot(epochs, train_loss_adagrad, 'b', label='Adagrad')\n",
    "plt.plot(epochs, train_loss_rmsprop, 'g', label='RMSProp')\n",
    "plt.plot(epochs, train_loss_adam, 'black', label='Adam')\n",
    "plt.title('Training loss')\n",
    "plt.xlabel('Epochs')\n",
    "plt.ylabel('Loss')\n",
    "plt.legend()\n",
    "plt.show()"
   ]
  },
  {
   "cell_type": "code",
   "execution_count": 49,
   "id": "e6b0264b",
   "metadata": {},
   "outputs": [
    {
     "data": {
      "image/png": "[encoded data removed]",
      "text/plain": [
       "<Figure size 640x480 with 1 Axes>"
      ]
     },
     "metadata": {},
     "output_type": "display_data"
    }
   ],
   "source": [
    "epochs = range(1, len(train_loss_sgd) + 1)\n",
    "plt.plot(epochs, val_accuracy_sgd, 'r', label='SGD Nesterov')\n",
    "plt.plot(epochs, val_accuracy_adagrad, 'b', label='Adagrad')\n",
    "plt.plot(epochs, val_accuracy_rmsprop, 'g', label='RMSProp')\n",
    "plt.plot(epochs, val_accuracy_adam, 'black', label='Adam')\n",
    "plt.title('Accuracy on validation (test) set')\n",
    "plt.xlabel('Epochs')\n",
    "plt.ylabel('Accuracy')\n",
    "plt.legend()\n",
    "plt.show()"
   ]
  },
  {
   "cell_type": "markdown",
   "id": "878ab4b6",
   "metadata": {},
   "source": [
    "# Influence of the learning rate on accuracy of SGD Nesterov"
   ]
  },
  {
   "cell_type": "code",
   "execution_count": 24,
   "id": "3adda98b",
   "metadata": {},
   "outputs": [
    {
     "name": "stdout",
     "output_type": "stream",
     "text": [
      "Epoch 1/40\n",
      "1000/1000 [==============================] - 37s 35ms/step - loss: 0.6932 - accuracy: 0.4973 - val_loss: 0.6931 - val_accuracy: 0.5002\n",
      "Epoch 2/40\n",
      "1000/1000 [==============================] - 5s 4ms/step - loss: 0.6932 - accuracy: 0.5011 - val_loss: 0.6932 - val_accuracy: 0.4997\n",
      "Epoch 3/40\n",
      "1000/1000 [==============================] - 6s 6ms/step - loss: 0.6932 - accuracy: 0.5041 - val_loss: 0.6933 - val_accuracy: 0.5002\n",
      "Epoch 4/40\n",
      "1000/1000 [==============================] - 5s 5ms/step - loss: 0.6932 - accuracy: 0.5012 - val_loss: 0.6931 - val_accuracy: 0.5002\n",
      "Epoch 5/40\n",
      "1000/1000 [==============================] - 6s 6ms/step - loss: 0.6931 - accuracy: 0.5023 - val_loss: 0.6931 - val_accuracy: 0.5020\n",
      "Epoch 6/40\n",
      "1000/1000 [==============================] - 6s 6ms/step - loss: 0.6932 - accuracy: 0.5006 - val_loss: 0.6930 - val_accuracy: 0.5004\n",
      "Epoch 7/40\n",
      "1000/1000 [==============================] - 6s 6ms/step - loss: 0.6931 - accuracy: 0.5083 - val_loss: 0.6931 - val_accuracy: 0.4997\n",
      "Epoch 8/40\n",
      "1000/1000 [==============================] - 6s 5ms/step - loss: 0.6932 - accuracy: 0.5026 - val_loss: 0.6930 - val_accuracy: 0.5002\n",
      "Epoch 9/40\n",
      "1000/1000 [==============================] - 6s 6ms/step - loss: 0.6931 - accuracy: 0.5030 - val_loss: 0.6930 - val_accuracy: 0.5161\n",
      "Epoch 10/40\n",
      "1000/1000 [==============================] - 6s 6ms/step - loss: 0.6931 - accuracy: 0.5039 - val_loss: 0.6930 - val_accuracy: 0.4997\n",
      "Epoch 11/40\n",
      "1000/1000 [==============================] - 6s 6ms/step - loss: 0.6931 - accuracy: 0.5049 - val_loss: 0.6930 - val_accuracy: 0.5002\n",
      "Epoch 12/40\n",
      "1000/1000 [==============================] - 6s 6ms/step - loss: 0.6931 - accuracy: 0.5051 - val_loss: 0.6931 - val_accuracy: 0.5002\n",
      "Epoch 13/40\n",
      "1000/1000 [==============================] - 6s 6ms/step - loss: 0.6931 - accuracy: 0.5044 - val_loss: 0.6930 - val_accuracy: 0.5353\n",
      "Epoch 14/40\n",
      "1000/1000 [==============================] - 6s 6ms/step - loss: 0.6931 - accuracy: 0.5062 - val_loss: 0.6932 - val_accuracy: 0.4997\n",
      "Epoch 15/40\n",
      "1000/1000 [==============================] - 6s 6ms/step - loss: 0.6931 - accuracy: 0.5066 - val_loss: 0.6930 - val_accuracy: 0.4997\n",
      "Epoch 16/40\n",
      "1000/1000 [==============================] - 6s 6ms/step - loss: 0.6930 - accuracy: 0.5054 - val_loss: 0.6930 - val_accuracy: 0.4997\n",
      "Epoch 17/40\n",
      "1000/1000 [==============================] - 6s 6ms/step - loss: 0.6931 - accuracy: 0.5032 - val_loss: 0.6929 - val_accuracy: 0.4997\n",
      "Epoch 18/40\n",
      "1000/1000 [==============================] - 6s 6ms/step - loss: 0.6930 - accuracy: 0.5076 - val_loss: 0.6930 - val_accuracy: 0.5002\n",
      "Epoch 19/40\n",
      "1000/1000 [==============================] - 6s 6ms/step - loss: 0.6930 - accuracy: 0.5041 - val_loss: 0.6929 - val_accuracy: 0.5354\n",
      "Epoch 20/40\n",
      "1000/1000 [==============================] - 5s 5ms/step - loss: 0.6930 - accuracy: 0.5158 - val_loss: 0.6930 - val_accuracy: 0.5002\n",
      "Epoch 21/40\n",
      "1000/1000 [==============================] - 6s 6ms/step - loss: 0.6930 - accuracy: 0.5117 - val_loss: 0.6929 - val_accuracy: 0.4997\n",
      "Epoch 22/40\n",
      "1000/1000 [==============================] - 6s 6ms/step - loss: 0.6929 - accuracy: 0.5075 - val_loss: 0.6928 - val_accuracy: 0.5021\n",
      "Epoch 23/40\n",
      "1000/1000 [==============================] - 6s 6ms/step - loss: 0.6929 - accuracy: 0.5070 - val_loss: 0.6929 - val_accuracy: 0.5002\n",
      "Epoch 24/40\n",
      "1000/1000 [==============================] - 6s 6ms/step - loss: 0.6929 - accuracy: 0.5069 - val_loss: 0.6928 - val_accuracy: 0.5002\n",
      "Epoch 25/40\n",
      "1000/1000 [==============================] - 6s 6ms/step - loss: 0.6929 - accuracy: 0.5101 - val_loss: 0.6928 - val_accuracy: 0.4997\n",
      "Epoch 26/40\n",
      "1000/1000 [==============================] - 6s 6ms/step - loss: 0.6929 - accuracy: 0.5096 - val_loss: 0.6928 - val_accuracy: 0.5164\n",
      "Epoch 27/40\n",
      "1000/1000 [==============================] - 6s 6ms/step - loss: 0.6929 - accuracy: 0.5148 - val_loss: 0.6928 - val_accuracy: 0.5274\n",
      "Epoch 28/40\n",
      "1000/1000 [==============================] - 6s 6ms/step - loss: 0.6928 - accuracy: 0.5098 - val_loss: 0.6928 - val_accuracy: 0.4997\n",
      "Epoch 29/40\n",
      "1000/1000 [==============================] - 6s 6ms/step - loss: 0.6928 - accuracy: 0.5077 - val_loss: 0.6928 - val_accuracy: 0.5002\n",
      "Epoch 30/40\n",
      "1000/1000 [==============================] - 6s 6ms/step - loss: 0.6928 - accuracy: 0.5146 - val_loss: 0.6927 - val_accuracy: 0.5008\n",
      "Epoch 31/40\n",
      "1000/1000 [==============================] - 5s 5ms/step - loss: 0.6929 - accuracy: 0.5116 - val_loss: 0.6927 - val_accuracy: 0.5156\n",
      "Epoch 32/40\n",
      "1000/1000 [==============================] - 6s 6ms/step - loss: 0.6928 - accuracy: 0.5122 - val_loss: 0.6927 - val_accuracy: 0.4997\n",
      "Epoch 33/40\n",
      "1000/1000 [==============================] - 6s 6ms/step - loss: 0.6928 - accuracy: 0.5096 - val_loss: 0.6927 - val_accuracy: 0.4999\n",
      "Epoch 34/40\n",
      "1000/1000 [==============================] - 6s 6ms/step - loss: 0.6927 - accuracy: 0.5161 - val_loss: 0.6928 - val_accuracy: 0.5002\n",
      "Epoch 35/40\n",
      "1000/1000 [==============================] - 6s 6ms/step - loss: 0.6928 - accuracy: 0.5182 - val_loss: 0.6928 - val_accuracy: 0.5002\n",
      "Epoch 36/40\n",
      "1000/1000 [==============================] - 6s 6ms/step - loss: 0.6927 - accuracy: 0.5212 - val_loss: 0.6928 - val_accuracy: 0.5002\n",
      "Epoch 37/40\n",
      "1000/1000 [==============================] - 6s 6ms/step - loss: 0.6927 - accuracy: 0.5093 - val_loss: 0.6926 - val_accuracy: 0.5263\n",
      "Epoch 38/40\n",
      "1000/1000 [==============================] - 6s 6ms/step - loss: 0.6927 - accuracy: 0.5158 - val_loss: 0.6929 - val_accuracy: 0.5002\n",
      "Epoch 39/40\n",
      "1000/1000 [==============================] - 6s 6ms/step - loss: 0.6927 - accuracy: 0.5169 - val_loss: 0.6926 - val_accuracy: 0.5081\n",
      "Epoch 40/40\n",
      "1000/1000 [==============================] - 6s 6ms/step - loss: 0.6927 - accuracy: 0.5108 - val_loss: 0.6926 - val_accuracy: 0.4997\n",
      "Epoch 1/40\n",
      "1000/1000 [==============================] - 9s 8ms/step - loss: 0.6934 - accuracy: 0.4978 - val_loss: 0.6933 - val_accuracy: 0.5002\n",
      "Epoch 2/40\n",
      "1000/1000 [==============================] - 6s 6ms/step - loss: 0.6933 - accuracy: 0.5010 - val_loss: 0.6932 - val_accuracy: 0.5002\n",
      "Epoch 3/40\n",
      "1000/1000 [==============================] - 6s 6ms/step - loss: 0.6933 - accuracy: 0.5000 - val_loss: 0.6931 - val_accuracy: 0.5002\n",
      "Epoch 4/40\n",
      "1000/1000 [==============================] - 6s 6ms/step - loss: 0.6932 - accuracy: 0.5012 - val_loss: 0.6930 - val_accuracy: 0.5002\n",
      "Epoch 5/40\n",
      "1000/1000 [==============================] - 6s 6ms/step - loss: 0.6932 - accuracy: 0.5032 - val_loss: 0.6931 - val_accuracy: 0.5002\n",
      "Epoch 6/40\n",
      "1000/1000 [==============================] - 6s 6ms/step - loss: 0.6932 - accuracy: 0.5015 - val_loss: 0.6932 - val_accuracy: 0.5002\n",
      "Epoch 7/40\n",
      "1000/1000 [==============================] - 6s 6ms/step - loss: 0.6932 - accuracy: 0.5016 - val_loss: 0.6930 - val_accuracy: 0.5002\n",
      "Epoch 8/40\n",
      "1000/1000 [==============================] - 6s 6ms/step - loss: 0.6932 - accuracy: 0.5034 - val_loss: 0.6929 - val_accuracy: 0.5419\n",
      "Epoch 9/40\n",
      "1000/1000 [==============================] - 6s 6ms/step - loss: 0.6931 - accuracy: 0.5039 - val_loss: 0.6929 - val_accuracy: 0.5002\n",
      "Epoch 10/40\n",
      "1000/1000 [==============================] - 6s 6ms/step - loss: 0.6930 - accuracy: 0.5089 - val_loss: 0.6933 - val_accuracy: 0.5002\n",
      "Epoch 11/40\n",
      "1000/1000 [==============================] - 6s 6ms/step - loss: 0.6930 - accuracy: 0.5032 - val_loss: 0.6933 - val_accuracy: 0.4997\n",
      "Epoch 12/40\n",
      "1000/1000 [==============================] - 6s 6ms/step - loss: 0.6931 - accuracy: 0.5078 - val_loss: 0.6928 - val_accuracy: 0.4997\n",
      "Epoch 13/40\n",
      "1000/1000 [==============================] - 6s 6ms/step - loss: 0.6930 - accuracy: 0.5063 - val_loss: 0.6929 - val_accuracy: 0.5002\n",
      "Epoch 14/40\n",
      "1000/1000 [==============================] - 6s 6ms/step - loss: 0.6930 - accuracy: 0.5053 - val_loss: 0.6929 - val_accuracy: 0.4997\n",
      "Epoch 15/40\n",
      "1000/1000 [==============================] - 6s 6ms/step - loss: 0.6929 - accuracy: 0.5092 - val_loss: 0.6937 - val_accuracy: 0.4997\n",
      "Epoch 16/40\n",
      "1000/1000 [==============================] - 6s 6ms/step - loss: 0.6929 - accuracy: 0.5109 - val_loss: 0.6927 - val_accuracy: 0.5002\n",
      "Epoch 17/40\n"
     ]
    },
    {
     "name": "stdout",
     "output_type": "stream",
     "text": [
      "1000/1000 [==============================] - 6s 6ms/step - loss: 0.6930 - accuracy: 0.5084 - val_loss: 0.6932 - val_accuracy: 0.5002\n",
      "Epoch 18/40\n",
      "1000/1000 [==============================] - 6s 6ms/step - loss: 0.6929 - accuracy: 0.5107 - val_loss: 0.6927 - val_accuracy: 0.5002\n",
      "Epoch 19/40\n",
      "1000/1000 [==============================] - 6s 6ms/step - loss: 0.6928 - accuracy: 0.5105 - val_loss: 0.6929 - val_accuracy: 0.4997\n",
      "Epoch 20/40\n",
      "1000/1000 [==============================] - 6s 6ms/step - loss: 0.6928 - accuracy: 0.5081 - val_loss: 0.6926 - val_accuracy: 0.5185\n",
      "Epoch 21/40\n",
      "1000/1000 [==============================] - 6s 6ms/step - loss: 0.6928 - accuracy: 0.5125 - val_loss: 0.6926 - val_accuracy: 0.5020\n",
      "Epoch 22/40\n",
      "1000/1000 [==============================] - 6s 6ms/step - loss: 0.6927 - accuracy: 0.5128 - val_loss: 0.6927 - val_accuracy: 0.4997\n",
      "Epoch 23/40\n",
      "1000/1000 [==============================] - 6s 6ms/step - loss: 0.6927 - accuracy: 0.5187 - val_loss: 0.6925 - val_accuracy: 0.5002\n",
      "Epoch 24/40\n",
      "1000/1000 [==============================] - 6s 6ms/step - loss: 0.6927 - accuracy: 0.5191 - val_loss: 0.6930 - val_accuracy: 0.4997\n",
      "Epoch 25/40\n",
      "1000/1000 [==============================] - 6s 6ms/step - loss: 0.6926 - accuracy: 0.5130 - val_loss: 0.6926 - val_accuracy: 0.5002\n",
      "Epoch 26/40\n",
      "1000/1000 [==============================] - 6s 6ms/step - loss: 0.6926 - accuracy: 0.5213 - val_loss: 0.6925 - val_accuracy: 0.4997\n",
      "Epoch 27/40\n",
      "1000/1000 [==============================] - 6s 6ms/step - loss: 0.6925 - accuracy: 0.5165 - val_loss: 0.6928 - val_accuracy: 0.4997\n",
      "Epoch 28/40\n",
      "1000/1000 [==============================] - 6s 6ms/step - loss: 0.6925 - accuracy: 0.5143 - val_loss: 0.6924 - val_accuracy: 0.5014\n",
      "Epoch 29/40\n",
      "1000/1000 [==============================] - 6s 6ms/step - loss: 0.6926 - accuracy: 0.5163 - val_loss: 0.6924 - val_accuracy: 0.5074\n",
      "Epoch 30/40\n",
      "1000/1000 [==============================] - 6s 6ms/step - loss: 0.6925 - accuracy: 0.5131 - val_loss: 0.6923 - val_accuracy: 0.6360\n",
      "Epoch 31/40\n",
      "1000/1000 [==============================] - 6s 6ms/step - loss: 0.6925 - accuracy: 0.5219 - val_loss: 0.6923 - val_accuracy: 0.5006\n",
      "Epoch 32/40\n",
      "1000/1000 [==============================] - 6s 6ms/step - loss: 0.6925 - accuracy: 0.5232 - val_loss: 0.6923 - val_accuracy: 0.5523\n",
      "Epoch 33/40\n",
      "1000/1000 [==============================] - 5s 5ms/step - loss: 0.6923 - accuracy: 0.5172 - val_loss: 0.6923 - val_accuracy: 0.5013\n",
      "Epoch 34/40\n",
      "1000/1000 [==============================] - 6s 6ms/step - loss: 0.6922 - accuracy: 0.5222 - val_loss: 0.6933 - val_accuracy: 0.4997\n",
      "Epoch 35/40\n",
      "1000/1000 [==============================] - 6s 6ms/step - loss: 0.6923 - accuracy: 0.5155 - val_loss: 0.6923 - val_accuracy: 0.5002\n",
      "Epoch 36/40\n",
      "1000/1000 [==============================] - 6s 6ms/step - loss: 0.6923 - accuracy: 0.5142 - val_loss: 0.6923 - val_accuracy: 0.5002\n",
      "Epoch 37/40\n",
      "1000/1000 [==============================] - 6s 6ms/step - loss: 0.6924 - accuracy: 0.5201 - val_loss: 0.6922 - val_accuracy: 0.5008\n",
      "Epoch 38/40\n",
      "1000/1000 [==============================] - 6s 6ms/step - loss: 0.6923 - accuracy: 0.5226 - val_loss: 0.6921 - val_accuracy: 0.6615\n",
      "Epoch 39/40\n",
      "1000/1000 [==============================] - 6s 6ms/step - loss: 0.6922 - accuracy: 0.5267 - val_loss: 0.6921 - val_accuracy: 0.5009\n",
      "Epoch 40/40\n",
      "1000/1000 [==============================] - 6s 6ms/step - loss: 0.6922 - accuracy: 0.5224 - val_loss: 0.6920 - val_accuracy: 0.6645\n",
      "Epoch 1/40\n",
      "1000/1000 [==============================] - 8s 7ms/step - loss: 0.6940 - accuracy: 0.4998 - val_loss: 0.6930 - val_accuracy: 0.5002\n",
      "Epoch 2/40\n",
      "1000/1000 [==============================] - 6s 6ms/step - loss: 0.6939 - accuracy: 0.4957 - val_loss: 0.6930 - val_accuracy: 0.4997\n",
      "Epoch 3/40\n",
      "1000/1000 [==============================] - 6s 6ms/step - loss: 0.6938 - accuracy: 0.5060 - val_loss: 0.6941 - val_accuracy: 0.5002\n",
      "Epoch 4/40\n",
      "1000/1000 [==============================] - 6s 6ms/step - loss: 0.6934 - accuracy: 0.5078 - val_loss: 0.6943 - val_accuracy: 0.5002\n",
      "Epoch 5/40\n",
      "1000/1000 [==============================] - 6s 6ms/step - loss: 0.6930 - accuracy: 0.5091 - val_loss: 0.6925 - val_accuracy: 0.6826\n",
      "Epoch 6/40\n",
      "1000/1000 [==============================] - 6s 6ms/step - loss: 0.6934 - accuracy: 0.5055 - val_loss: 0.6924 - val_accuracy: 0.5041\n",
      "Epoch 7/40\n",
      "1000/1000 [==============================] - 6s 6ms/step - loss: 0.6932 - accuracy: 0.5102 - val_loss: 0.6924 - val_accuracy: 0.5002\n",
      "Epoch 8/40\n",
      "1000/1000 [==============================] - 6s 6ms/step - loss: 0.6931 - accuracy: 0.5100 - val_loss: 0.6965 - val_accuracy: 0.4997\n",
      "Epoch 9/40\n",
      "1000/1000 [==============================] - 6s 6ms/step - loss: 0.6931 - accuracy: 0.5067 - val_loss: 0.6919 - val_accuracy: 0.5691\n",
      "Epoch 10/40\n",
      "1000/1000 [==============================] - 6s 6ms/step - loss: 0.6928 - accuracy: 0.5112 - val_loss: 0.6919 - val_accuracy: 0.5010\n",
      "Epoch 11/40\n",
      "1000/1000 [==============================] - 5s 5ms/step - loss: 0.6927 - accuracy: 0.5133 - val_loss: 0.6917 - val_accuracy: 0.5142\n",
      "Epoch 12/40\n",
      "1000/1000 [==============================] - 5s 5ms/step - loss: 0.6925 - accuracy: 0.5131 - val_loss: 0.6926 - val_accuracy: 0.4997\n",
      "Epoch 13/40\n",
      "1000/1000 [==============================] - 6s 6ms/step - loss: 0.6925 - accuracy: 0.5194 - val_loss: 0.6938 - val_accuracy: 0.4997\n",
      "Epoch 14/40\n",
      "1000/1000 [==============================] - 6s 6ms/step - loss: 0.6921 - accuracy: 0.5164 - val_loss: 0.6913 - val_accuracy: 0.5265\n",
      "Epoch 15/40\n",
      "1000/1000 [==============================] - 6s 6ms/step - loss: 0.6922 - accuracy: 0.5218 - val_loss: 0.6913 - val_accuracy: 0.5023\n",
      "Epoch 16/40\n",
      "1000/1000 [==============================] - 6s 6ms/step - loss: 0.6914 - accuracy: 0.5231 - val_loss: 0.6913 - val_accuracy: 0.5002\n",
      "Epoch 17/40\n",
      "1000/1000 [==============================] - 6s 6ms/step - loss: 0.6918 - accuracy: 0.5178 - val_loss: 0.6909 - val_accuracy: 0.5156\n",
      "Epoch 18/40\n",
      "1000/1000 [==============================] - 6s 6ms/step - loss: 0.6915 - accuracy: 0.5280 - val_loss: 0.6908 - val_accuracy: 0.5289\n",
      "Epoch 19/40\n",
      "1000/1000 [==============================] - 6s 6ms/step - loss: 0.6912 - accuracy: 0.5257 - val_loss: 0.6906 - val_accuracy: 0.5189\n",
      "Epoch 20/40\n",
      "1000/1000 [==============================] - 6s 6ms/step - loss: 0.6912 - accuracy: 0.5232 - val_loss: 0.6907 - val_accuracy: 0.5021\n",
      "Epoch 21/40\n",
      "1000/1000 [==============================] - 6s 6ms/step - loss: 0.6910 - accuracy: 0.5234 - val_loss: 0.6904 - val_accuracy: 0.5165\n",
      "Epoch 22/40\n",
      "1000/1000 [==============================] - 6s 6ms/step - loss: 0.6913 - accuracy: 0.5219 - val_loss: 0.6907 - val_accuracy: 0.5010\n",
      "Epoch 23/40\n",
      "1000/1000 [==============================] - 6s 6ms/step - loss: 0.6908 - accuracy: 0.5259 - val_loss: 0.6906 - val_accuracy: 0.5008\n",
      "Epoch 24/40\n",
      "1000/1000 [==============================] - 5s 5ms/step - loss: 0.6907 - accuracy: 0.5273 - val_loss: 0.6915 - val_accuracy: 0.4997\n",
      "Epoch 25/40\n",
      "1000/1000 [==============================] - 4s 4ms/step - loss: 0.6905 - accuracy: 0.5397 - val_loss: 0.6918 - val_accuracy: 0.4997\n",
      "Epoch 26/40\n",
      "1000/1000 [==============================] - 5s 5ms/step - loss: 0.6904 - accuracy: 0.5290 - val_loss: 0.6958 - val_accuracy: 0.4997\n",
      "Epoch 27/40\n",
      "1000/1000 [==============================] - 5s 5ms/step - loss: 0.6903 - accuracy: 0.5315 - val_loss: 0.6903 - val_accuracy: 0.5008\n",
      "Epoch 28/40\n",
      "1000/1000 [==============================] - 6s 6ms/step - loss: 0.6903 - accuracy: 0.5390 - val_loss: 0.6942 - val_accuracy: 0.4997\n",
      "Epoch 29/40\n",
      "1000/1000 [==============================] - 6s 6ms/step - loss: 0.6901 - accuracy: 0.5404 - val_loss: 0.6892 - val_accuracy: 0.6699\n",
      "Epoch 30/40\n",
      "1000/1000 [==============================] - 6s 6ms/step - loss: 0.6897 - accuracy: 0.5477 - val_loss: 0.6911 - val_accuracy: 0.5002\n",
      "Epoch 31/40\n",
      "1000/1000 [==============================] - 6s 6ms/step - loss: 0.6897 - accuracy: 0.5347 - val_loss: 0.6890 - val_accuracy: 0.6706\n",
      "Epoch 32/40\n",
      "1000/1000 [==============================] - 6s 6ms/step - loss: 0.6897 - accuracy: 0.5397 - val_loss: 0.6908 - val_accuracy: 0.5004\n",
      "Epoch 33/40\n"
     ]
    },
    {
     "name": "stdout",
     "output_type": "stream",
     "text": [
      "1000/1000 [==============================] - 6s 6ms/step - loss: 0.6890 - accuracy: 0.5409 - val_loss: 0.6905 - val_accuracy: 0.5005\n",
      "Epoch 34/40\n",
      "1000/1000 [==============================] - 6s 6ms/step - loss: 0.6895 - accuracy: 0.5433 - val_loss: 0.6900 - val_accuracy: 0.5008\n",
      "Epoch 35/40\n",
      "1000/1000 [==============================] - 6s 6ms/step - loss: 0.6892 - accuracy: 0.5435 - val_loss: 0.6889 - val_accuracy: 0.5117\n",
      "Epoch 36/40\n",
      "1000/1000 [==============================] - 6s 6ms/step - loss: 0.6891 - accuracy: 0.5445 - val_loss: 0.6893 - val_accuracy: 0.5016\n",
      "Epoch 37/40\n",
      "1000/1000 [==============================] - 6s 6ms/step - loss: 0.6888 - accuracy: 0.5445 - val_loss: 0.6882 - val_accuracy: 0.6955\n",
      "Epoch 38/40\n",
      "1000/1000 [==============================] - 6s 6ms/step - loss: 0.6890 - accuracy: 0.5503 - val_loss: 0.6881 - val_accuracy: 0.6308\n",
      "Epoch 39/40\n",
      "1000/1000 [==============================] - 6s 6ms/step - loss: 0.6887 - accuracy: 0.5441 - val_loss: 0.6882 - val_accuracy: 0.5354\n",
      "Epoch 40/40\n",
      "1000/1000 [==============================] - 6s 6ms/step - loss: 0.6886 - accuracy: 0.5463 - val_loss: 0.6882 - val_accuracy: 0.5099\n",
      "Epoch 1/40\n",
      "1000/1000 [==============================] - 8s 7ms/step - loss: 0.6946 - accuracy: 0.5027 - val_loss: 0.6932 - val_accuracy: 0.4997\n",
      "Epoch 2/40\n",
      "1000/1000 [==============================] - 5s 5ms/step - loss: 0.6942 - accuracy: 0.5030 - val_loss: 0.6956 - val_accuracy: 0.5002\n",
      "Epoch 3/40\n",
      "1000/1000 [==============================] - 5s 5ms/step - loss: 0.6941 - accuracy: 0.5054 - val_loss: 0.6942 - val_accuracy: 0.4997\n",
      "Epoch 4/40\n",
      "1000/1000 [==============================] - 6s 6ms/step - loss: 0.6938 - accuracy: 0.5074 - val_loss: 0.6921 - val_accuracy: 0.5102\n",
      "Epoch 5/40\n",
      "1000/1000 [==============================] - 6s 6ms/step - loss: 0.6936 - accuracy: 0.5098 - val_loss: 0.6956 - val_accuracy: 0.5002\n",
      "Epoch 6/40\n",
      "1000/1000 [==============================] - 6s 6ms/step - loss: 0.6937 - accuracy: 0.5057 - val_loss: 0.6936 - val_accuracy: 0.4997\n",
      "Epoch 7/40\n",
      "1000/1000 [==============================] - 6s 6ms/step - loss: 0.6930 - accuracy: 0.5116 - val_loss: 0.6953 - val_accuracy: 0.5002\n",
      "Epoch 8/40\n",
      "1000/1000 [==============================] - 6s 6ms/step - loss: 0.6926 - accuracy: 0.5201 - val_loss: 0.6910 - val_accuracy: 0.5290\n",
      "Epoch 9/40\n",
      "1000/1000 [==============================] - 6s 6ms/step - loss: 0.6923 - accuracy: 0.5164 - val_loss: 0.7040 - val_accuracy: 0.4997\n",
      "Epoch 10/40\n",
      "1000/1000 [==============================] - 6s 6ms/step - loss: 0.6926 - accuracy: 0.5163 - val_loss: 0.6915 - val_accuracy: 0.4997\n",
      "Epoch 11/40\n",
      "1000/1000 [==============================] - 6s 6ms/step - loss: 0.6916 - accuracy: 0.5224 - val_loss: 0.6976 - val_accuracy: 0.4997\n",
      "Epoch 12/40\n",
      "1000/1000 [==============================] - 6s 6ms/step - loss: 0.6914 - accuracy: 0.5250 - val_loss: 0.6932 - val_accuracy: 0.4997\n",
      "Epoch 13/40\n",
      "1000/1000 [==============================] - 6s 6ms/step - loss: 0.6912 - accuracy: 0.5220 - val_loss: 0.6933 - val_accuracy: 0.5002\n",
      "Epoch 14/40\n",
      "1000/1000 [==============================] - 6s 6ms/step - loss: 0.6907 - accuracy: 0.5339 - val_loss: 0.6893 - val_accuracy: 0.7011\n",
      "Epoch 15/40\n",
      "1000/1000 [==============================] - 6s 6ms/step - loss: 0.6904 - accuracy: 0.5336 - val_loss: 0.6937 - val_accuracy: 0.5002\n",
      "Epoch 16/40\n",
      "1000/1000 [==============================] - 6s 6ms/step - loss: 0.6904 - accuracy: 0.5274 - val_loss: 0.6888 - val_accuracy: 0.6925\n",
      "Epoch 17/40\n",
      "1000/1000 [==============================] - 6s 6ms/step - loss: 0.6904 - accuracy: 0.5325 - val_loss: 0.6911 - val_accuracy: 0.5002\n",
      "Epoch 18/40\n",
      "1000/1000 [==============================] - 6s 6ms/step - loss: 0.6896 - accuracy: 0.5338 - val_loss: 0.6885 - val_accuracy: 0.5214\n",
      "Epoch 19/40\n",
      "1000/1000 [==============================] - 6s 6ms/step - loss: 0.6897 - accuracy: 0.5315 - val_loss: 0.6880 - val_accuracy: 0.6834\n",
      "Epoch 20/40\n",
      "1000/1000 [==============================] - 5s 5ms/step - loss: 0.6895 - accuracy: 0.5336 - val_loss: 0.6888 - val_accuracy: 0.5034\n",
      "Epoch 21/40\n",
      "1000/1000 [==============================] - 5s 5ms/step - loss: 0.6893 - accuracy: 0.5407 - val_loss: 0.6894 - val_accuracy: 0.5006\n",
      "Epoch 22/40\n",
      "1000/1000 [==============================] - 5s 5ms/step - loss: 0.6888 - accuracy: 0.5418 - val_loss: 0.6893 - val_accuracy: 0.5010\n",
      "Epoch 23/40\n",
      "1000/1000 [==============================] - 5s 5ms/step - loss: 0.6884 - accuracy: 0.5389 - val_loss: 0.6896 - val_accuracy: 0.5004\n",
      "Epoch 24/40\n",
      "1000/1000 [==============================] - 4s 4ms/step - loss: 0.6884 - accuracy: 0.5438 - val_loss: 0.6868 - val_accuracy: 0.6363\n",
      "Epoch 25/40\n",
      "1000/1000 [==============================] - 4s 4ms/step - loss: 0.6880 - accuracy: 0.5425 - val_loss: 0.6866 - val_accuracy: 0.5841\n",
      "Epoch 26/40\n",
      "1000/1000 [==============================] - 6s 6ms/step - loss: 0.6877 - accuracy: 0.5534 - val_loss: 0.6871 - val_accuracy: 0.5075\n",
      "Epoch 27/40\n",
      "1000/1000 [==============================] - 6s 6ms/step - loss: 0.6875 - accuracy: 0.5443 - val_loss: 0.6918 - val_accuracy: 0.4997\n",
      "Epoch 28/40\n",
      "1000/1000 [==============================] - 5s 5ms/step - loss: 0.6876 - accuracy: 0.5458 - val_loss: 0.6924 - val_accuracy: 0.4997\n",
      "Epoch 29/40\n",
      "1000/1000 [==============================] - 6s 6ms/step - loss: 0.6872 - accuracy: 0.5588 - val_loss: 0.6854 - val_accuracy: 0.6988\n",
      "Epoch 30/40\n",
      "1000/1000 [==============================] - 6s 6ms/step - loss: 0.6869 - accuracy: 0.5633 - val_loss: 0.6852 - val_accuracy: 0.6961\n",
      "Epoch 31/40\n",
      "1000/1000 [==============================] - 6s 6ms/step - loss: 0.6861 - accuracy: 0.5548 - val_loss: 0.6909 - val_accuracy: 0.5006\n",
      "Epoch 32/40\n",
      "1000/1000 [==============================] - 6s 6ms/step - loss: 0.6865 - accuracy: 0.5546 - val_loss: 0.6856 - val_accuracy: 0.5231\n",
      "Epoch 33/40\n",
      "1000/1000 [==============================] - 6s 6ms/step - loss: 0.6863 - accuracy: 0.5491 - val_loss: 0.6852 - val_accuracy: 0.5210\n",
      "Epoch 34/40\n",
      "1000/1000 [==============================] - 6s 6ms/step - loss: 0.6858 - accuracy: 0.5637 - val_loss: 0.6842 - val_accuracy: 0.6395\n",
      "Epoch 35/40\n",
      "1000/1000 [==============================] - 6s 6ms/step - loss: 0.6851 - accuracy: 0.5576 - val_loss: 0.6903 - val_accuracy: 0.5006\n",
      "Epoch 36/40\n",
      "1000/1000 [==============================] - 6s 6ms/step - loss: 0.6852 - accuracy: 0.5562 - val_loss: 0.6837 - val_accuracy: 0.6874\n",
      "Epoch 37/40\n",
      "1000/1000 [==============================] - 6s 6ms/step - loss: 0.6847 - accuracy: 0.5696 - val_loss: 0.6835 - val_accuracy: 0.6364\n",
      "Epoch 38/40\n",
      "1000/1000 [==============================] - 6s 6ms/step - loss: 0.6841 - accuracy: 0.5729 - val_loss: 0.6832 - val_accuracy: 0.7031\n",
      "Epoch 39/40\n",
      "1000/1000 [==============================] - 6s 6ms/step - loss: 0.6843 - accuracy: 0.5593 - val_loss: 0.6838 - val_accuracy: 0.5260\n",
      "Epoch 40/40\n",
      "1000/1000 [==============================] - 6s 6ms/step - loss: 0.6840 - accuracy: 0.5680 - val_loss: 0.6899 - val_accuracy: 0.5010\n",
      "Epoch 1/40\n",
      "1000/1000 [==============================] - 8s 7ms/step - loss: 0.7017 - accuracy: 0.5027 - val_loss: 0.7087 - val_accuracy: 0.4997\n",
      "Epoch 2/40\n",
      "1000/1000 [==============================] - 6s 6ms/step - loss: 0.6991 - accuracy: 0.5157 - val_loss: 0.6892 - val_accuracy: 0.5015\n",
      "Epoch 3/40\n",
      "1000/1000 [==============================] - 6s 6ms/step - loss: 0.6950 - accuracy: 0.5229 - val_loss: 0.6924 - val_accuracy: 0.5004\n",
      "Epoch 4/40\n",
      "1000/1000 [==============================] - 6s 6ms/step - loss: 0.6927 - accuracy: 0.5291 - val_loss: 0.6828 - val_accuracy: 0.6641\n",
      "Epoch 5/40\n",
      "1000/1000 [==============================] - 5s 5ms/step - loss: 0.6911 - accuracy: 0.5347 - val_loss: 0.6803 - val_accuracy: 0.6752\n",
      "Epoch 6/40\n",
      "1000/1000 [==============================] - 6s 6ms/step - loss: 0.6887 - accuracy: 0.5432 - val_loss: 0.6854 - val_accuracy: 0.5033\n",
      "Epoch 7/40\n",
      "1000/1000 [==============================] - 6s 6ms/step - loss: 0.6862 - accuracy: 0.5493 - val_loss: 0.6886 - val_accuracy: 0.5019\n",
      "Epoch 8/40\n",
      "1000/1000 [==============================] - 6s 6ms/step - loss: 0.6831 - accuracy: 0.5565 - val_loss: 0.6804 - val_accuracy: 0.5128\n",
      "Epoch 9/40\n",
      "1000/1000 [==============================] - 6s 6ms/step - loss: 0.6816 - accuracy: 0.5567 - val_loss: 0.6840 - val_accuracy: 0.5049\n"
     ]
    },
    {
     "name": "stdout",
     "output_type": "stream",
     "text": [
      "Epoch 10/40\n",
      "1000/1000 [==============================] - 6s 6ms/step - loss: 0.6783 - accuracy: 0.5722 - val_loss: 0.6809 - val_accuracy: 0.5070\n",
      "Epoch 11/40\n",
      "1000/1000 [==============================] - 6s 6ms/step - loss: 0.6761 - accuracy: 0.5717 - val_loss: 0.6672 - val_accuracy: 0.6616\n",
      "Epoch 12/40\n",
      "1000/1000 [==============================] - 6s 6ms/step - loss: 0.6750 - accuracy: 0.5794 - val_loss: 0.6648 - val_accuracy: 0.7166\n",
      "Epoch 13/40\n",
      "1000/1000 [==============================] - 6s 6ms/step - loss: 0.6725 - accuracy: 0.5819 - val_loss: 0.6952 - val_accuracy: 0.5031\n",
      "Epoch 14/40\n",
      "1000/1000 [==============================] - 6s 6ms/step - loss: 0.6692 - accuracy: 0.5950 - val_loss: 0.6642 - val_accuracy: 0.5865\n",
      "Epoch 15/40\n",
      "1000/1000 [==============================] - 6s 6ms/step - loss: 0.6688 - accuracy: 0.5903 - val_loss: 0.6782 - val_accuracy: 0.5141\n",
      "Epoch 16/40\n",
      "1000/1000 [==============================] - 6s 6ms/step - loss: 0.6663 - accuracy: 0.5948 - val_loss: 0.6577 - val_accuracy: 0.6914\n",
      "Epoch 17/40\n",
      "1000/1000 [==============================] - 6s 6ms/step - loss: 0.6632 - accuracy: 0.6029 - val_loss: 0.6706 - val_accuracy: 0.5217\n",
      "Epoch 18/40\n",
      "1000/1000 [==============================] - 6s 6ms/step - loss: 0.6609 - accuracy: 0.6136 - val_loss: 0.6671 - val_accuracy: 0.5356\n",
      "Epoch 19/40\n",
      "1000/1000 [==============================] - 6s 6ms/step - loss: 0.6593 - accuracy: 0.6204 - val_loss: 0.6826 - val_accuracy: 0.5125\n",
      "Epoch 20/40\n",
      "1000/1000 [==============================] - 6s 6ms/step - loss: 0.6584 - accuracy: 0.6162 - val_loss: 0.6502 - val_accuracy: 0.7197\n",
      "Epoch 21/40\n",
      "1000/1000 [==============================] - 6s 6ms/step - loss: 0.6569 - accuracy: 0.6137 - val_loss: 0.6591 - val_accuracy: 0.5502\n",
      "Epoch 22/40\n",
      "1000/1000 [==============================] - 6s 6ms/step - loss: 0.6552 - accuracy: 0.6195 - val_loss: 0.6535 - val_accuracy: 0.5829\n",
      "Epoch 23/40\n",
      "1000/1000 [==============================] - 6s 6ms/step - loss: 0.6521 - accuracy: 0.6288 - val_loss: 0.6901 - val_accuracy: 0.5092\n",
      "Epoch 24/40\n",
      "1000/1000 [==============================] - 6s 6ms/step - loss: 0.6508 - accuracy: 0.6267 - val_loss: 0.6530 - val_accuracy: 0.5714\n",
      "Epoch 25/40\n",
      "1000/1000 [==============================] - 6s 6ms/step - loss: 0.6494 - accuracy: 0.6308 - val_loss: 0.6478 - val_accuracy: 0.6087\n",
      "Epoch 26/40\n",
      "1000/1000 [==============================] - 6s 6ms/step - loss: 0.6484 - accuracy: 0.6351 - val_loss: 0.6405 - val_accuracy: 0.7067\n",
      "Epoch 27/40\n",
      "1000/1000 [==============================] - 6s 6ms/step - loss: 0.6467 - accuracy: 0.6432 - val_loss: 0.6485 - val_accuracy: 0.5899\n",
      "Epoch 28/40\n",
      "1000/1000 [==============================] - 6s 6ms/step - loss: 0.6441 - accuracy: 0.6403 - val_loss: 0.6379 - val_accuracy: 0.7203\n",
      "Epoch 29/40\n",
      "1000/1000 [==============================] - 6s 6ms/step - loss: 0.6424 - accuracy: 0.6452 - val_loss: 0.6383 - val_accuracy: 0.6614\n",
      "Epoch 30/40\n",
      "1000/1000 [==============================] - 6s 6ms/step - loss: 0.6408 - accuracy: 0.6500 - val_loss: 0.6405 - val_accuracy: 0.6246\n",
      "Epoch 31/40\n",
      "1000/1000 [==============================] - 6s 6ms/step - loss: 0.6390 - accuracy: 0.6528 - val_loss: 0.6343 - val_accuracy: 0.6848\n",
      "Epoch 32/40\n",
      "1000/1000 [==============================] - 6s 6ms/step - loss: 0.6391 - accuracy: 0.6497 - val_loss: 0.6791 - val_accuracy: 0.5225\n",
      "Epoch 33/40\n",
      "1000/1000 [==============================] - 6s 6ms/step - loss: 0.6370 - accuracy: 0.6537 - val_loss: 0.6340 - val_accuracy: 0.6710\n",
      "Epoch 34/40\n",
      "1000/1000 [==============================] - 6s 6ms/step - loss: 0.6352 - accuracy: 0.6623 - val_loss: 0.6308 - val_accuracy: 0.7031\n",
      "Epoch 35/40\n",
      "1000/1000 [==============================] - 6s 6ms/step - loss: 0.6333 - accuracy: 0.6597 - val_loss: 0.6275 - val_accuracy: 0.7330\n",
      "Epoch 36/40\n",
      "1000/1000 [==============================] - 6s 6ms/step - loss: 0.6332 - accuracy: 0.6575 - val_loss: 0.6266 - val_accuracy: 0.7151\n",
      "Epoch 37/40\n",
      "1000/1000 [==============================] - 6s 6ms/step - loss: 0.6310 - accuracy: 0.6686 - val_loss: 0.6272 - val_accuracy: 0.7034\n",
      "Epoch 38/40\n",
      "1000/1000 [==============================] - 6s 6ms/step - loss: 0.6294 - accuracy: 0.6664 - val_loss: 0.6253 - val_accuracy: 0.7175\n",
      "Epoch 39/40\n",
      "1000/1000 [==============================] - 6s 6ms/step - loss: 0.6292 - accuracy: 0.6665 - val_loss: 0.6227 - val_accuracy: 0.7200\n",
      "Epoch 40/40\n",
      "1000/1000 [==============================] - 6s 6ms/step - loss: 0.6281 - accuracy: 0.6719 - val_loss: 0.6308 - val_accuracy: 0.6315\n"
     ]
    }
   ],
   "source": [
    "grid_rate=[0.005, 0.01, 0.05, 0.1, 1]\n",
    "accuracy=[]\n",
    "for x in grid_rate:\n",
    "    model_sgd = Sequential([\n",
    "    Dense(1, activation='sigmoid', input_shape=(x_train.shape[1],))])\n",
    "    optimizer = tf.keras.optimizers.SGD(learning_rate=x, momentum=0.9, nesterov=True)\n",
    "    model_sgd.compile(optimizer=optimizer,\n",
    "              loss='binary_crossentropy',\n",
    "              metrics=['accuracy'])\n",
    "    history_sgd = model_sgd.fit(x_train, y_train_, epochs=40, validation_data=(x_test, y_test_))\n",
    "    accuracy.append(history_sgd.history['val_accuracy'])"
   ]
  },
  {
   "cell_type": "code",
   "execution_count": 25,
   "id": "813f842d",
   "metadata": {},
   "outputs": [
    {
     "data": {
      "image/png": "[encoded data removed]",
      "text/plain": [
       "<Figure size 600x400 with 1 Axes>"
      ]
     },
     "metadata": {},
     "output_type": "display_data"
    }
   ],
   "source": [
    "plt.figure(figsize=(6,4))\n",
    "plt.xlabel('Epochs')\n",
    "plt.ylabel('Accuracy')\n",
    "epochs = range(1, len(accuracy[0]) + 1)\n",
    "for i in range(len(accuracy)):\n",
    "    plt.plot(epochs,accuracy[i],label=f'α={grid_rate[i]}')\n",
    "plt.legend()\n",
    "plt.title('Influence of the learning rate on accuracy')\n",
    "plt.show()"
   ]
  },
  {
   "cell_type": "code",
   "execution_count": null,
   "id": "177ffe4f",
   "metadata": {},
   "outputs": [],
   "source": []
  }
 ],
 "metadata": {
  "kernelspec": {
   "display_name": "Python 3 (ipykernel)",
   "language": "python",
   "name": "python3"
  },
  "language_info": {
   "codemirror_mode": {
    "name": "ipython",
    "version": 3
   },
   "file_extension": ".py",
   "mimetype": "text/x-python",
   "name": "python",
   "nbconvert_exporter": "python",
   "pygments_lexer": "ipython3",
   "version": "3.11.4"
  }
 },
 "nbformat": 4,
 "nbformat_minor": 5
}
